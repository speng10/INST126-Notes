{
 "cells": [
  {
   "cell_type": "markdown",
   "metadata": {
    "id": "IUP5mKyTxbRy"
   },
   "source": [
    "# Week 2 - Day 2 - Expressions and Variables (continued)"
   ]
  },
  {
   "cell_type": "markdown",
   "metadata": {
    "id": "TB-Kg9GExbRz"
   },
   "source": [
    "## Learning goals for today:\n",
    "\n",
    "- Articulate basic principles of variable naming\n",
    "- Recognize good and bad examples of variable naming\n",
    "- Explain the relationship between functions and variables\n",
    "- Convert values to different data types\n",
    "- Create a new variable\n",
    "- Update a variable\n",
    "- Update a variable as a function of other variables"
   ]
  },
  {
   "cell_type": "markdown",
   "metadata": {
    "id": "AthHxnHKzwl7"
   },
   "source": [
    "## Choosing names for your variables"
   ]
  },
  {
   "cell_type": "markdown",
   "metadata": {
    "id": "TnA95kuoz5hf"
   },
   "source": [
    "Last time we talked about variables as boxes with labels (names) on it. How do we choose what to name the boxes?\n",
    "\n",
    "In terms of **syntax** (remember our division between computational thinking and coding? this is coding), there aren't a ton of restrictions for naming variables:\n",
    "- Must contain at least one letter\n",
    "- Must start with a letter or an underscore (`_`)\n",
    "- Must not be a \"reserved word\"\n",
    "  - Non-exhaustive list: `False`, `None`, `class`, `if`, `and`, `as`, `else`\n",
    "  - Full list [here](https://www.w3schools.com/python/python_ref_keywords.asp) (can also Google \"python reserved words\". Don't need to memorize (you'll naturally remember this over time), but definitely keep handy"
   ]
  },
  {
   "cell_type": "code",
   "execution_count": 1,
   "metadata": {
    "id": "7ZPkauZbFCx0"
   },
   "outputs": [],
   "source": [
    "ten2 = 5"
   ]
  },
  {
   "cell_type": "code",
   "execution_count": 2,
   "metadata": {
    "colab": {
     "base_uri": "https://localhost:8080/"
    },
    "executionInfo": {
     "elapsed": 277,
     "status": "ok",
     "timestamp": 1612191146085,
     "user": {
      "displayName": "Joel Chan",
      "photoUrl": "https://lh3.googleusercontent.com/a-/AOh14GiBPPpBf_QqgDL3pMurAsPu9WJJE_x_6UtgW13UFQ=s64",
      "userId": "15153559228409906865"
     },
     "user_tz": 300
    },
    "id": "xtI7oLm4FJOd",
    "outputId": "28c49056-b567-45b4-d94f-38c959a5c5a2"
   },
   "outputs": [
    {
     "data": {
      "text/plain": [
       "5"
      ]
     },
     "execution_count": 2,
     "metadata": {},
     "output_type": "execute_result"
    }
   ],
   "source": [
    "ten2"
   ]
  },
  {
   "cell_type": "code",
   "execution_count": 3,
   "metadata": {
    "colab": {
     "base_uri": "https://localhost:8080/",
     "height": 135
    },
    "executionInfo": {
     "elapsed": 374,
     "status": "error",
     "timestamp": 1612191107104,
     "user": {
      "displayName": "Joel Chan",
      "photoUrl": "https://lh3.googleusercontent.com/a-/AOh14GiBPPpBf_QqgDL3pMurAsPu9WJJE_x_6UtgW13UFQ=s64",
      "userId": "15153559228409906865"
     },
     "user_tz": 300
    },
    "id": "MCLhX2Q9cEBW",
    "outputId": "a2e85487-3bfb-45e9-a12c-1f108ebff8f4"
   },
   "outputs": [
    {
     "ename": "SyntaxError",
     "evalue": "cannot assign to None (774819309.py, line 1)",
     "output_type": "error",
     "traceback": [
      "\u001b[0;36m  File \u001b[0;32m\"/var/folders/dn/bbrktyl55qlbxbnhvk_qjb000000gn/T/ipykernel_2323/774819309.py\"\u001b[0;36m, line \u001b[0;32m1\u001b[0m\n\u001b[0;31m    None = 6\u001b[0m\n\u001b[0m    ^\u001b[0m\n\u001b[0;31mSyntaxError\u001b[0m\u001b[0;31m:\u001b[0m cannot assign to None\n"
     ]
    }
   ],
   "source": [
    "None = 6"
   ]
  },
  {
   "cell_type": "markdown",
   "metadata": {
    "id": "za3bHjsa0zCu"
   },
   "source": [
    "The more important piece is the computational thinking piece. How do you choose variable names that assist with your ability to formulate problems, model data, and debug your programs?\n",
    "\n",
    "Our **fundamental principle** here is: *choose names that make the logic of the program legible*."
   ]
  },
  {
   "cell_type": "markdown",
   "metadata": {
    "id": "WYagbMRI2R1Q"
   },
   "source": [
    "Let's look at some examples of how this plays out.\n",
    "\n",
    "Which is clearer?"
   ]
  },
  {
   "cell_type": "code",
   "execution_count": 4,
   "metadata": {
    "id": "Z3-H7DPa1jf4"
   },
   "outputs": [
    {
     "name": "stdout",
     "output_type": "stream",
     "text": [
      "437.5\n"
     ]
    }
   ],
   "source": [
    "a = 35.0\n",
    "b = 12.50\n",
    "c = a * b\n",
    "print(c)"
   ]
  },
  {
   "cell_type": "code",
   "execution_count": 5,
   "metadata": {
    "colab": {
     "base_uri": "https://localhost:8080/"
    },
    "executionInfo": {
     "elapsed": 295,
     "status": "ok",
     "timestamp": 1612191324839,
     "user": {
      "displayName": "Joel Chan",
      "photoUrl": "https://lh3.googleusercontent.com/a-/AOh14GiBPPpBf_QqgDL3pMurAsPu9WJJE_x_6UtgW13UFQ=s64",
      "userId": "15153559228409906865"
     },
     "user_tz": 300
    },
    "id": "c25hZwjc1jUx",
    "outputId": "12442e9a-5378-45fe-b423-8997c6c7652d"
   },
   "outputs": [
    {
     "name": "stdout",
     "output_type": "stream",
     "text": [
      "420.0\n"
     ]
    }
   ],
   "source": [
    "hours = 35.0\n",
    "rate = 12\n",
    "pay = hours * rate\n",
    "print(pay)"
   ]
  },
  {
   "cell_type": "markdown",
   "metadata": {
    "id": "_oNGbV9N2U8J"
   },
   "source": [
    "Which is clearer?"
   ]
  },
  {
   "cell_type": "code",
   "execution_count": 6,
   "metadata": {
    "id": "Y1WJPU1mz2me"
   },
   "outputs": [
    {
     "name": "stdout",
     "output_type": "stream",
     "text": [
      "Found!\n"
     ]
    }
   ],
   "source": [
    "x = \"Hello world, my name is Joel, and I am learning Python\"\n",
    "y = \"name\"\n",
    "\n",
    "for a in x.split():\n",
    "    if a == y:\n",
    "        print(\"Found!\")"
   ]
  },
  {
   "cell_type": "code",
   "execution_count": 7,
   "metadata": {
    "colab": {
     "base_uri": "https://localhost:8080/"
    },
    "executionInfo": {
     "elapsed": 367,
     "status": "ok",
     "timestamp": 1612191628598,
     "user": {
      "displayName": "Joel Chan",
      "photoUrl": "https://lh3.googleusercontent.com/a-/AOh14GiBPPpBf_QqgDL3pMurAsPu9WJJE_x_6UtgW13UFQ=s64",
      "userId": "15153559228409906865"
     },
     "user_tz": 300
    },
    "id": "pkJXou6l0-xa",
    "outputId": "741d2a82-da25-4bdd-bb5a-f206991ebbda"
   },
   "outputs": [
    {
     "name": "stdout",
     "output_type": "stream",
     "text": [
      "['Hello', 'world,', 'my', 'name', 'is', 'Joel,', 'and', 'I', 'am', 'learning', 'Python']\n",
      "Found!\n"
     ]
    }
   ],
   "source": [
    "sentence = \"Hello world, my name is Joel, and I am learning Python\"\n",
    "keyword = \"name\"\n",
    "\n",
    "words = sentence.split()\n",
    "print(words)\n",
    "for word in words:\n",
    "    if word == keyword:\n",
    "        print(\"Found!\")"
   ]
  },
  {
   "cell_type": "markdown",
   "metadata": {
    "id": "zV8phUnb2XY7"
   },
   "source": [
    "By convention, you might see people use certain names for certain kinds of things. For example, `i` is often used to refer to a counter value\n",
    "`s` (or some variant of it) is often used to refer to a string.\n",
    "\n",
    "You should feel free to name variables whatever makes sense to you, as long as you feel they accurately signal the logic of the program they're in. Your future self (and current/future collaborators) will thank you for following this fundamental principle. You'll be surprised how often you can get unstuck simply by clarifying the names of the variables (which makes the structure of the program clearer, and the source of the problem obvious)."
   ]
  },
  {
   "cell_type": "code",
   "execution_count": 8,
   "metadata": {
    "id": "Lylb9MwAdrgJ"
   },
   "outputs": [
    {
     "data": {
      "text/plain": [
       "18.21"
      ]
     },
     "execution_count": 8,
     "metadata": {},
     "output_type": "execute_result"
    }
   ],
   "source": [
    "# example: debug a program that computes a total check with 20% tip after accounting for 7% tax\n",
    "\n",
    "checkBeforeTax = 15.00\n",
    "tipPercent = 0.2\n",
    "tax = 0.07\n",
    "\n",
    "tipAmount = tipPercent * (checkBeforeTax + checkBeforeTax*tax)\n",
    "total = checkBeforeTax + tipAmount\n",
    "total"
   ]
  },
  {
   "cell_type": "markdown",
   "metadata": {},
   "source": [
    "## A brief introduction to functions"
   ]
  },
  {
   "cell_type": "markdown",
   "metadata": {},
   "source": [
    "We will talk much more about functions next week. For now, let's get introduced to them enough to be able to do this week's PCEs.\n",
    "\n",
    "I find it helpful to think about functions as machines; boxes that take some input, do something with it, and (usually) produce some output.\n",
    "\n",
    "Let's look at an example: a simple function that converts minutes (input) to hours (output)."
   ]
  },
  {
   "cell_type": "code",
   "execution_count": 9,
   "metadata": {},
   "outputs": [],
   "source": [
    "def minutes_to_hours(minutes):\n",
    "    result = minutes/60\n",
    "    return result"
   ]
  },
  {
   "cell_type": "markdown",
   "metadata": {},
   "source": [
    "Here's a quick breakdown of its parts:\n",
    "\n",
    "<img src=\"../resources/anatomy of a function.png\" height=400 width=600></img>"
   ]
  },
  {
   "cell_type": "markdown",
   "metadata": {},
   "source": [
    "Now let's run the cell with the function in it.\n",
    "\n",
    "Notice what happened when we ran it?\n",
    "\n",
    "It's similar to what happened when we ran an assignment statement. No output! \n",
    "\n",
    "What's going on?\n",
    "\n",
    "When we run a chunk of code that is a function definition, we are essentially doing the same thing as a variable assignment statement: we are telling Python to *save this chunk of code for later use, and put it in the box with the name we just defined*.\n",
    "\n",
    "Once we do this, we can refer to it and use it in later code, just like a variable. In this special case, when we use functions later one, programmers like to say that the code is *calling* the function. It doesn't make a ton of sense, but you'll see this a lot. The best I can find abt why it's called \"calling\" a function is [this Stack Exchange post](https://softwareengineering.stackexchange.com/questions/253694/where-did-the-notion-of-calling-a-function-come-from).\n",
    "\n",
    "Let's look at an example."
   ]
  },
  {
   "cell_type": "code",
   "execution_count": 10,
   "metadata": {},
   "outputs": [
    {
     "data": {
      "text/plain": [
       "1.5"
      ]
     },
     "execution_count": 10,
     "metadata": {},
     "output_type": "execute_result"
    }
   ],
   "source": [
    "mins = 90\n",
    "minutes_to_hours(mins)"
   ]
  },
  {
   "cell_type": "markdown",
   "metadata": {},
   "source": [
    "Notice here that we are passing in an input (here, mins, a variable that holds the `int` value `90`), and it is yielding the *output* of `1.5`, just like we asked for in the function definition. What's happening here is that Python is retrieving the chunk of code associated with the label `minutes_to_hours`, and running it. There's a bit more to this that we need to understand (specifically around parameters and arguments), but we can leave that safely to next week.\n",
    "\n",
    "For now, I just want you to also observe that we can make the same sorts of errors with a function as we would a variable"
   ]
  },
  {
   "cell_type": "code",
   "execution_count": 11,
   "metadata": {},
   "outputs": [
    {
     "data": {
      "text/plain": [
       "1.5"
      ]
     },
     "execution_count": 11,
     "metadata": {},
     "output_type": "execute_result"
    }
   ],
   "source": [
    "minutes_to_hours(mins)"
   ]
  },
  {
   "cell_type": "markdown",
   "metadata": {},
   "source": [
    "Recognize this error??? What does it tell you is a possible issue and fix?"
   ]
  },
  {
   "cell_type": "markdown",
   "metadata": {},
   "source": [
    "Ok that's about all I think we need to know about functions today:\n",
    "1. They're boxes that contain chunks of code we can run at later times\n",
    "2. They take in some input and (usually) produce some output\n",
    "3. Like variables, you need to \"run\"/declare them to Python before you use them. Otherwise, you get a name error.\n",
    "\n",
    "Let's dive into our PCE for Expressions and Variables!"
   ]
  }
 ],
 "metadata": {
  "colab": {
   "name": "INST126_SP21_Week2_Variables_post-class.ipynb",
   "provenance": []
  },
  "kernelspec": {
   "display_name": "Python 3 (ipykernel)",
   "language": "python",
   "name": "python3"
  },
  "language_info": {
   "codemirror_mode": {
    "name": "ipython",
    "version": 3
   },
   "file_extension": ".py",
   "mimetype": "text/x-python",
   "name": "python",
   "nbconvert_exporter": "python",
   "pygments_lexer": "ipython3",
   "version": "3.9.7"
  },
  "toc": {
   "base_numbering": 1,
   "nav_menu": {},
   "number_sections": true,
   "sideBar": true,
   "skip_h1_title": false,
   "title_cell": "Table of Contents",
   "title_sidebar": "Contents",
   "toc_cell": false,
   "toc_position": {},
   "toc_section_display": true,
   "toc_window_display": false
  }
 },
 "nbformat": 4,
 "nbformat_minor": 2
}
