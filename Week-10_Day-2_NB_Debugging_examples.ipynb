{
 "cells": [
  {
   "cell_type": "markdown",
   "metadata": {
    "id": "ObSubDjaEtPK"
   },
   "source": [
    "# Semantic Errors\n",
    "\n",
    "Semantic errors come about when your program does not work as it is supposed to. These usually do not lead to an actual error message, the program instead outputs something you did not expect or want, or does not output anything when you were expecting it to.\n",
    "\n"
   ]
  },
  {
   "cell_type": "markdown",
   "metadata": {
    "id": "C1iRRxXuKNOr"
   },
   "source": [
    "### Example 1\n",
    "\n",
    "Intent: program that takes two numbers by user input, adds them together, and prints the sum\n"
   ]
  },
  {
   "cell_type": "code",
   "execution_count": 4,
   "metadata": {
    "colab": {
     "base_uri": "https://localhost:8080/"
    },
    "id": "LT6-XER2KRIc",
    "outputId": "53fc71ff-3ae8-4377-a7c1-66f0b2296030"
   },
   "outputs": [
    {
     "name": "stdout",
     "output_type": "stream",
     "text": [
      "Enter a number:1\n",
      "Enter another number:2\n",
      "The sum of 1 and 2 is 3\n"
     ]
    }
   ],
   "source": [
    "num1 = input('Enter a number:') \n",
    "num2 = input('Enter another number:') \n",
    "result = int(num1) + int(num2) \n",
    "print('The sum of', num1, 'and', num2, 'is', result)"
   ]
  },
  {
   "cell_type": "code",
   "execution_count": null,
   "metadata": {
    "id": "wMaJlty2UnZV"
   },
   "outputs": [],
   "source": [
    "# debugging notes here!\n",
    "\n",
    "# what did you expect?\n",
    "#to take the input numbers and add them together\n",
    "\n",
    "# what did you see instead?\n",
    "#the input is a string so it concatenating\n",
    "# what do you think is going on? what's the mismatch between your model and the computer's?\n",
    "# checklist of strategies to draw from:\n",
    "# [ ] model\n",
    "# [ ] document/comment the code\n",
    "# [ ] test with diff. inputs\n",
    "# [ ] add print statements to help model what is happening / use python tutor"
   ]
  },
  {
   "cell_type": "markdown",
   "metadata": {
    "id": "E0DyH3w2KP7B"
   },
   "source": [
    "### Example 2\n",
    "Intent: program that subtracts 2 from a given number until it reaches 0 "
   ]
  },
  {
   "cell_type": "code",
   "execution_count": 18,
   "metadata": {
    "colab": {
     "base_uri": "https://localhost:8080/"
    },
    "id": "OoyNoz3xL5zq",
    "outputId": "74009f8a-cea6-4eac-c317-adc223e10d06",
    "scrolled": true
   },
   "outputs": [
    {
     "name": "stdout",
     "output_type": "stream",
     "text": [
      "num is now 28\n",
      "num is now 26\n",
      "num is now 24\n",
      "num is now 22\n",
      "num is now 20\n",
      "num is now 18\n",
      "num is now 16\n",
      "num is now 14\n",
      "num is now 12\n",
      "num is now 10\n",
      "num is now 8\n",
      "num is now 6\n",
      "num is now 4\n",
      "num is now 2\n",
      "num is now 0\n"
     ]
    }
   ],
   "source": [
    "num = 30 \n",
    "while num >  0: \n",
    "    num = num - 2\n",
    "    print(f'num is now {num}') "
   ]
  },
  {
   "cell_type": "code",
   "execution_count": null,
   "metadata": {
    "id": "wMaJlty2UnZV"
   },
   "outputs": [],
   "source": [
    "# debugging notes here!\n",
    "\n",
    "# what did you expect?\n",
    "#you want it to substract 2 unless is 0 \n",
    "# what did you see instead?\n",
    "#it goes past 0 \n",
    "\n",
    "# what do you think is going on? what's the mismatch between your model and the computer's?\n",
    "#take out the equal sign becuase it'll stop\n",
    "# checklist of strategies to draw from:\n",
    "# [ ] model\n",
    "# [ ] document/comment the code\n",
    "# [ ] test with diff. inputs\n",
    "# [ ] add print statements to help model what is happening / use python tutor"
   ]
  },
  {
   "cell_type": "markdown",
   "metadata": {
    "id": "U1NTw-_YOnX-"
   },
   "source": [
    "### Example 3\n",
    "Intent: program that prints all even numbers from 1 to 10"
   ]
  },
  {
   "cell_type": "code",
   "execution_count": 20,
   "metadata": {
    "colab": {
     "base_uri": "https://localhost:8080/"
    },
    "id": "RbXoLSMBOn4T",
    "outputId": "bfadb405-61cc-44dd-b06f-b52355fe4e18",
    "scrolled": true
   },
   "outputs": [
    {
     "name": "stdout",
     "output_type": "stream",
     "text": [
      "2\n",
      "4\n",
      "6\n",
      "8\n",
      "10\n"
     ]
    }
   ],
   "source": [
    "nums = [1,2,3,4,5,6,7,8,9,10]\n",
    "for num in nums: \n",
    "    if num%2 == 0: \n",
    "        print(num) "
   ]
  },
  {
   "cell_type": "code",
   "execution_count": null,
   "metadata": {
    "id": "wMaJlty2UnZV"
   },
   "outputs": [],
   "source": [
    "# debugging notes here!\n",
    "\n",
    "# what did you expect?\n",
    "#for it to print all even numbers from 1-10\n",
    "# what did you see instead?\n",
    "#print list of everything instead of just the odd numbers\n",
    "# what do you think is going on? what's the mismatch between your model and the computer's?\n",
    "#the mismatch is that it has to print num, and the num%2 has to == to 0 and not not0\n",
    "# checklist of strategies to draw from:\n",
    "# [ ] model\n",
    "# [ ] document/comment the code\n",
    "# [ ] test with diff. inputs\n",
    "# [ ] add print statements to help model what is happening / use python tutor"
   ]
  },
  {
   "cell_type": "markdown",
   "metadata": {
    "id": "vDO4T3SMOoM1"
   },
   "source": [
    "### Example 4\n",
    "\n",
    "Intent: program that takes two numbers and prints out if the first number is greater than or less than the second number"
   ]
  },
  {
   "cell_type": "code",
   "execution_count": 6,
   "metadata": {
    "colab": {
     "base_uri": "https://localhost:8080/"
    },
    "id": "bCuTAeToaoEh",
    "outputId": "78989a48-d33a-422e-c55b-ecce5a84c137"
   },
   "outputs": [
    {
     "name": "stdout",
     "output_type": "stream",
     "text": [
      "a is less than b\n"
     ]
    }
   ],
   "source": [
    "a = 3\n",
    "b = 3\n",
    "\n",
    "if (a > b):\n",
    "    print(\"a is greater than b\")\n",
    "else:\n",
    "    print(\"a is less than b\")"
   ]
  },
  {
   "cell_type": "code",
   "execution_count": null,
   "metadata": {
    "id": "wMaJlty2UnZV"
   },
   "outputs": [],
   "source": [
    "# debugging notes here!\n",
    "\n",
    "# what did you expect?\n",
    "\n",
    "# what did you see instead?\n",
    "\n",
    "# what do you think is going on? what's the mismatch between your model and the computer's?\n",
    "# checklist of strategies to draw from:\n",
    "# [ ] model\n",
    "# [ ] document/comment the code\n",
    "# [ ] test with diff. inputs\n",
    "# [ ] add print statements to help model what is happening / use python tutor"
   ]
  },
  {
   "cell_type": "markdown",
   "metadata": {
    "id": "NUkXtgHSnj-K"
   },
   "source": [
    "### Example 5\n",
    "\n",
    "Intent: program that adds course codes (strings) from one list to a new list if the courses are from INST (contain code INST)"
   ]
  },
  {
   "cell_type": "code",
   "execution_count": 7,
   "metadata": {
    "colab": {
     "base_uri": "https://localhost:8080/"
    },
    "id": "E4BcSLFwnixl",
    "outputId": "eb4fd261-9b5c-4e50-8d49-b419808a154e"
   },
   "outputs": [
    {
     "name": "stdout",
     "output_type": "stream",
     "text": [
      "[]\n"
     ]
    }
   ],
   "source": [
    "items = [\"INST201\", \"CMSC100\", \"STAT100\", \"INST126\", \"INST326\"]\n",
    "output = []\n",
    "keyphrase = \"INST\"\n",
    "for item in items:\n",
    "    if \"INST\" in items:\n",
    "        output.append(item)\n",
    "print(output)"
   ]
  },
  {
   "cell_type": "code",
   "execution_count": null,
   "metadata": {
    "id": "wMaJlty2UnZV"
   },
   "outputs": [],
   "source": [
    "# debugging notes here!\n",
    "\n",
    "# what did you expect?\n",
    "\n",
    "# what did you see instead?\n",
    "\n",
    "# what do you think is going on? what's the mismatch between your model and the computer's?\n",
    "# checklist of strategies to draw from:\n",
    "# [ ] model\n",
    "# [ ] document/comment the code\n",
    "# [ ] test with diff. inputs\n",
    "# [ ] add print statements to help model what is happening / use python tutor"
   ]
  },
  {
   "cell_type": "markdown",
   "metadata": {
    "id": "i6P2y7MNbTU8"
   },
   "source": [
    "# Syntax Errors\n",
    "Syntax errors come from the user failing to follow the set rules given by python. These almost always lead to some type of error message\n"
   ]
  },
  {
   "cell_type": "markdown",
   "metadata": {
    "id": "Q7jbvjsBNfNn"
   },
   "source": [
    "### Example 1\n",
    "\n",
    "Intent: Program that checks if a number is even or odd\n"
   ]
  },
  {
   "cell_type": "code",
   "execution_count": 13,
   "metadata": {
    "colab": {
     "base_uri": "https://localhost:8080/"
    },
    "id": "3iEYFrSVaBcu",
    "outputId": "16884844-705c-4bf1-9618-a8e1e93a003d"
   },
   "outputs": [
    {
     "ename": "KeyboardInterrupt",
     "evalue": "Interrupted by user",
     "output_type": "error",
     "traceback": [
      "\u001b[0;31m---------------------------------------------------------------------------\u001b[0m",
      "\u001b[0;31mKeyboardInterrupt\u001b[0m                         Traceback (most recent call last)",
      "\u001b[0;32m/var/folders/dn/bbrktyl55qlbxbnhvk_qjb000000gn/T/ipykernel_16154/1932909645.py\u001b[0m in \u001b[0;36m<module>\u001b[0;34m\u001b[0m\n\u001b[0;32m----> 1\u001b[0;31m \u001b[0mx\u001b[0m \u001b[0;34m=\u001b[0m \u001b[0minput\u001b[0m\u001b[0;34m(\u001b[0m\u001b[0;34m'Enter a number (or \"exit\" to quit): '\u001b[0m\u001b[0;34m)\u001b[0m \u001b[0;31m# get initial input from user\u001b[0m\u001b[0;34m\u001b[0m\u001b[0;34m\u001b[0m\u001b[0m\n\u001b[0m\u001b[1;32m      2\u001b[0m \u001b[0;34m\u001b[0m\u001b[0m\n\u001b[1;32m      3\u001b[0m \u001b[0;32mwhile\u001b[0m \u001b[0mx\u001b[0m \u001b[0;34m!=\u001b[0m \u001b[0;34m\"exit\"\u001b[0m\u001b[0;34m:\u001b[0m \u001b[0;31m# check if we should keep going (stop if user says \"exit\")\u001b[0m\u001b[0;34m\u001b[0m\u001b[0;34m\u001b[0m\u001b[0m\n\u001b[1;32m      4\u001b[0m     \u001b[0;32mif\u001b[0m \u001b[0mint\u001b[0m\u001b[0;34m(\u001b[0m\u001b[0mx\u001b[0m\u001b[0;34m)\u001b[0m\u001b[0;34m%\u001b[0m\u001b[0;36m2\u001b[0m \u001b[0;34m==\u001b[0m \u001b[0;36m0\u001b[0m\u001b[0;34m:\u001b[0m \u001b[0;31m# check if number is even\u001b[0m\u001b[0;34m\u001b[0m\u001b[0;34m\u001b[0m\u001b[0m\n\u001b[1;32m      5\u001b[0m         \u001b[0mprint\u001b[0m\u001b[0;34m(\u001b[0m\u001b[0;34m'You have entered an even number.'\u001b[0m\u001b[0;34m)\u001b[0m\u001b[0;34m\u001b[0m\u001b[0;34m\u001b[0m\u001b[0m\n",
      "\u001b[0;32m~/opt/anaconda3/lib/python3.9/site-packages/ipykernel/kernelbase.py\u001b[0m in \u001b[0;36mraw_input\u001b[0;34m(self, prompt)\u001b[0m\n\u001b[1;32m   1004\u001b[0m                 \u001b[0;34m\"raw_input was called, but this frontend does not support input requests.\"\u001b[0m\u001b[0;34m\u001b[0m\u001b[0;34m\u001b[0m\u001b[0m\n\u001b[1;32m   1005\u001b[0m             )\n\u001b[0;32m-> 1006\u001b[0;31m         return self._input_request(\n\u001b[0m\u001b[1;32m   1007\u001b[0m             \u001b[0mstr\u001b[0m\u001b[0;34m(\u001b[0m\u001b[0mprompt\u001b[0m\u001b[0;34m)\u001b[0m\u001b[0;34m,\u001b[0m\u001b[0;34m\u001b[0m\u001b[0;34m\u001b[0m\u001b[0m\n\u001b[1;32m   1008\u001b[0m             \u001b[0mself\u001b[0m\u001b[0;34m.\u001b[0m\u001b[0m_parent_ident\u001b[0m\u001b[0;34m[\u001b[0m\u001b[0;34m\"shell\"\u001b[0m\u001b[0;34m]\u001b[0m\u001b[0;34m,\u001b[0m\u001b[0;34m\u001b[0m\u001b[0;34m\u001b[0m\u001b[0m\n",
      "\u001b[0;32m~/opt/anaconda3/lib/python3.9/site-packages/ipykernel/kernelbase.py\u001b[0m in \u001b[0;36m_input_request\u001b[0;34m(self, prompt, ident, parent, password)\u001b[0m\n\u001b[1;32m   1049\u001b[0m             \u001b[0;32mexcept\u001b[0m \u001b[0mKeyboardInterrupt\u001b[0m\u001b[0;34m:\u001b[0m\u001b[0;34m\u001b[0m\u001b[0;34m\u001b[0m\u001b[0m\n\u001b[1;32m   1050\u001b[0m                 \u001b[0;31m# re-raise KeyboardInterrupt, to truncate traceback\u001b[0m\u001b[0;34m\u001b[0m\u001b[0;34m\u001b[0m\u001b[0m\n\u001b[0;32m-> 1051\u001b[0;31m                 \u001b[0;32mraise\u001b[0m \u001b[0mKeyboardInterrupt\u001b[0m\u001b[0;34m(\u001b[0m\u001b[0;34m\"Interrupted by user\"\u001b[0m\u001b[0;34m)\u001b[0m \u001b[0;32mfrom\u001b[0m \u001b[0;32mNone\u001b[0m\u001b[0;34m\u001b[0m\u001b[0;34m\u001b[0m\u001b[0m\n\u001b[0m\u001b[1;32m   1052\u001b[0m             \u001b[0;32mexcept\u001b[0m \u001b[0mException\u001b[0m\u001b[0;34m:\u001b[0m\u001b[0;34m\u001b[0m\u001b[0;34m\u001b[0m\u001b[0m\n\u001b[1;32m   1053\u001b[0m                 \u001b[0mself\u001b[0m\u001b[0;34m.\u001b[0m\u001b[0mlog\u001b[0m\u001b[0;34m.\u001b[0m\u001b[0mwarning\u001b[0m\u001b[0;34m(\u001b[0m\u001b[0;34m\"Invalid Message:\"\u001b[0m\u001b[0;34m,\u001b[0m \u001b[0mexc_info\u001b[0m\u001b[0;34m=\u001b[0m\u001b[0;32mTrue\u001b[0m\u001b[0;34m)\u001b[0m\u001b[0;34m\u001b[0m\u001b[0;34m\u001b[0m\u001b[0m\n",
      "\u001b[0;31mKeyboardInterrupt\u001b[0m: Interrupted by user"
     ]
    }
   ],
   "source": [
    "x = input('Enter a number (or \"exit\" to quit): ') # get initial input from user\n",
    "\n",
    "while x != \"exit\": # check if we should keep going (stop if user says \"exit\")\n",
    "    if int(x)%2 == 0: # check if number is even\n",
    "        print('You have entered an even number.')\n",
    "    else:\n",
    "        print('You have entered an odd number.')\n",
    "    x = input('Enter a number (or \"exit\" to quit): ') # get new input from user"
   ]
  },
  {
   "cell_type": "code",
   "execution_count": null,
   "metadata": {
    "id": "wMaJlty2UnZV"
   },
   "outputs": [],
   "source": [
    "# debugging notes here!\n",
    "\n",
    "# what did you expect?\n",
    "#Take x the number from the input \n",
    "#while x does not equal \"exit\" then go through if statement\n",
    "#if the int(x)%2 is 0 then it is an even number\n",
    "#else then it is anodd number\n",
    "\n",
    "# what did you see instead?\n",
    "#the number intx%2 needs to be compared to 0 not be 0, so you need ==\n",
    "\n",
    "# what do you think is going on? what's the mismatch between your model and the computer's?\n",
    "# checklist of strategies to draw from:\n",
    "# [ ] model\n",
    "# [ ] document/comment the code\n",
    "# [ ] test with diff. inputs\n",
    "# [ ] add print statements to help model what is happening / use python tutor"
   ]
  },
  {
   "cell_type": "markdown",
   "metadata": {
    "id": "GSe-4gDMO8vr"
   },
   "source": [
    "### Example 2\n",
    "Intent: program that checks if a list of numbers are even or odd "
   ]
  },
  {
   "cell_type": "code",
   "execution_count": 14,
   "metadata": {
    "colab": {
     "base_uri": "https://localhost:8080/",
     "height": 135
    },
    "id": "m4KRA3M4O8_C",
    "outputId": "992dc740-705e-4f04-ae88-5d293680884d"
   },
   "outputs": [
    {
     "name": "stdout",
     "output_type": "stream",
     "text": [
      "Odd\n",
      "Even\n",
      "Even\n",
      "Odd\n",
      "Even\n",
      "Even\n",
      "Odd\n"
     ]
    }
   ],
   "source": [
    "numbers = [3, 14, 58, 9, 88, 104, 25]\n",
    "\n",
    "for num in numbers:\n",
    "    if num % 2 == 0:\n",
    "        print(\"Even\")\n",
    "    else:\n",
    "        print(\"Odd\")"
   ]
  },
  {
   "cell_type": "code",
   "execution_count": null,
   "metadata": {
    "id": "wMaJlty2UnZV"
   },
   "outputs": [],
   "source": [
    "# debugging notes here!\n",
    "\n",
    "# what did you expect?\n",
    "#run through the for loop for all of the numbers in the list\n",
    "# what did you see instead?\n",
    "#run the list outside of the for loop so it isn't working\n",
    "# what do you think is going on? what's the mismatch between your model and the computer's?\n",
    "# checklist of strategies to draw from:\n",
    "# [ ] model\n",
    "# [ ] document/comment the code\n",
    "# [ ] test with diff. inputs\n",
    "# [ ] add print statements to help model what is happening / use python tutor"
   ]
  },
  {
   "cell_type": "markdown",
   "metadata": {
    "id": "CZ0d6brLO9Sk"
   },
   "source": [
    "### Example 3\n",
    "Intent: program to see how \"small\" a number is (Under 5 is smallest, under 25 is smaller, under 50 is smallest, other is not small)"
   ]
  },
  {
   "cell_type": "code",
   "execution_count": 16,
   "metadata": {
    "colab": {
     "base_uri": "https://localhost:8080/",
     "height": 128
    },
    "id": "ILjYylo3O9hh",
    "outputId": "89f403f6-cec1-4a07-aa7f-60da729ac42f"
   },
   "outputs": [
    {
     "ename": "SyntaxError",
     "evalue": "invalid syntax (586562365.py, line 7)",
     "output_type": "error",
     "traceback": [
      "\u001b[0;36m  File \u001b[0;32m\"/var/folders/dn/bbrktyl55qlbxbnhvk_qjb000000gn/T/ipykernel_16154/586562365.py\"\u001b[0;36m, line \u001b[0;32m7\u001b[0m\n\u001b[0;31m    print (str(num) \" is small\")\u001b[0m\n\u001b[0m                    ^\u001b[0m\n\u001b[0;31mSyntaxError\u001b[0m\u001b[0;31m:\u001b[0m invalid syntax\n"
     ]
    }
   ],
   "source": [
    "num = 4\n",
    "if num < 5:\n",
    "    print (str(num) + \" is smallest\")\n",
    "elif num < 25:\n",
    "    print(str(num) + \" is smaller\")\n",
    "elif num < 50:\n",
    "    print (str(num) \" is small\")\n",
    "else:\n",
    "    print (str(num) + \" is not small\")"
   ]
  },
  {
   "cell_type": "code",
   "execution_count": null,
   "metadata": {
    "id": "wMaJlty2UnZV"
   },
   "outputs": [],
   "source": [
    "# debugging notes here!\n",
    "\n",
    "# what did you expect?\n",
    "#for num 4 to be less than 5 and is the smallest \n",
    "# what did you see instead?\n",
    "\n",
    "# what do you think is going on? what's the mismatch between your model and the computer's?\n",
    "# checklist of strategies to draw from:\n",
    "# [ ] model\n",
    "# [ ] document/comment the code\n",
    "# [ ] test with diff. inputs\n",
    "# [ ] add print statements to help model what is happening / use python tutor"
   ]
  },
  {
   "cell_type": "markdown",
   "metadata": {
    "id": "zdVZNi8RO9v6"
   },
   "source": [
    "### Example 4\n",
    "Intent: program that compares two numbers. Check if the first number is divisible by the second (no remainder)"
   ]
  },
  {
   "cell_type": "code",
   "execution_count": 11,
   "metadata": {
    "colab": {
     "base_uri": "https://localhost:8080/",
     "height": 214
    },
    "id": "H7hbp3m7O9-S",
    "outputId": "7d123dbe-6c0c-483b-f57f-dba80432cc22"
   },
   "outputs": [
    {
     "ename": "NameError",
     "evalue": "name 'frist_num' is not defined",
     "output_type": "error",
     "traceback": [
      "\u001b[0;31m---------------------------------------------------------------------------\u001b[0m",
      "\u001b[0;31mNameError\u001b[0m                                 Traceback (most recent call last)",
      "\u001b[0;32m/var/folders/xz/_hjc5hsx743dclmg8n5678nc0000gn/T/ipykernel_82588/1176868596.py\u001b[0m in \u001b[0;36m<module>\u001b[0;34m\u001b[0m\n\u001b[1;32m      2\u001b[0m \u001b[0msecond_num\u001b[0m \u001b[0;34m=\u001b[0m \u001b[0;36m2\u001b[0m\u001b[0;34m\u001b[0m\u001b[0;34m\u001b[0m\u001b[0m\n\u001b[1;32m      3\u001b[0m \u001b[0;34m\u001b[0m\u001b[0m\n\u001b[0;32m----> 4\u001b[0;31m \u001b[0;32mif\u001b[0m \u001b[0mfrist_num\u001b[0m \u001b[0;34m%\u001b[0m \u001b[0msecond_num\u001b[0m \u001b[0;34m==\u001b[0m \u001b[0;36m0\u001b[0m\u001b[0;34m:\u001b[0m\u001b[0;34m\u001b[0m\u001b[0;34m\u001b[0m\u001b[0m\n\u001b[0m\u001b[1;32m      5\u001b[0m     \u001b[0mprint\u001b[0m\u001b[0;34m(\u001b[0m\u001b[0mfirst_num\u001b[0m \u001b[0;34m,\u001b[0m \u001b[0;34m\"is divisible by\"\u001b[0m\u001b[0;34m,\u001b[0m \u001b[0msecond_num\u001b[0m\u001b[0;34m)\u001b[0m\u001b[0;34m\u001b[0m\u001b[0;34m\u001b[0m\u001b[0m\n",
      "\u001b[0;31mNameError\u001b[0m: name 'frist_num' is not defined"
     ]
    }
   ],
   "source": [
    "first_num = 10\n",
    "second_num = 2\n",
    "\n",
    "if frist_num % second_num == 0:\n",
    "    print(first_num , \"is divisible by\", second_num)"
   ]
  },
  {
   "cell_type": "code",
   "execution_count": null,
   "metadata": {
    "id": "wMaJlty2UnZV"
   },
   "outputs": [],
   "source": [
    "# debugging notes here!\n",
    "\n",
    "# what did you expect?\n",
    "\n",
    "# what did you see instead?\n",
    "\n",
    "# what do you think is going on? what's the mismatch between your model and the computer's?\n",
    "# checklist of strategies to draw from:\n",
    "# [ ] model\n",
    "# [ ] document/comment the code\n",
    "# [ ] test with diff. inputs\n",
    "# [ ] add print statements to help model what is happening / use python tutor"
   ]
  },
  {
   "cell_type": "markdown",
   "metadata": {
    "id": "7XprYICSO-Pe"
   },
   "source": [
    "### Example 5\n",
    "\n",
    "Intent: program that prints all the items in a list"
   ]
  },
  {
   "cell_type": "code",
   "execution_count": 12,
   "metadata": {
    "colab": {
     "base_uri": "https://localhost:8080/",
     "height": 128
    },
    "id": "iEhLRoI1O-el",
    "outputId": "2de16f77-016d-41da-e3af-d14c896b8d13",
    "scrolled": true
   },
   "outputs": [
    {
     "ename": "SyntaxError",
     "evalue": "unexpected EOF while parsing (2681184233.py, line 4)",
     "output_type": "error",
     "traceback": [
      "\u001b[0;36m  File \u001b[0;32m\"/var/folders/xz/_hjc5hsx743dclmg8n5678nc0000gn/T/ipykernel_82588/2681184233.py\"\u001b[0;36m, line \u001b[0;32m4\u001b[0m\n\u001b[0;31m    print(item\u001b[0m\n\u001b[0m              ^\u001b[0m\n\u001b[0;31mSyntaxError\u001b[0m\u001b[0;31m:\u001b[0m unexpected EOF while parsing\n"
     ]
    }
   ],
   "source": [
    "mylist = [\"Garlic\", \"Lime\", \"Onion\", \"Banana\", \"Broccoli\", \"Pomegranate\"]\n",
    "\n",
    "for item in mylist:\n",
    "    print(item"
   ]
  },
  {
   "cell_type": "code",
   "execution_count": null,
   "metadata": {
    "id": "wMaJlty2UnZV"
   },
   "outputs": [],
   "source": [
    "# debugging notes here!\n",
    "\n",
    "# what did you expect?\n",
    "\n",
    "# what did you see instead?\n",
    "\n",
    "# checklist of strategies to draw from:\n",
    "# [ ] model\n",
    "# [ ] document/comment the code\n",
    "# [ ] test with diff. inputs\n",
    "# [ ] add print statements to help model what is happening / use python tutor"
   ]
  }
 ],
 "metadata": {
  "colab": {
   "name": "INST126 SP21 Week10 Debugging_examples.ipynb",
   "provenance": [],
   "toc_visible": true
  },
  "kernelspec": {
   "display_name": "Python 3 (ipykernel)",
   "language": "python",
   "name": "python3"
  },
  "language_info": {
   "codemirror_mode": {
    "name": "ipython",
    "version": 3
   },
   "file_extension": ".py",
   "mimetype": "text/x-python",
   "name": "python",
   "nbconvert_exporter": "python",
   "pygments_lexer": "ipython3",
   "version": "3.9.7"
  }
 },
 "nbformat": 4,
 "nbformat_minor": 1
}
