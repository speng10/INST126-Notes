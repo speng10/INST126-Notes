{
 "cells": [
  {
   "cell_type": "markdown",
   "metadata": {
    "id": "ObSubDjaEtPK"
   },
   "source": [
    "# Demo program\n",
    "\n",
    "I have a file with a bunch of earnings records: last 5 years of earnings from a bunch of products in my company, ordered from most recent to least recent. I want to index them so I can ask questions about earnings for each product, like:\n",
    "1. What are the total earnings?\n",
    "2. Are the earnings now more than they were before?\n",
    "3. What is the average earnings/year over the last 5 year period?"
   ]
  },
  {
   "cell_type": "code",
   "execution_count": 6,
   "metadata": {
    "colab": {
     "base_uri": "https://localhost:8080/"
    },
    "id": "LT6-XER2KRIc",
    "outputId": "53fc71ff-3ae8-4377-a7c1-66f0b2296030"
   },
   "outputs": [
    {
     "ename": "FileNotFoundError",
     "evalue": "[Errno 2] No such file or directory: '../resources/earnings.txt'",
     "output_type": "error",
     "traceback": [
      "\u001b[0;31m---------------------------------------------------------------------------\u001b[0m",
      "\u001b[0;31mFileNotFoundError\u001b[0m                         Traceback (most recent call last)",
      "\u001b[0;32m/var/folders/dn/bbrktyl55qlbxbnhvk_qjb000000gn/T/ipykernel_16114/111130344.py\u001b[0m in \u001b[0;36m<module>\u001b[0;34m\u001b[0m\n\u001b[1;32m      1\u001b[0m \u001b[0;31m# read the data in\u001b[0m\u001b[0;34m\u001b[0m\u001b[0;34m\u001b[0m\u001b[0m\n\u001b[1;32m      2\u001b[0m \u001b[0mfpath\u001b[0m \u001b[0;34m=\u001b[0m \u001b[0;34m\"../resources/earnings.txt\"\u001b[0m\u001b[0;34m\u001b[0m\u001b[0;34m\u001b[0m\u001b[0m\n\u001b[0;32m----> 3\u001b[0;31m \u001b[0mearnings\u001b[0m \u001b[0;34m=\u001b[0m \u001b[0mopen\u001b[0m\u001b[0;34m(\u001b[0m\u001b[0mfpath\u001b[0m\u001b[0;34m)\u001b[0m\u001b[0;34m.\u001b[0m\u001b[0mread\u001b[0m\u001b[0;34m(\u001b[0m\u001b[0;34m)\u001b[0m\u001b[0;34m.\u001b[0m\u001b[0msplit\u001b[0m\u001b[0;34m(\u001b[0m\u001b[0;34m\"\\n\"\u001b[0m\u001b[0;34m)\u001b[0m\u001b[0;34m\u001b[0m\u001b[0;34m\u001b[0m\u001b[0m\n\u001b[0m\u001b[1;32m      4\u001b[0m \u001b[0mearnings\u001b[0m\u001b[0;34m\u001b[0m\u001b[0;34m\u001b[0m\u001b[0m\n",
      "\u001b[0;31mFileNotFoundError\u001b[0m: [Errno 2] No such file or directory: '../resources/earnings.txt'"
     ]
    }
   ],
   "source": [
    "# read the data in\n",
    "fpath = \"../resources/earnings.txt\"\n",
    "earnings = open(fpath).read().split(\"\\n\")\n",
    "earnings"
   ]
  },
  {
   "cell_type": "code",
   "execution_count": 7,
   "metadata": {
    "id": "wMaJlty2UnZV"
   },
   "outputs": [
    {
     "ename": "NameError",
     "evalue": "name 'earnings' is not defined",
     "output_type": "error",
     "traceback": [
      "\u001b[0;31m---------------------------------------------------------------------------\u001b[0m",
      "\u001b[0;31mNameError\u001b[0m                                 Traceback (most recent call last)",
      "\u001b[0;32m/var/folders/dn/bbrktyl55qlbxbnhvk_qjb000000gn/T/ipykernel_16114/2800248475.py\u001b[0m in \u001b[0;36m<module>\u001b[0;34m\u001b[0m\n\u001b[1;32m      3\u001b[0m \u001b[0;34m\u001b[0m\u001b[0m\n\u001b[1;32m      4\u001b[0m \u001b[0;31m# go through the records and parse them to an index\u001b[0m\u001b[0;34m\u001b[0m\u001b[0;34m\u001b[0m\u001b[0m\n\u001b[0;32m----> 5\u001b[0;31m \u001b[0;32mfor\u001b[0m \u001b[0mrecord\u001b[0m \u001b[0;32min\u001b[0m \u001b[0mearnings\u001b[0m\u001b[0;34m:\u001b[0m\u001b[0;34m\u001b[0m\u001b[0;34m\u001b[0m\u001b[0m\n\u001b[0m\u001b[1;32m      6\u001b[0m \u001b[0;34m\u001b[0m\u001b[0m\n\u001b[1;32m      7\u001b[0m     \u001b[0;31m# PARSE the record\u001b[0m\u001b[0;34m\u001b[0m\u001b[0;34m\u001b[0m\u001b[0m\n",
      "\u001b[0;31mNameError\u001b[0m: name 'earnings' is not defined"
     ]
    }
   ],
   "source": [
    "# create index\n",
    "earnings_index = {}\n",
    "\n",
    "# go through the records and parse them to an index\n",
    "for record in earnings:\n",
    "    \n",
    "    # PARSE the record\n",
    "    # gotta split. separator is comma\n",
    "    elements = record.split(\",\")\n",
    "    # product is the first thing\n",
    "    product = elements[0]\n",
    "    # list to hold the records, which is the rest of the stuff\n",
    "    earnings = []\n",
    "    # but gotta make sure it's numbers!\n",
    "    # so iterate through the remaining elements (after the first thing)\n",
    "    for e in elements[1:]:\n",
    "        # make it a number\n",
    "        earning = int(e)\n",
    "        # add to the list\n",
    "        earnings.append(earning)\n",
    "        \n",
    "    # ADD to index\n",
    "    earnings_index.update({product: earnings})\n",
    "    #the colen asks you to store that information\n",
    "# check the output\n",
    "earnings_index"
   ]
  },
  {
   "cell_type": "code",
   "execution_count": 5,
   "metadata": {},
   "outputs": [
    {
     "ename": "TypeError",
     "evalue": "'NoneType' object is not iterable",
     "output_type": "error",
     "traceback": [
      "\u001b[0;31m---------------------------------------------------------------------------\u001b[0m",
      "\u001b[0;31mTypeError\u001b[0m                                 Traceback (most recent call last)",
      "\u001b[0;32m/var/folders/dn/bbrktyl55qlbxbnhvk_qjb000000gn/T/ipykernel_16114/3282517378.py\u001b[0m in \u001b[0;36m<module>\u001b[0;34m\u001b[0m\n\u001b[1;32m      4\u001b[0m \u001b[0mquery_product_earnings\u001b[0m \u001b[0;34m=\u001b[0m \u001b[0mearnings_index\u001b[0m\u001b[0;34m.\u001b[0m\u001b[0mget\u001b[0m\u001b[0;34m(\u001b[0m\u001b[0mquery_product\u001b[0m\u001b[0;34m)\u001b[0m\u001b[0;34m\u001b[0m\u001b[0;34m\u001b[0m\u001b[0m\n\u001b[1;32m      5\u001b[0m \u001b[0;31m#print a message about the sum of the earnings\u001b[0m\u001b[0;34m\u001b[0m\u001b[0;34m\u001b[0m\u001b[0m\n\u001b[0;32m----> 6\u001b[0;31m \u001b[0mprint\u001b[0m\u001b[0;34m(\u001b[0m\u001b[0;34mf\"Total earnings for {query_product} was ${sum(query_product_earnings)}\"\u001b[0m\u001b[0;34m)\u001b[0m\u001b[0;34m\u001b[0m\u001b[0;34m\u001b[0m\u001b[0m\n\u001b[0m",
      "\u001b[0;31mTypeError\u001b[0m: 'NoneType' object is not iterable"
     ]
    }
   ],
   "source": [
    "# test: can we get total earnings for laser printers?\n",
    "query_product = \"laser_printers\"\n",
    "#get the earnings list for the query product from the index\n",
    "query_product_earnings = earnings_index.get(query_product)\n",
    "#print a message about the sum of the earnings\n",
    "print(f\"Total earnings for {query_product} was ${sum(query_product_earnings)}\")"
   ]
  },
  {
   "cell_type": "code",
   "execution_count": 22,
   "metadata": {},
   "outputs": [
    {
     "name": "stdout",
     "output_type": "stream",
     "text": [
      "Earnings decreased from 5 yrs ago to now for laptops, by -$-11250\n"
     ]
    }
   ],
   "source": [
    "# test: can we say if earnings increased/decreased?\n",
    "query_product = \"laptops\"\n",
    "query_product_earnings = earnings_index.get(query_product)\n",
    "earnings_change = query_product_earnings[0] - query_product_earnings[-1]\n",
    "#higher\n",
    "if earnings_change > 0:\n",
    "    print(f\"Earnings increased from 5 yrs ago to now for {product}, by ${earnings_change}\")\n",
    "#lower\n",
    "    else:\n",
    "    print(f\"Earnings decreased from 5 yrs ago to now for {product}, by -${earnings_change}\")"
   ]
  }
 ],
 "metadata": {
  "colab": {
   "name": "INST126 SP21 Week10 Debugging_examples.ipynb",
   "provenance": [],
   "toc_visible": true
  },
  "kernelspec": {
   "display_name": "Python 3 (ipykernel)",
   "language": "python",
   "name": "python3"
  },
  "language_info": {
   "codemirror_mode": {
    "name": "ipython",
    "version": 3
   },
   "file_extension": ".py",
   "mimetype": "text/x-python",
   "name": "python",
   "nbconvert_exporter": "python",
   "pygments_lexer": "ipython3",
   "version": "3.9.7"
  }
 },
 "nbformat": 4,
 "nbformat_minor": 1
}
