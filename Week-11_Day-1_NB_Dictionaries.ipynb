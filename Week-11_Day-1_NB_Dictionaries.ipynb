{
 "cells": [
  {
   "cell_type": "markdown",
   "metadata": {
    "id": "g-lkfdphxbR0"
   },
   "source": [
    "## What are dictionaries and why should we care about them?\n",
    "\n",
    "\n"
   ]
  },
  {
   "cell_type": "markdown",
   "metadata": {
    "id": "X8Q343PRGhMR"
   },
   "source": [
    "Dictionaries are for **associating data** and **quick lookup**"
   ]
  },
  {
   "cell_type": "markdown",
   "metadata": {
    "id": "Ku3vlFoMjfUt"
   },
   "source": [
    "Motivating example: I am making an index for a book, because I want to know which concepts show up on which pages, to make it easier to jump back to the right spots."
   ]
  },
  {
   "cell_type": "code",
   "execution_count": 4,
   "metadata": {
    "id": "jJvItvK9fnAY"
   },
   "outputs": [],
   "source": [
    "# how to know which chapters talk about strings? or debugging?\n",
    "book = [\n",
    "  \"Chapter 1: talks about strings and how they have the property of immutability also some basic debugging\",\n",
    "  \"Chapter 2: continues talking about advanced methods for strings and also introduces the concept of functions\",\n",
    "  \"Chapter 3: discusses iteration and lists and also debugging\",\n",
    "]"
   ]
  },
  {
   "cell_type": "code",
   "execution_count": 9,
   "metadata": {
    "colab": {
     "base_uri": "https://localhost:8080/"
    },
    "executionInfo": {
     "elapsed": 1051,
     "status": "ok",
     "timestamp": 1617628957741,
     "user": {
      "displayName": "Joel Chan",
      "photoUrl": "https://lh3.googleusercontent.com/a-/AOh14GiBPPpBf_QqgDL3pMurAsPu9WJJE_x_6UtgW13UFQ=s64",
      "userId": "15153559228409906865"
     },
     "user_tz": 240
    },
    "id": "yT5ZIVumf_P2",
    "outputId": "b67cf244-9223-47ec-829f-3f8a1543de29"
   },
   "outputs": [
    {
     "data": {
      "text/plain": [
       "[['strings', 'Chapter 1'],\n",
       " ['debugging', 'Chapter 1'],\n",
       " ['strings', 'Chapter 2'],\n",
       " ['debugging', 'Chapter 3']]"
      ]
     },
     "execution_count": 9,
     "metadata": {},
     "output_type": "execute_result"
    }
   ],
   "source": [
    "# without dictionaries\n",
    "#where are the chapters with strings in it or debugging\n",
    "concepts = ['strings', 'debugging']\n",
    "index = []\n",
    "\n",
    "for chapter in book:\n",
    "    #split into elements based ont he colon\n",
    "    elements = chapter.split(\":\")\n",
    "    #first element is the chpater\n",
    "    chapter = elements[0]\n",
    "    #second element is the text\n",
    "    text = elements[1]\n",
    "    \n",
    "    #parse the text\n",
    "    words = text.split()\n",
    "    for keyconcept in concepts:\n",
    "        if keyconcept in words:\n",
    "            index.append([keyconcept, chapter])\n",
    "index"
   ]
  },
  {
   "cell_type": "code",
   "execution_count": 14,
   "metadata": {},
   "outputs": [
    {
     "data": {
      "text/plain": [
       "{'strings': ['Chapter 1', 'Chapter 2'],\n",
       " 'debugging': ['Chapter 1', 'Chapter 3']}"
      ]
     },
     "execution_count": 14,
     "metadata": {},
     "output_type": "execute_result"
    }
   ],
   "source": [
    "# with dictionaries\n",
    "#where are the chapters with strings in it or debugging\n",
    "concepts = ['strings', 'debugging']\n",
    "#make a dictionary to hold the index\n",
    "index = {}\n",
    "\n",
    "for chapter in book:\n",
    "    #split into elements based ont he colon\n",
    "    elements = chapter.split(\":\")\n",
    "    #first element is the chpater\n",
    "    chapter = elements[0]\n",
    "    #second element is the text\n",
    "    text = elements[1]\n",
    "    \n",
    "    #parse the text\n",
    "    words = text.split()\n",
    "    for keyconcept in concepts:\n",
    "        if keyconcept in words:\n",
    "            #index.append([keyconcept, chapter])\n",
    "            #get the curren list of chapters associatiend with this concept\n",
    "            chs = index.get(keyconcept,[])\n",
    "            chs.append(chapter)\n",
    "            index.update({keyconcept:chs})\n",
    "index"
   ]
  },
  {
   "cell_type": "code",
   "execution_count": 10,
   "metadata": {
    "colab": {
     "base_uri": "https://localhost:8080/"
    },
    "executionInfo": {
     "elapsed": 518,
     "status": "ok",
     "timestamp": 1617629113990,
     "user": {
      "displayName": "Joel Chan",
      "photoUrl": "https://lh3.googleusercontent.com/a-/AOh14GiBPPpBf_QqgDL3pMurAsPu9WJJE_x_6UtgW13UFQ=s64",
      "userId": "15153559228409906865"
     },
     "user_tz": 240
    },
    "id": "PHur06kRgBNk",
    "outputId": "3542af42-5020-4b91-8934-5256143668d0"
   },
   "outputs": [
    {
     "name": "stdout",
     "output_type": "stream",
     "text": [
      "Chapter 1\n",
      "Chapter 2\n"
     ]
    }
   ],
   "source": [
    "# with dictionaries\n",
    "#given \n",
    "query = \"strings\"\n",
    "for item in index:\n",
    "    if query == item[0]:\n",
    "        print(item[1])\n",
    "    #here you have to remember the order of the list, what part you are indexing \n",
    "    "
   ]
  },
  {
   "cell_type": "code",
   "execution_count": 15,
   "metadata": {},
   "outputs": [
    {
     "data": {
      "text/plain": [
       "['Chapter 1', 'Chapter 2']"
      ]
     },
     "execution_count": 15,
     "metadata": {},
     "output_type": "execute_result"
    }
   ],
   "source": [
    "#given this data structure how to fidn all the cahpaters that have strings in them\n",
    "#the get function will quickly grab it\n",
    "query = \"strings\"\n",
    "index.get(\"strings\")"
   ]
  },
  {
   "cell_type": "markdown",
   "metadata": {
    "id": "K4Oz3D5RWLaJ"
   },
   "source": [
    "Another common use case: attributes of data entries. For instance, attributes of a class, like credit hours, pre-reqs, instructor, location, hours, and so on."
   ]
  },
  {
   "cell_type": "code",
   "execution_count": 16,
   "metadata": {
    "id": "KLkWDQeYWkTU"
   },
   "outputs": [
    {
     "name": "stdout",
     "output_type": "stream",
     "text": [
      "no\n"
     ]
    }
   ],
   "source": [
    "# without dictionaries\n",
    "courses = [\n",
    "    [\"INST126\", 3, \"no\", \"Chan\", \"hybrid\", \"MWF\"],\n",
    "    [\"INST256\", 4, \"yes\", \"Kanishka\", \"in-person\", \"TR\"]\n",
    "]\n",
    "\n",
    "# look up INST126 and check whether it has prereqs\n",
    "for course in courses:\n",
    "    if course[0] == \"INST126\":\n",
    "        print(course[2])"
   ]
  },
  {
   "cell_type": "markdown",
   "metadata": {
    "id": "w4hAS5h6WrNQ"
   },
   "source": [
    "Rather than trying to remember which position we happened to have decided to use to store a particular attribute (if we used lists), we can use **semantically meaningful indices for values**, i.e., keys!"
   ]
  },
  {
   "cell_type": "code",
   "execution_count": 18,
   "metadata": {
    "colab": {
     "base_uri": "https://localhost:8080/",
     "height": 35
    },
    "executionInfo": {
     "elapsed": 643,
     "status": "ok",
     "timestamp": 1617629581900,
     "user": {
      "displayName": "Joel Chan",
      "photoUrl": "https://lh3.googleusercontent.com/a-/AOh14GiBPPpBf_QqgDL3pMurAsPu9WJJE_x_6UtgW13UFQ=s64",
      "userId": "15153559228409906865"
     },
     "user_tz": 240
    },
    "id": "H5RTBIm6Wm-Y",
    "outputId": "224b3b33-0f7d-4bf4-9830-f7e21651a26f"
   },
   "outputs": [
    {
     "data": {
      "text/plain": [
       "3"
      ]
     },
     "execution_count": 18,
     "metadata": {},
     "output_type": "execute_result"
    }
   ],
   "source": [
    "# with dictionaries\n",
    "courses = {\n",
    "    \"INST126\": {\n",
    "      \"credit hours\": 3, \"prereqs\": \"no\", \"instructor\": \"Chan\", \"location\": \"hybrid\", \"hours\": \"MWF\"\n",
    "      },\n",
    "    \"INST256\": {\n",
    "      \"credit hours\": 4, \"prereqs\": \"yes\", \"instructor\": \"Kanishka\", \"location\": \"in-person\", \"hours\": \"TR\"\n",
    "      },\n",
    "}\n",
    "\n",
    "# look up INST126 and check whether it has prereqs\n",
    "#get the course, then get what information about the course\n",
    "courses.get(\"INST126\").get(\"prereqs\")"
   ]
  },
  {
   "cell_type": "markdown",
   "metadata": {
    "id": "BfuFZabhWsx5"
   },
   "source": [
    "It's a lot easier to remember keys (if we name them useful things) compared to just indices. And Python can help us remember too!"
   ]
  },
  {
   "cell_type": "code",
   "execution_count": null,
   "metadata": {
    "id": "cGgt0X0UXB-M"
   },
   "outputs": [],
   "source": []
  },
  {
   "cell_type": "markdown",
   "metadata": {
    "id": "bmdU6yPtgCUu"
   },
   "source": [
    "If you're interested, there are also formal technical reasons to prefer dictionaries over lists if you care about speed/efficiency and your computational task is **checking** if an item exists in a collection *and* you're dealing with very large scale data: https://www.jessicayung.com/python-lists-vs-dictionaries-the-space-time-tradeoff/. "
   ]
  },
  {
   "cell_type": "markdown",
   "metadata": {
    "id": "59UWIOJ_jgrs"
   },
   "source": [
    "Later we will learn the `pandas` library (and the `dataframe` data structure, which is sort of a hybrid of `lists` and `dictionaries`): you can do really fast lookup, but also sort stuff!"
   ]
  },
  {
   "cell_type": "markdown",
   "metadata": {
    "id": "rt-d9q-YGx3F"
   },
   "source": [
    "## Anatomy of a dictionary\n",
    "\n",
    "\n",
    "\n"
   ]
  },
  {
   "cell_type": "markdown",
   "metadata": {
    "id": "XMfeWgyvG3W7"
   },
   "source": [
    "Dictionaries are not so different from... our dictionaries in real life. :) Basically *map* a bunch of **keys** (e.g., a word) to corresponding **values** (e.g., a definition). Another example is indices in the back of print(!!!) books that map key terms to pages where that term shows up, or tags on websites, that map tags to webpages that include those tags.\n",
    "\n",
    "Let's look at a simple example that maps letters to an example word that starts with the letter"
   ]
  },
  {
   "cell_type": "code",
   "execution_count": 19,
   "metadata": {},
   "outputs": [
    {
     "ename": "SyntaxError",
     "evalue": "invalid syntax (1899481055.py, line 3)",
     "output_type": "error",
     "traceback": [
      "\u001b[0;36m  File \u001b[0;32m\"/var/folders/dn/bbrktyl55qlbxbnhvk_qjb000000gn/T/ipykernel_36740/1899481055.py\"\u001b[0;36m, line \u001b[0;32m3\u001b[0m\n\u001b[0;31m    'b': 'ball', # another entry that maps the value ball to the letter b\u001b[0m\n\u001b[0m       ^\u001b[0m\n\u001b[0;31mSyntaxError\u001b[0m\u001b[0;31m:\u001b[0m invalid syntax\n"
     ]
    }
   ],
   "source": [
    "#there needs to be a comma or a syntax error would occur\n",
    "d = {\n",
    "   'a': 'apple' # an entry that maps the value apple to the letter a\n",
    "   'b': 'ball', # another entry that maps the value ball to the letter b\n",
    "   'c': 'crayon' \n",
    "}"
   ]
  },
  {
   "cell_type": "code",
   "execution_count": null,
   "metadata": {
    "id": "mEFRGErFZGnx"
   },
   "outputs": [],
   "source": [
    "#each key can map to only one value\n",
    "d = {\n",
    "   'a': 'apple', # an entry that maps the value apple to the letter a\n",
    "   'b': 'ball', # another entry that maps the value ball to the letter b\n",
    "   'c': 'crayon' \n",
    "}\n",
    "d = {'a': 'apple', 'b': 'ball', 'c': 'crayon'} # you can also write it out like this, but i find it harder to read\n",
    "\n",
    "another = {\n",
    "    'a': 1,\n",
    "    'b': 2,\n",
    "    'c': 3\n",
    "}\n",
    "\n",
    "grades = {\n",
    "    'A': [93, 100],\n",
    "    'B': [87, 93]\n",
    "}"
   ]
  },
  {
   "cell_type": "code",
   "execution_count": null,
   "metadata": {
    "colab": {
     "base_uri": "https://localhost:8080/"
    },
    "executionInfo": {
     "elapsed": 670,
     "status": "ok",
     "timestamp": 1617630036027,
     "user": {
      "displayName": "Joel Chan",
      "photoUrl": "https://lh3.googleusercontent.com/a-/AOh14GiBPPpBf_QqgDL3pMurAsPu9WJJE_x_6UtgW13UFQ=s64",
      "userId": "15153559228409906865"
     },
     "user_tz": 240
    },
    "id": "Joe06ptYQp8_",
    "outputId": "69bda4eb-7570-4bbc-b944-cac35969ddbe"
   },
   "outputs": [
    {
     "data": {
      "text/plain": [
       "[93, 100]"
      ]
     },
     "execution_count": 15,
     "metadata": {
      "tags": []
     },
     "output_type": "execute_result"
    }
   ],
   "source": [
    "grades.get(\"A\")"
   ]
  },
  {
   "cell_type": "markdown",
   "metadata": {
    "id": "s8zUmMgjkYv2"
   },
   "source": [
    "The key parts of a dictionary are:\n",
    "1. The `{ }` curly braces tell you and Python that it's a dictionary (similar to `\"\"` for strings, or `[]` for lists)\n",
    "2. Each entry has maps a **value** on the right of a  `:` --- which functions like the `=` expression --- to a **key** on the left. For example, our first entry maps the value \"apple\" to the key \"a\".\n",
    "3. We include `,`, similar to lists, to separate entries in the dictionary."
   ]
  },
  {
   "cell_type": "markdown",
   "metadata": {
    "id": "oAEDQBdsa9ut"
   },
   "source": [
    "### Properties of a dictionary"
   ]
  },
  {
   "cell_type": "markdown",
   "metadata": {
    "id": "61xw1VxSh-6q"
   },
   "source": [
    "Similar to lists, dictionaries have **length**. \n",
    "\n",
    "Different from lists, dictionaries **do not have an order**. So you can't really sort a list, or grab things by position. You grab things by... key!\n",
    "\n",
    "Also, all keys in a dictionary have to be **unique**. This is handy for keeping track of unique items. Values in the dictionary do *not* have to be unique, though: you can have different keys point to the same value, but not multiple values point to duplicate keys. There is a related data structure that has a similar property called `sets` if you're interested.\n",
    "\n",
    "Dictionaries are also **mutable**: you can modify them directly (in contrast to strings, where you never modify them directly, but only ever create a new modified version of the string)."
   ]
  },
  {
   "cell_type": "code",
   "execution_count": null,
   "metadata": {
    "colab": {
     "base_uri": "https://localhost:8080/"
    },
    "executionInfo": {
     "elapsed": 509,
     "status": "ok",
     "timestamp": 1617630053089,
     "user": {
      "displayName": "Joel Chan",
      "photoUrl": "https://lh3.googleusercontent.com/a-/AOh14GiBPPpBf_QqgDL3pMurAsPu9WJJE_x_6UtgW13UFQ=s64",
      "userId": "15153559228409906865"
     },
     "user_tz": 240
    },
    "id": "O8NZneQoubnI",
    "outputId": "652ced5f-0f81-4b9a-a655-14f5e07dc53f"
   },
   "outputs": [
    {
     "data": {
      "text/plain": [
       "3"
      ]
     },
     "execution_count": 16,
     "metadata": {
      "tags": []
     },
     "output_type": "execute_result"
    }
   ],
   "source": [
    "#you don't know the order to a dictionary, it is different than a list\n",
    "d = {\n",
    "   'a': 'apple', # an entry that maps the value apple to the letter a\n",
    "   'b': 'ball', # another entry that maps the value ball to the letter b\n",
    "   'c': 'crayon' \n",
    "}\n",
    "len(d)"
   ]
  },
  {
   "cell_type": "code",
   "execution_count": null,
   "metadata": {
    "colab": {
     "base_uri": "https://localhost:8080/"
    },
    "executionInfo": {
     "elapsed": 582,
     "status": "ok",
     "timestamp": 1617630275741,
     "user": {
      "displayName": "Joel Chan",
      "photoUrl": "https://lh3.googleusercontent.com/a-/AOh14GiBPPpBf_QqgDL3pMurAsPu9WJJE_x_6UtgW13UFQ=s64",
      "userId": "15153559228409906865"
     },
     "user_tz": 240
    },
    "id": "F4T1rspjROFZ",
    "outputId": "81b96fab-8a67-47aa-9cb0-798e5c84e7e0"
   },
   "outputs": [
    {
     "name": "stdout",
     "output_type": "stream",
     "text": [
      "{'a': 'animal', 'b': 'ball', 'c': 'crayon'}\n",
      "{'a': ['apple', 'animal'], 'b': 'ball', 'c': 'crayon'}\n"
     ]
    }
   ],
   "source": [
    "d = {\n",
    "   'a': 'apple', # an entry that maps the value apple to the letter a\n",
    "   'b': 'ball', # another entry that maps the value ball to the letter b\n",
    "   'c': 'crayon',\n",
    "   'a': 'animal' \n",
    "}\n",
    "print(d)\n",
    "d = {\n",
    "   'a': ['apple', \"animal\"], # an entry that maps the value apple to the letter a\n",
    "   'b': 'ball', # another entry that maps the value ball to the letter b\n",
    "   'c': 'crayon',\n",
    "   'd': [1, 3, \"denizen\"]\n",
    "}\n",
    "print(d)"
   ]
  },
  {
   "cell_type": "code",
   "execution_count": null,
   "metadata": {
    "colab": {
     "base_uri": "https://localhost:8080/"
    },
    "executionInfo": {
     "elapsed": 478,
     "status": "ok",
     "timestamp": 1604333507417,
     "user": {
      "displayName": "Joel Chan",
      "photoUrl": "https://lh3.googleusercontent.com/a-/AOh14GiBPPpBf_QqgDL3pMurAsPu9WJJE_x_6UtgW13UFQ=s64",
      "userId": "15153559228409906865"
     },
     "user_tz": 300
    },
    "id": "Q2p0HOZfullU",
    "outputId": "269c7fe2-a51b-48e9-88e2-522dc361c41c"
   },
   "outputs": [
    {
     "data": {
      "text/plain": [
       "{}"
      ]
     },
     "execution_count": 22,
     "metadata": {
      "tags": []
     },
     "output_type": "execute_result"
    }
   ],
   "source": [
    "dempty = {}\n",
    "dempty"
   ]
  },
  {
   "cell_type": "markdown",
   "metadata": {
    "id": "BiQBWTMsRANw"
   },
   "source": [
    "### What kinds of data can we put in a dictionary?"
   ]
  },
  {
   "cell_type": "markdown",
   "metadata": {
    "id": "B4JROzB4iXWL"
   },
   "source": [
    "Basically anything goes for **values**. You can even nest a dictionary inside another dictionary, by mapping a dictionary value to some key."
   ]
  },
  {
   "cell_type": "code",
   "execution_count": null,
   "metadata": {
    "id": "Z1kM-kPKuvuC"
   },
   "outputs": [],
   "source": [
    "students = {\n",
    "    'joel': {\n",
    "        'major': 'info sci',\n",
    "        'year': 'senior',\n",
    "        'interests': ['programming', 'football', 'dancing']\n",
    "    },\n",
    "}"
   ]
  },
  {
   "cell_type": "markdown",
   "metadata": {
    "id": "D8_0Ztt_vF7u"
   },
   "source": [
    "But **keys** need to be *hashable*. More info here: https://stackoverflow.com/questions/14535730/what-does-hashable-mean-in-python"
   ]
  },
  {
   "cell_type": "code",
   "execution_count": null,
   "metadata": {
    "colab": {
     "base_uri": "https://localhost:8080/",
     "height": 171
    },
    "executionInfo": {
     "elapsed": 486,
     "status": "error",
     "timestamp": 1604330351921,
     "user": {
      "displayName": "Joel Chan",
      "photoUrl": "https://lh3.googleusercontent.com/a-/AOh14GiBPPpBf_QqgDL3pMurAsPu9WJJE_x_6UtgW13UFQ=s64",
      "userId": "15153559228409906865"
     },
     "user_tz": 300
    },
    "id": "UTyQyy3sRIjj",
    "outputId": "6803dedd-47d3-4ec4-f899-38a10368aab7"
   },
   "outputs": [
    {
     "ename": "TypeError",
     "evalue": "ignored",
     "output_type": "error",
     "traceback": [
      "\u001b[0;31m---------------------------------------------------------------------------\u001b[0m",
      "\u001b[0;31mTypeError\u001b[0m                                 Traceback (most recent call last)",
      "\u001b[0;32m<ipython-input-1-2bd601d7a9e7>\u001b[0m in \u001b[0;36m<module>\u001b[0;34m()\u001b[0m\n\u001b[0;32m----> 1\u001b[0;31m \u001b[0md\u001b[0m \u001b[0;34m=\u001b[0m \u001b[0;34m{\u001b[0m\u001b[0;34m[\u001b[0m\u001b[0;36m1\u001b[0m\u001b[0;34m,\u001b[0m \u001b[0;36m2\u001b[0m\u001b[0;34m,\u001b[0m \u001b[0;36m3\u001b[0m\u001b[0;34m]\u001b[0m\u001b[0;34m:\u001b[0m \u001b[0;34m'apple'\u001b[0m\u001b[0;34m}\u001b[0m\u001b[0;34m\u001b[0m\u001b[0;34m\u001b[0m\u001b[0m\n\u001b[0m",
      "\u001b[0;31mTypeError\u001b[0m: unhashable type: 'list'"
     ]
    }
   ],
   "source": [
    "d = {[1, 2, 3]: 'apple'}\n",
    "#keys have to be hashable, values can be anything"
   ]
  },
  {
   "cell_type": "markdown",
   "metadata": {
    "id": "_fBRR1MSROdJ"
   },
   "source": [
    "I mention this because a common error when first working with dictionaries is to try to use an unhashable data structure as a key. The basic rule of thumb for now is: strings and numbers are ok as keys; everything else (that you'll learn now) is not."
   ]
  },
  {
   "cell_type": "markdown",
   "metadata": {
    "id": "ifBcaTKuA2jN"
   },
   "source": [
    "## Working with dictionaries: basics\n"
   ]
  },
  {
   "cell_type": "markdown",
   "metadata": {
    "id": "RKgca-CfnFK9"
   },
   "source": [
    "### How to create a dictionary"
   ]
  },
  {
   "cell_type": "code",
   "execution_count": null,
   "metadata": {
    "id": "JG-iNe0ZHJVn"
   },
   "outputs": [],
   "source": [
    "d = {\n",
    "   'a': 'apple',\n",
    "   'b': 'ball',\n",
    "   'c': 'crayon', \n",
    "}"
   ]
  },
  {
   "cell_type": "markdown",
   "metadata": {
    "id": "QwKbf3Uwb0oB"
   },
   "source": [
    "You can also start with an empty dictionary, and then add stuff later, programmatically or with other functions."
   ]
  },
  {
   "cell_type": "code",
   "execution_count": null,
   "metadata": {
    "colab": {
     "base_uri": "https://localhost:8080/"
    },
    "executionInfo": {
     "elapsed": 713,
     "status": "ok",
     "timestamp": 1617630715701,
     "user": {
      "displayName": "Joel Chan",
      "photoUrl": "https://lh3.googleusercontent.com/a-/AOh14GiBPPpBf_QqgDL3pMurAsPu9WJJE_x_6UtgW13UFQ=s64",
      "userId": "15153559228409906865"
     },
     "user_tz": 240
    },
    "id": "6j9jmcjgvqp2",
    "outputId": "c84f7f38-b73c-4ef7-abf9-e787aaaef92a"
   },
   "outputs": [
    {
     "name": "stdout",
     "output_type": "stream",
     "text": [
      "{}\n"
     ]
    },
    {
     "data": {
      "text/plain": [
       "0"
      ]
     },
     "execution_count": 21,
     "metadata": {
      "tags": []
     },
     "output_type": "execute_result"
    }
   ],
   "source": [
    "emptyd = {} # dictionary with nothing in it\n",
    "emptyd = dict() # same thing\n",
    "print(emptyd)\n",
    "len(emptyd)"
   ]
  },
  {
   "cell_type": "markdown",
   "metadata": {
    "id": "DgkOR-cIm2Iy"
   },
   "source": [
    "### Looking up entries in a dictionary"
   ]
  },
  {
   "cell_type": "markdown",
   "metadata": {
    "id": "dyck9whqwBOA"
   },
   "source": [
    "This is called the \"old style\" or \"indexing\" pattern. Looks a little bit like lists."
   ]
  },
  {
   "cell_type": "code",
   "execution_count": null,
   "metadata": {
    "colab": {
     "base_uri": "https://localhost:8080/",
     "height": 35
    },
    "executionInfo": {
     "elapsed": 680,
     "status": "ok",
     "timestamp": 1617630845043,
     "user": {
      "displayName": "Joel Chan",
      "photoUrl": "https://lh3.googleusercontent.com/a-/AOh14GiBPPpBf_QqgDL3pMurAsPu9WJJE_x_6UtgW13UFQ=s64",
      "userId": "15153559228409906865"
     },
     "user_tz": 240
    },
    "id": "X7me-B5Nj5AZ",
    "outputId": "10c194c6-812a-47f7-fe57-d6fb6e00df87"
   },
   "outputs": [
    {
     "data": {
      "application/vnd.google.colaboratory.intrinsic+json": {
       "type": "string"
      },
      "text/plain": [
       "'crayon'"
      ]
     },
     "execution_count": 23,
     "metadata": {
      "tags": []
     },
     "output_type": "execute_result"
    }
   ],
   "source": [
    "d = {\n",
    "   'a': 'apple',\n",
    "   'b': 'ball',\n",
    "   'c': 'crayon' \n",
    "}\n",
    "d['c'] # put a key inside square brackets associated with a dictionary"
   ]
  },
  {
   "cell_type": "markdown",
   "metadata": {
    "id": "tKLOMLdHwkuw"
   },
   "source": [
    "This is the newer pattern that I prefer for clarity."
   ]
  },
  {
   "cell_type": "code",
   "execution_count": null,
   "metadata": {
    "colab": {
     "base_uri": "https://localhost:8080/",
     "height": 35
    },
    "executionInfo": {
     "elapsed": 529,
     "status": "ok",
     "timestamp": 1617630850560,
     "user": {
      "displayName": "Joel Chan",
      "photoUrl": "https://lh3.googleusercontent.com/a-/AOh14GiBPPpBf_QqgDL3pMurAsPu9WJJE_x_6UtgW13UFQ=s64",
      "userId": "15153559228409906865"
     },
     "user_tz": 240
    },
    "id": "PwcS2638j6jn",
    "outputId": "5a99b8d5-c894-46e4-fc20-b15e20b96c61"
   },
   "outputs": [
    {
     "data": {
      "application/vnd.google.colaboratory.intrinsic+json": {
       "type": "string"
      },
      "text/plain": [
       "'crayon'"
      ]
     },
     "execution_count": 24,
     "metadata": {
      "tags": []
     },
     "output_type": "execute_result"
    }
   ],
   "source": [
    "d = {\n",
    "   'a': 'apple',\n",
    "   'b': 'ball',\n",
    "   'c': 'crayon' \n",
    "}\n",
    "d.get('c') # use the get function to get the value for the key that we give it"
   ]
  },
  {
   "cell_type": "markdown",
   "metadata": {
    "id": "fbSUFCiVZwv5"
   },
   "source": [
    "It also has the advantage of not breaking your program if you try to access a key that doesn't exist."
   ]
  },
  {
   "cell_type": "code",
   "execution_count": null,
   "metadata": {
    "colab": {
     "base_uri": "https://localhost:8080/",
     "height": 207
    },
    "executionInfo": {
     "elapsed": 822,
     "status": "error",
     "timestamp": 1617630872336,
     "user": {
      "displayName": "Joel Chan",
      "photoUrl": "https://lh3.googleusercontent.com/a-/AOh14GiBPPpBf_QqgDL3pMurAsPu9WJJE_x_6UtgW13UFQ=s64",
      "userId": "15153559228409906865"
     },
     "user_tz": 240
    },
    "id": "suoKyO9rZ1jG",
    "outputId": "d8eb6435-8891-4361-f417-4d2a5c2d16fd"
   },
   "outputs": [
    {
     "ename": "KeyError",
     "evalue": "ignored",
     "output_type": "error",
     "traceback": [
      "\u001b[0;31m---------------------------------------------------------------------------\u001b[0m",
      "\u001b[0;31mKeyError\u001b[0m                                  Traceback (most recent call last)",
      "\u001b[0;32m<ipython-input-25-35682790bc1a>\u001b[0m in \u001b[0;36m<module>\u001b[0;34m()\u001b[0m\n\u001b[1;32m      4\u001b[0m    \u001b[0;34m'c'\u001b[0m\u001b[0;34m:\u001b[0m \u001b[0;34m'crayon'\u001b[0m\u001b[0;34m\u001b[0m\u001b[0;34m\u001b[0m\u001b[0m\n\u001b[1;32m      5\u001b[0m }\n\u001b[0;32m----> 6\u001b[0;31m \u001b[0md\u001b[0m\u001b[0;34m[\u001b[0m\u001b[0;34m'd'\u001b[0m\u001b[0;34m]\u001b[0m \u001b[0;31m# will crash the program with key error\u001b[0m\u001b[0;34m\u001b[0m\u001b[0;34m\u001b[0m\u001b[0m\n\u001b[0m",
      "\u001b[0;31mKeyError\u001b[0m: 'd'"
     ]
    }
   ],
   "source": [
    "d = {\n",
    "   'a': 'apple',\n",
    "   'b': 'ball',\n",
    "   'c': 'crayon' \n",
    "}\n",
    "d['d'] # will crash the program with key error"
   ]
  },
  {
   "cell_type": "markdown",
   "metadata": {
    "id": "wtUfguW7at3_"
   },
   "source": [
    "`.get()` lets you specify a default value that should come back if the key doesn't exist. This is very useful for writing clean and understandable dictionary patterns, such as indexing, which we'll dig into next week."
   ]
  },
  {
   "cell_type": "code",
   "execution_count": null,
   "metadata": {
    "colab": {
     "base_uri": "https://localhost:8080/"
    },
    "executionInfo": {
     "elapsed": 593,
     "status": "ok",
     "timestamp": 1617630952947,
     "user": {
      "displayName": "Joel Chan",
      "photoUrl": "https://lh3.googleusercontent.com/a-/AOh14GiBPPpBf_QqgDL3pMurAsPu9WJJE_x_6UtgW13UFQ=s64",
      "userId": "15153559228409906865"
     },
     "user_tz": 240
    },
    "id": "-lTzN_qrZ8sW",
    "outputId": "2aecf4ff-ad11-4943-baec-3ecfb90478a5"
   },
   "outputs": [
    {
     "name": "stdout",
     "output_type": "stream",
     "text": [
      "None\n",
      "key not found\n"
     ]
    }
   ],
   "source": [
    "d = {\n",
    "   'a': 'apple',\n",
    "   'b': 'ball',\n",
    "   'c': 'crayon' \n",
    "}\n",
    "v = d.get('d') # will return None as a default\n",
    "print(v)\n",
    "v = d.get('d', \"key not found\") # but you can also specify a default value. this is very handy for initializing counts/indices in dictionaries\n",
    "print(v)"
   ]
  },
  {
   "cell_type": "markdown",
   "metadata": {
    "id": "4PzmOryUjF2r"
   },
   "source": [
    "### Adding/updating entries to a dictionary"
   ]
  },
  {
   "cell_type": "markdown",
   "metadata": {
    "id": "UovJdgpCaUDv"
   },
   "source": [
    "Classic style, using indexing and assignment"
   ]
  },
  {
   "cell_type": "code",
   "execution_count": null,
   "metadata": {
    "colab": {
     "base_uri": "https://localhost:8080/"
    },
    "executionInfo": {
     "elapsed": 664,
     "status": "ok",
     "timestamp": 1617631040586,
     "user": {
      "displayName": "Joel Chan",
      "photoUrl": "https://lh3.googleusercontent.com/a-/AOh14GiBPPpBf_QqgDL3pMurAsPu9WJJE_x_6UtgW13UFQ=s64",
      "userId": "15153559228409906865"
     },
     "user_tz": 240
    },
    "id": "7gKu9TnzcZbG",
    "outputId": "11eb333c-363f-4b32-c2e4-990f5e4b92e6"
   },
   "outputs": [
    {
     "name": "stdout",
     "output_type": "stream",
     "text": [
      "{'a': 'apple', 'b': 'ball', 'c': 'crayon'}\n",
      "{'a': 'apple', 'b': 'ball', 'c': 'crayon', 'e': 'egg'}\n",
      "{'a': 'apple', 'b': 'bread', 'c': 'crayon', 'e': 'egg'}\n",
      "{'a': 'ashes', 'b': 'bread', 'c': 'charming', 'e': 'egg'}\n"
     ]
    }
   ],
   "source": [
    "d = {\n",
    "   'a': 'apple',\n",
    "   'b': 'ball',\n",
    "   'c': 'crayon' \n",
    "}\n",
    "print(d)\n",
    "# add a new entry for e\n",
    "d['e'] = 'egg' # map the value egg to the key e\n",
    "print(d)\n",
    "# update the entry for b\n",
    "d['b'] = 'bread' # map the value bread to the key b (which happens to already exist, so we update it)\n",
    "print(d)\n",
    "# update the entries for a and c\n",
    "d['a'] = 'ashes'\n",
    "d['c'] = 'charming' \n",
    "print(d)"
   ]
  },
  {
   "cell_type": "markdown",
   "metadata": {
    "id": "wT_GF7fwaXGC"
   },
   "source": [
    "Newer style, using `.update()`"
   ]
  },
  {
   "cell_type": "code",
   "execution_count": null,
   "metadata": {
    "colab": {
     "base_uri": "https://localhost:8080/"
    },
    "executionInfo": {
     "elapsed": 365,
     "status": "ok",
     "timestamp": 1604334301559,
     "user": {
      "displayName": "Joel Chan",
      "photoUrl": "https://lh3.googleusercontent.com/a-/AOh14GiBPPpBf_QqgDL3pMurAsPu9WJJE_x_6UtgW13UFQ=s64",
      "userId": "15153559228409906865"
     },
     "user_tz": 300
    },
    "id": "ZBmVNv4DkBEf",
    "outputId": "89c90fd1-3911-447a-c601-44feea1a0a34"
   },
   "outputs": [
    {
     "name": "stdout",
     "output_type": "stream",
     "text": [
      "{'a': 'apple', 'b': 'ball', 'c': 'crayon'}\n",
      "{'a': 'apple', 'b': 'ball', 'c': 'crayon', 'e': 'egg'}\n",
      "{'a': 'apple', 'b': 'bread', 'c': 'crayon', 'e': 'egg'}\n",
      "{'a': 'ashes', 'b': 'bread', 'c': 'charming', 'e': 'egg'}\n"
     ]
    }
   ],
   "source": [
    "d = {\n",
    "   'a': 'apple',\n",
    "   'b': 'ball',\n",
    "   'c': 'crayon' \n",
    "}\n",
    "print(d)\n",
    "# add a new entry for e\n",
    "d.update({'e': 'egg'}) # map the value egg to the key e\n",
    "print(d)\n",
    "# update the entry for b\n",
    "d.update({'b': 'bread'}) # map the value bread to the key b (which happens to already exist, so we update it)\n",
    "print(d)\n",
    "# update the entries for a and c\n",
    "d.update({'a': 'ashes', 'c': 'charming'})\n",
    "print(d)"
   ]
  },
  {
   "cell_type": "markdown",
   "metadata": {
    "id": "r6WneQ0eadIy"
   },
   "source": [
    "`.update()` has the advantage of being able to add multiple key-value pairs at once."
   ]
  },
  {
   "cell_type": "code",
   "execution_count": null,
   "metadata": {
    "colab": {
     "base_uri": "https://localhost:8080/"
    },
    "executionInfo": {
     "elapsed": 567,
     "status": "ok",
     "timestamp": 1617631177589,
     "user": {
      "displayName": "Joel Chan",
      "photoUrl": "https://lh3.googleusercontent.com/a-/AOh14GiBPPpBf_QqgDL3pMurAsPu9WJJE_x_6UtgW13UFQ=s64",
      "userId": "15153559228409906865"
     },
     "user_tz": 240
    },
    "id": "CbhVPy9iVBkJ",
    "outputId": "745604a1-d8e7-4c04-870f-90a7df58d197"
   },
   "outputs": [
    {
     "name": "stdout",
     "output_type": "stream",
     "text": [
      "{'a': 'apple', 'b': 'ball', 'c': 'crayon'}\n",
      "{'a': 'ashes', 'b': 'bread', 'c': 'charming', 'e': 'egg'}\n"
     ]
    }
   ],
   "source": [
    "d = {\n",
    "   'a': 'apple',\n",
    "   'b': 'ball',\n",
    "   'c': 'crayon' \n",
    "}\n",
    "print(d)\n",
    "d.update({'a': 'ashes', 'b':'bread', 'c':'charming', 'e': 'egg'})\n",
    "print(d)"
   ]
  },
  {
   "cell_type": "markdown",
   "metadata": {
    "id": "AhUAWXgfnCgR"
   },
   "source": [
    "You can use the pattern that is comfortable for you, but I prefer `.get()` and `.update()` for now because it's more readable and robust."
   ]
  },
  {
   "cell_type": "markdown",
   "metadata": {
    "id": "cy1zzm0wb2TU"
   },
   "source": [
    "### List keys and values"
   ]
  },
  {
   "cell_type": "markdown",
   "metadata": {
    "id": "FHjARN_sb8wW"
   },
   "source": [
    ".keys()\n",
    "\n",
    ".values()\n",
    "\n",
    ".items()\n",
    "\n",
    "each of these is iterable"
   ]
  },
  {
   "cell_type": "code",
   "execution_count": null,
   "metadata": {},
   "outputs": [],
   "source": [
    "# .keys() gives you all of the keys\n",
    "# .values() gives you all of the values\n",
    "# .items gives all of the key-value pairs"
   ]
  },
  {
   "cell_type": "code",
   "execution_count": null,
   "metadata": {
    "colab": {
     "base_uri": "https://localhost:8080/"
    },
    "executionInfo": {
     "elapsed": 502,
     "status": "ok",
     "timestamp": 1617631424701,
     "user": {
      "displayName": "Joel Chan",
      "photoUrl": "https://lh3.googleusercontent.com/a-/AOh14GiBPPpBf_QqgDL3pMurAsPu9WJJE_x_6UtgW13UFQ=s64",
      "userId": "15153559228409906865"
     },
     "user_tz": 240
    },
    "id": "zYX-SeJOWKbs",
    "outputId": "0a557156-b398-4718-f404-5fffe52c37ec"
   },
   "outputs": [
    {
     "data": {
      "text/plain": [
       "{'a': 'ashes', 'b': 'bread', 'c': 'charming', 'e': 'egg'}"
      ]
     },
     "execution_count": 38,
     "metadata": {
      "tags": []
     },
     "output_type": "execute_result"
    }
   ],
   "source": [
    "d"
   ]
  },
  {
   "cell_type": "code",
   "execution_count": null,
   "metadata": {
    "colab": {
     "base_uri": "https://localhost:8080/"
    },
    "executionInfo": {
     "elapsed": 638,
     "status": "ok",
     "timestamp": 1617631401989,
     "user": {
      "displayName": "Joel Chan",
      "photoUrl": "https://lh3.googleusercontent.com/a-/AOh14GiBPPpBf_QqgDL3pMurAsPu9WJJE_x_6UtgW13UFQ=s64",
      "userId": "15153559228409906865"
     },
     "user_tz": 240
    },
    "id": "WvQ9-ZGxV3aS",
    "outputId": "923a80d5-053b-4913-df49-b514bfd9f39c"
   },
   "outputs": [
    {
     "data": {
      "text/plain": [
       "dict_keys(['a', 'b', 'c', 'e'])"
      ]
     },
     "execution_count": 36,
     "metadata": {
      "tags": []
     },
     "output_type": "execute_result"
    }
   ],
   "source": [
    "# list all the keys in the dictionary\n",
    "d.keys()"
   ]
  },
  {
   "cell_type": "code",
   "execution_count": null,
   "metadata": {
    "colab": {
     "base_uri": "https://localhost:8080/"
    },
    "executionInfo": {
     "elapsed": 667,
     "status": "ok",
     "timestamp": 1617631417064,
     "user": {
      "displayName": "Joel Chan",
      "photoUrl": "https://lh3.googleusercontent.com/a-/AOh14GiBPPpBf_QqgDL3pMurAsPu9WJJE_x_6UtgW13UFQ=s64",
      "userId": "15153559228409906865"
     },
     "user_tz": 240
    },
    "id": "n8QrDEAFWGbm",
    "outputId": "d1741aca-07c6-47e1-8e12-d59b89e61aca"
   },
   "outputs": [
    {
     "data": {
      "text/plain": [
       "dict_values(['ashes', 'bread', 'charming', 'egg'])"
      ]
     },
     "execution_count": 37,
     "metadata": {
      "tags": []
     },
     "output_type": "execute_result"
    }
   ],
   "source": [
    "# list all the values in the dictionary\n",
    "d.values()"
   ]
  },
  {
   "cell_type": "code",
   "execution_count": null,
   "metadata": {
    "colab": {
     "base_uri": "https://localhost:8080/"
    },
    "executionInfo": {
     "elapsed": 537,
     "status": "ok",
     "timestamp": 1617631448973,
     "user": {
      "displayName": "Joel Chan",
      "photoUrl": "https://lh3.googleusercontent.com/a-/AOh14GiBPPpBf_QqgDL3pMurAsPu9WJJE_x_6UtgW13UFQ=s64",
      "userId": "15153559228409906865"
     },
     "user_tz": 240
    },
    "id": "8hCyfNOHWMpk",
    "outputId": "78bf5787-311e-4eec-ef6d-b039c4fbb18b"
   },
   "outputs": [
    {
     "data": {
      "text/plain": [
       "dict_items([('a', 'ashes'), ('b', 'bread'), ('c', 'charming'), ('e', 'egg')])"
      ]
     },
     "execution_count": 39,
     "metadata": {
      "tags": []
     },
     "output_type": "execute_result"
    }
   ],
   "source": [
    "# list all the key-value pairs in the dictionary\n",
    "d.items()"
   ]
  },
  {
   "cell_type": "code",
   "execution_count": null,
   "metadata": {
    "colab": {
     "base_uri": "https://localhost:8080/"
    },
    "executionInfo": {
     "elapsed": 740,
     "status": "ok",
     "timestamp": 1617631479307,
     "user": {
      "displayName": "Joel Chan",
      "photoUrl": "https://lh3.googleusercontent.com/a-/AOh14GiBPPpBf_QqgDL3pMurAsPu9WJJE_x_6UtgW13UFQ=s64",
      "userId": "15153559228409906865"
     },
     "user_tz": 240
    },
    "id": "KzdaIBa6WV8e",
    "outputId": "b8415314-32ad-424a-cca0-97adfd7ee8ff"
   },
   "outputs": [
    {
     "name": "stdout",
     "output_type": "stream",
     "text": [
      "a\n",
      "b\n",
      "c\n",
      "e\n"
     ]
    }
   ],
   "source": [
    "# this means you can iterate through the keys/values\n",
    "for key in d.keys():\n",
    "  print(key)"
   ]
  },
  {
   "cell_type": "code",
   "execution_count": null,
   "metadata": {
    "colab": {
     "base_uri": "https://localhost:8080/"
    },
    "executionInfo": {
     "elapsed": 557,
     "status": "ok",
     "timestamp": 1617631524162,
     "user": {
      "displayName": "Joel Chan",
      "photoUrl": "https://lh3.googleusercontent.com/a-/AOh14GiBPPpBf_QqgDL3pMurAsPu9WJJE_x_6UtgW13UFQ=s64",
      "userId": "15153559228409906865"
     },
     "user_tz": 240
    },
    "id": "5aPlx12dWbUN",
    "outputId": "bfefbe4b-1474-4393-c663-8316571e8fa6"
   },
   "outputs": [
    {
     "name": "stdout",
     "output_type": "stream",
     "text": [
      "a is associated with the value ashes\n",
      "b is associated with the value bread\n",
      "c is associated with the value charming\n",
      "e is associated with the value egg\n"
     ]
    }
   ],
   "source": [
    "# iterate through the items\n",
    "for key, value in d.items():\n",
    "  print(f'{key} is associated with the value {value}')"
   ]
  },
  {
   "cell_type": "markdown",
   "metadata": {
    "id": "_dzPHNSlmTsl"
   },
   "source": [
    "### Check if a key is in a dictionary"
   ]
  },
  {
   "cell_type": "code",
   "execution_count": null,
   "metadata": {
    "colab": {
     "base_uri": "https://localhost:8080/"
    },
    "executionInfo": {
     "elapsed": 361,
     "status": "ok",
     "timestamp": 1604334598605,
     "user": {
      "displayName": "Joel Chan",
      "photoUrl": "https://lh3.googleusercontent.com/a-/AOh14GiBPPpBf_QqgDL3pMurAsPu9WJJE_x_6UtgW13UFQ=s64",
      "userId": "15153559228409906865"
     },
     "user_tz": 300
    },
    "id": "GhYfo75IyqHE",
    "outputId": "587d0238-fd60-4fe9-9b44-8ab960eb3dd6"
   },
   "outputs": [
    {
     "name": "stdout",
     "output_type": "stream",
     "text": [
      "True\n"
     ]
    }
   ],
   "source": [
    "d = {\n",
    "   'a': 'apple',\n",
    "   'b': 'ball',\n",
    "   'c': 'crayon' \n",
    "}\n",
    "print('a' in d)"
   ]
  },
  {
   "cell_type": "markdown",
   "metadata": {
    "id": "gZcJLnKtW03b"
   },
   "source": [
    "Can only use 'in' operator with keys"
   ]
  },
  {
   "cell_type": "markdown",
   "metadata": {
    "id": "VgTqsvbkayPx"
   },
   "source": [
    "You can also do this with `.get()`!"
   ]
  },
  {
   "cell_type": "code",
   "execution_count": null,
   "metadata": {
    "id": "_O75i7x2W8zO"
   },
   "outputs": [],
   "source": [
    "# retrieve value for a, if it's not found, say \"not found\"\n",
    "d.get(\"a\", \"Not found\")"
   ]
  },
  {
   "cell_type": "markdown",
   "metadata": {
    "id": "6kRTTq8Pb-CW"
   },
   "source": [
    "### Reverse look up keys from values: YOU CAN'T! Not really..."
   ]
  },
  {
   "cell_type": "markdown",
   "metadata": {
    "id": "wohpC8NFdPsx"
   },
   "source": [
    "Dictionaries are very powerful transformations of your data that make it REALLY easy to do a specific kind of operation, but lock you out of doing other things. So design the structure of the dictionary carefully. For example, if you make an index, and find that you actually care a lot about grabbing the top N words, you probably want to map counts (as keys) to words (as values), not words to counts."
   ]
  },
  {
   "cell_type": "code",
   "execution_count": null,
   "metadata": {
    "colab": {
     "base_uri": "https://localhost:8080/"
    },
    "executionInfo": {
     "elapsed": 478,
     "status": "ok",
     "timestamp": 1617631742446,
     "user": {
      "displayName": "Joel Chan",
      "photoUrl": "https://lh3.googleusercontent.com/a-/AOh14GiBPPpBf_QqgDL3pMurAsPu9WJJE_x_6UtgW13UFQ=s64",
      "userId": "15153559228409906865"
     },
     "user_tz": 240
    },
    "id": "0dj1GWMtcJGQ",
    "outputId": "b78fc7d7-fe75-4828-bd58-b0f3d87692f8"
   },
   "outputs": [
    {
     "data": {
      "text/plain": [
       "{'and': 2,\n",
       " 'by': 1,\n",
       " 'in': 1,\n",
       " 'sea': 6,\n",
       " 'sells': 1,\n",
       " 'she': 1,\n",
       " 'shells': 2,\n",
       " 'shore': 1,\n",
       " 'the': 4}"
      ]
     },
     "execution_count": 42,
     "metadata": {
      "tags": []
     },
     "output_type": "execute_result"
    }
   ],
   "source": [
    "s = \"she sells sea shells by the sea shore in the sea and the shells and the sea sea sea\"\n",
    "\n",
    "d = {} # define a dictionary to hold hte index\n",
    "# go through word by word\n",
    "for word in s.split():\n",
    "  # get the current count for the word, default to 0 if we haven't seen it\n",
    "  current_count = d.get(word, 0)\n",
    "  # update the count\n",
    "  new_count = current_count + 1\n",
    "  # update the dictionary with the word and count\n",
    "  d.update({word: new_count})\n",
    "\n",
    "d"
   ]
  },
  {
   "cell_type": "markdown",
   "metadata": {
    "id": "hWwxHRnweD8U"
   },
   "source": [
    "Could try to invert it, but...."
   ]
  },
  {
   "cell_type": "code",
   "execution_count": null,
   "metadata": {
    "id": "LobWJns8ckNq"
   },
   "outputs": [],
   "source": [
    "def reverse_dictionary(d):\n",
    "  return {v: k for k, v in d.items()}"
   ]
  },
  {
   "cell_type": "markdown",
   "metadata": {
    "id": "tseYtydPeHPD"
   },
   "source": [
    "You actually lose information, because remember: keys are unique! No duplicates! So we lose one of our \"2\" entries."
   ]
  },
  {
   "cell_type": "code",
   "execution_count": null,
   "metadata": {
    "colab": {
     "base_uri": "https://localhost:8080/"
    },
    "executionInfo": {
     "elapsed": 734,
     "status": "ok",
     "timestamp": 1617631814176,
     "user": {
      "displayName": "Joel Chan",
      "photoUrl": "https://lh3.googleusercontent.com/a-/AOh14GiBPPpBf_QqgDL3pMurAsPu9WJJE_x_6UtgW13UFQ=s64",
      "userId": "15153559228409906865"
     },
     "user_tz": 240
    },
    "id": "ET8zg0eJd4MK",
    "outputId": "05b132f2-eb34-4bf2-adbe-9f9991d5b412"
   },
   "outputs": [
    {
     "data": {
      "text/plain": [
       "{1: 'in', 2: 'and', 4: 'the', 6: 'sea'}"
      ]
     },
     "execution_count": 44,
     "metadata": {
      "tags": []
     },
     "output_type": "execute_result"
    }
   ],
   "source": [
    "d_invert = reverse_dictionary(d)\n",
    "d_invert"
   ]
  },
  {
   "cell_type": "code",
   "execution_count": null,
   "metadata": {
    "colab": {
     "base_uri": "https://localhost:8080/"
    },
    "executionInfo": {
     "elapsed": 594,
     "status": "ok",
     "timestamp": 1617631967572,
     "user": {
      "displayName": "Joel Chan",
      "photoUrl": "https://lh3.googleusercontent.com/a-/AOh14GiBPPpBf_QqgDL3pMurAsPu9WJJE_x_6UtgW13UFQ=s64",
      "userId": "15153559228409906865"
     },
     "user_tz": 240
    },
    "id": "yS-djFp0X92U",
    "outputId": "ef4a1b10-8dc4-4714-825f-4ab1a690e9ee"
   },
   "outputs": [
    {
     "data": {
      "text/plain": [
       "{1: ['she', 'sells', 'by', 'shore', 'in'],\n",
       " 2: ['shells', 'and'],\n",
       " 4: ['the'],\n",
       " 6: ['sea']}"
      ]
     },
     "execution_count": 45,
     "metadata": {
      "tags": []
     },
     "output_type": "execute_result"
    }
   ],
   "source": [
    "d_invert = {}\n",
    "for word, count in d.items():\n",
    "  words = d_invert.get(count, []) # get the current list of words associated with this count\n",
    "  words.append(word)\n",
    "  d_invert.update({count: words})\n",
    "d_invert"
   ]
  },
  {
   "cell_type": "markdown",
   "metadata": {
    "id": "RqOYMjCVeUN5"
   },
   "source": [
    "## Advanced"
   ]
  },
  {
   "cell_type": "markdown",
   "metadata": {
    "id": "I7ExfNqfirdv"
   },
   "source": [
    "Next week we will dig into some design patterns and advanced usage of dictionaries, and briefly introduce files. For now, consider this worked example of our problem from the beginning."
   ]
  },
  {
   "cell_type": "code",
   "execution_count": null,
   "metadata": {
    "id": "ZYI-1uBoy-eL"
   },
   "outputs": [],
   "source": [
    "# how to know which chapters talk about strings? or debugging?\n",
    "book = [\n",
    "  \"Chapter 1: talks about strings and how they have the property of immutability also some basic debugging\",\n",
    "  \"Chapter 2: continues talking about advanced methods for strings and also introduces the concept of functions\",\n",
    "  \"Chapter 3: discusses iteration and lists and also debugging\",\n",
    "]"
   ]
  },
  {
   "cell_type": "code",
   "execution_count": 21,
   "metadata": {
    "colab": {
     "base_uri": "https://localhost:8080/"
    },
    "executionInfo": {
     "elapsed": 525,
     "status": "ok",
     "timestamp": 1617632076837,
     "user": {
      "displayName": "Joel Chan",
      "photoUrl": "https://lh3.googleusercontent.com/a-/AOh14GiBPPpBf_QqgDL3pMurAsPu9WJJE_x_6UtgW13UFQ=s64",
      "userId": "15153559228409906865"
     },
     "user_tz": 240
    },
    "id": "Jd_4nXMTzAik",
    "outputId": "a9d8c462-86c3-428c-9775-97df6492ee9b"
   },
   "outputs": [
    {
     "data": {
      "text/plain": [
       "{'strings': ['Chapter 1', 'Chapter 2'],\n",
       " 'immutability': ['Chapter 1'],\n",
       " 'debugging': ['Chapter 1', 'Chapter 3'],\n",
       " 'functions': ['Chapter 2']}"
      ]
     },
     "execution_count": 21,
     "metadata": {},
     "output_type": "execute_result"
    }
   ],
   "source": [
    "# with dictionaries\n",
    "index = {} # dictionary to hold index\n",
    "keywords = [\"strings\", \"debugging\", \"immutability\", \"functions\"]\n",
    "for chapter in book:\n",
    "    \n",
    "    #parse the chapter entry\n",
    "    elements = chapter.split(\":\") # split into chapter and contents\n",
    "    #key\n",
    "    ch_num = elements[0]\n",
    "    #values\n",
    "    contents = elements[1]\n",
    "    words = contents.split(\" \")\n",
    "    # go through every word\n",
    "    for word in words:\n",
    "        if word in keywords: # if it's a keyword\n",
    "            # index.append([word, ch_num]) # associate word wit hchapter number\n",
    "            keyword = word\n",
    "            # get current chapters associated with this word; default to empty list\n",
    "            chapters = index.get(keyword, []) \n",
    "            #update the value\n",
    "            chapters.append(ch_num) # add the current chapter number\n",
    "            #update the dictionary\n",
    "            #update the index dictionary with this key:with this value\n",
    "            index.update({keyword: chapters}) # update the index\n",
    "index"
   ]
  },
  {
   "cell_type": "code",
   "execution_count": null,
   "metadata": {
    "id": "esoPJLdAzo_-"
   },
   "outputs": [],
   "source": []
  }
 ],
 "metadata": {
  "colab": {
   "collapsed_sections": [],
   "name": "INST126_SP21_Week11_Dictionaries_post-class.ipynb",
   "provenance": [],
   "toc_visible": true
  },
  "kernelspec": {
   "display_name": "Python 3 (ipykernel)",
   "language": "python",
   "name": "python3"
  },
  "language_info": {
   "codemirror_mode": {
    "name": "ipython",
    "version": 3
   },
   "file_extension": ".py",
   "mimetype": "text/x-python",
   "name": "python",
   "nbconvert_exporter": "python",
   "pygments_lexer": "ipython3",
   "version": "3.9.7"
  }
 },
 "nbformat": 4,
 "nbformat_minor": 1
}
