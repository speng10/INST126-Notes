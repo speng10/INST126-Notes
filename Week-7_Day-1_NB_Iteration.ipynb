{
 "cells": [
  {
   "cell_type": "markdown",
   "metadata": {
    "id": "g-lkfdphxbR0"
   },
   "source": [
    "## What are loops and why should we care about them?\n"
   ]
  },
  {
   "cell_type": "markdown",
   "metadata": {
    "id": "X8Q343PRGhMR"
   },
   "source": [
    "### Loops are a fundamental control structure"
   ]
  },
  {
   "cell_type": "markdown",
   "metadata": {
    "id": "Ku3vlFoMjfUt"
   },
   "source": [
    "Loops are a fundamental building block of comptutational solutions to problems. They are an example of a **control structure**. Conditionals are another example of control structures.\n",
    "\n",
    "Control structures allow you to control *when/whether* (conditional) and *how many times* (loops) you do things"
   ]
  },
  {
   "cell_type": "markdown",
   "metadata": {
    "id": "59UWIOJ_jgrs"
   },
   "source": [
    "It's hard to build programs without a concise way to instruct the computer to do *repeated actions*.\n",
    "\n",
    "Here are some simple examples. Try to think of how you might solve these without loops!\n",
    "- Put 6 cups of flour into this box\n",
    "- Stir occasionally until the sauce starts to reduce"
   ]
  },
  {
   "cell_type": "code",
   "execution_count": 3,
   "metadata": {
    "id": "36G3HH2Nj9-B"
   },
   "outputs": [
    {
     "name": "stdout",
     "output_type": "stream",
     "text": [
      "scooping\n",
      "scooping\n",
      "scooping\n",
      "scooping\n",
      "scooping\n",
      "scooping\n",
      "scooping\n"
     ]
    }
   ],
   "source": [
    "def scoop_into_box():\n",
    "    print(\"scooping\")\n",
    "    \n",
    "scoop_into_box()\n",
    "scoop_into_box()\n",
    "scoop_into_box()\n",
    "scoop_into_box()\n",
    "scoop_into_box()\n",
    "scoop_into_box()\n",
    "scoop_into_box()"
   ]
  },
  {
   "cell_type": "code",
   "execution_count": 4,
   "metadata": {
    "id": "Un6dKvO0UGEG"
   },
   "outputs": [
    {
     "name": "stdout",
     "output_type": "stream",
     "text": [
      "scooping\n",
      "scooping\n",
      "scooping\n",
      "scooping\n",
      "scooping\n",
      "scooping\n"
     ]
    }
   ],
   "source": [
    "num_cups = 6\n",
    "for cup in range(num_cups):\n",
    "    scoop_into_box()"
   ]
  },
  {
   "cell_type": "markdown",
   "metadata": {
    "id": "020LJeezj-ZD"
   },
   "source": [
    "With loops these get a LOT easier to specify, and become more robust and reusable too."
   ]
  },
  {
   "cell_type": "code",
   "execution_count": null,
   "metadata": {
    "id": "mhfdYkXgkDZz"
   },
   "outputs": [],
   "source": [
    "def stir():\n",
    "    print(\"stirring\")\n",
    "def check_sauce:\n",
    "    print(\"checking sauce\")\n",
    "stir()\n",
    "if check_sauce()== \"thick\": \n",
    "    stir()\n",
    "    if check_sacuce() == \"thick\":"
   ]
  },
  {
   "cell_type": "code",
   "execution_count": null,
   "metadata": {},
   "outputs": [],
   "source": [
    "thickness = check_sauce()\n",
    "while thickness != \"thick\":\n",
    "    stir()\n",
    "    thickness = check_sauce()"
   ]
  },
  {
   "cell_type": "markdown",
   "metadata": {
    "id": "2EI3jDA6knjR"
   },
   "source": [
    "Loops also enable many useful algorithms/patterns that go nicely with lists. You'll be practicing and applying them in PCEs and Projects this module!\n",
    "\n",
    "For example:\n",
    "- Searching through a list\n",
    "- Filtering a list of items\n",
    "- Counting occurrences in some collection"
   ]
  },
  {
   "cell_type": "markdown",
   "metadata": {},
   "source": [
    "Continuing with our running example for this module, here are loops in the context of a program:"
   ]
  },
  {
   "cell_type": "code",
   "execution_count": null,
   "metadata": {},
   "outputs": [],
   "source": [
    "# key variables:\n",
    "# the input LIST of strings\n",
    "inputs = [\n",
    "    \"hello sarah@umd.edu\",\n",
    "    \"from: joelchan@umd.edu\",\n",
    "    \"some other text that doesn't have an email\"\n",
    "]\n",
    "# a LIST to store the email addresses\n",
    "emails = []\n",
    "\n",
    "# LOOP over every text input\n",
    "for text_input in inputs:\n",
    "    \n",
    "    # extract an email address\n",
    "    # split the text into subsets\n",
    "    chunks = text_input.split()\n",
    "    \n",
    "    # LOOP over the list of chunks to check each one\n",
    "    for chunk in chunks:\n",
    "        # check if it has @ and .\n",
    "        if \"@\" in chunk and \".\" in chunk:\n",
    "            # put the chunk in the email list\n",
    "            emails.append(chunk)\n",
    "# give the email address back to the user\n",
    "print(emails)"
   ]
  },
  {
   "cell_type": "markdown",
   "metadata": {
    "id": "rt-d9q-YGx3F"
   },
   "source": [
    "## Two fundamental kinds of loops: definite and indefinite\n"
   ]
  },
  {
   "cell_type": "markdown",
   "metadata": {
    "id": "XMfeWgyvG3W7"
   },
   "source": [
    "### Definite loops (for loops)"
   ]
  },
  {
   "cell_type": "markdown",
   "metadata": {
    "id": "s8zUmMgjkYv2"
   },
   "source": [
    "Quite often we have a list of items of the lines in a file - effectively a finite set of things. We can write a loop to do some operation once for each of the items in a set using the Python for construct.\n",
    "\n",
    "These loops are called “*definite loops*” because they execute an exact number of times. We say that “definite loops iterate through the members of a set”\n",
    "\n",
    "Use definite/for when you know in advance how many times you want to do something.\n",
    "\n",
    "This is the use case in our running example.\n",
    "\n",
    "Other examples:\n",
    "- Do an action N times\n",
    "- Take M steps\n",
    "- Do something for every item in a finite list"
   ]
  },
  {
   "cell_type": "markdown",
   "metadata": {
    "id": "pogG9d6WlQyC"
   },
   "source": [
    "### Indefinite loops (while loops)\n",
    "\n",
    "Sometimes you want to repeat actions, but you don't know in advance how many times you want to repeat. But you do have a *stopping condition*. In this situation, you can use indefinite loops, which are called so because they keep going until a logical condition becomes `False`.\n",
    "\n",
    "Examples:\n",
    "- Keep going until I tell you to stop\n",
    "- Keep stirring until the sauce thickens\n",
    "- Keep taking candy from the box until your bucket is full or the box is empty\n",
    "\n",
    "Use indefinite/while when you don't know in advance how many times you want to do something, but do have a stopping condition you can clearly express."
   ]
  },
  {
   "cell_type": "markdown",
   "metadata": {
    "id": "ifBcaTKuA2jN"
   },
   "source": [
    "## Anatomy of a definite (for) loop in Python\n",
    "  \n"
   ]
  },
  {
   "cell_type": "markdown",
   "metadata": {
    "id": "RKgca-CfnFK9"
   },
   "source": [
    "Let's take a closer look.\n",
    "\n",
    "- The **iteration variable** \"iterates\" through the **sequence** (ordered set)\n",
    "- The **block (body)** of code is executed once for each value **in** the **sequence**\n",
    "- The **iteration variable** moves through all of the values in the **sequence**"
   ]
  },
  {
   "cell_type": "code",
   "execution_count": 5,
   "metadata": {
    "colab": {
     "base_uri": "https://localhost:8080/"
    },
    "executionInfo": {
     "elapsed": 482,
     "status": "ok",
     "timestamp": 1615213471489,
     "user": {
      "displayName": "Joel Chan",
      "photoUrl": "https://lh3.googleusercontent.com/a-/AOh14GiBPPpBf_QqgDL3pMurAsPu9WJJE_x_6UtgW13UFQ=s64",
      "userId": "15153559228409906865"
     },
     "user_tz": 300
    },
    "id": "JG-iNe0ZHJVn",
    "outputId": "9f88c852-9bd5-4917-c7d2-813f21d2ff27"
   },
   "outputs": [
    {
     "name": "stdout",
     "output_type": "stream",
     "text": [
      "taking soemthing from the list\n",
      "5\n",
      "taking soemthing from the list\n",
      "4\n",
      "taking soemthing from the list\n",
      "3\n",
      "taking soemthing from the list\n",
      "2\n",
      "taking soemthing from the list\n",
      "1\n"
     ]
    }
   ],
   "source": [
    "nums = [5, 4, 3, 2, 1]\n",
    "# here, i is the iteration variable\n",
    "for i in nums: \n",
    "    print(\"taking soemthing from the list\")\n",
    "    print(i) # block/body"
   ]
  },
  {
   "cell_type": "code",
   "execution_count": 6,
   "metadata": {
    "colab": {
     "base_uri": "https://localhost:8080/"
    },
    "executionInfo": {
     "elapsed": 273,
     "status": "ok",
     "timestamp": 1615213496351,
     "user": {
      "displayName": "Joel Chan",
      "photoUrl": "https://lh3.googleusercontent.com/a-/AOh14GiBPPpBf_QqgDL3pMurAsPu9WJJE_x_6UtgW13UFQ=s64",
      "userId": "15153559228409906865"
     },
     "user_tz": 300
    },
    "id": "zG1UtIKUObvH",
    "outputId": "b831bd59-0b6f-4315-9b96-5dac3e9e0bed"
   },
   "outputs": [
    {
     "name": "stdout",
     "output_type": "stream",
     "text": [
      "100\n",
      "80\n",
      "60\n",
      "40\n",
      "20\n"
     ]
    }
   ],
   "source": [
    "nums = [5, 4, 3, 2, 1]\n",
    "# here, i is the iteration variable\n",
    "for i in nums: \n",
    "    new_num = i*20\n",
    "    print(new_num) # block/body"
   ]
  },
  {
   "cell_type": "markdown",
   "metadata": {},
   "source": [
    "The iteration variable is a *variable*: this means you can name it whatever you like, subject to the basic syntax rules and of course our heuristic to name things to make the logic of the program legible."
   ]
  },
  {
   "cell_type": "code",
   "execution_count": null,
   "metadata": {
    "colab": {
     "base_uri": "https://localhost:8080/"
    },
    "executionInfo": {
     "elapsed": 307,
     "status": "ok",
     "timestamp": 1615213525553,
     "user": {
      "displayName": "Joel Chan",
      "photoUrl": "https://lh3.googleusercontent.com/a-/AOh14GiBPPpBf_QqgDL3pMurAsPu9WJJE_x_6UtgW13UFQ=s64",
      "userId": "15153559228409906865"
     },
     "user_tz": 300
    },
    "id": "1T9U4yhBOk3r",
    "outputId": "6ee08cbf-d142-4943-8b9b-87cd1657503c"
   },
   "outputs": [
    {
     "name": "stdout",
     "output_type": "stream",
     "text": [
      "100\n",
      "80\n",
      "60\n",
      "40\n",
      "20\n"
     ]
    }
   ],
   "source": [
    "#the rance funciton produces and iterable sequence of numbers\n",
    "#that start at the optional first, argument,, and stop at the\n",
    "#requrired second arcument w3schools\n",
    "\n",
    "nums = [5, 4, 3, 2, 1]\n",
    "# here, num is the iteration variable\n",
    "for num in nums: \n",
    "    new_num = num*20\n",
    "    print(new_num) # block/body"
   ]
  },
  {
   "cell_type": "code",
   "execution_count": null,
   "metadata": {
    "colab": {
     "base_uri": "https://localhost:8080/"
    },
    "executionInfo": {
     "elapsed": 274,
     "status": "ok",
     "timestamp": 1615213734561,
     "user": {
      "displayName": "Joel Chan",
      "photoUrl": "https://lh3.googleusercontent.com/a-/AOh14GiBPPpBf_QqgDL3pMurAsPu9WJJE_x_6UtgW13UFQ=s64",
      "userId": "15153559228409906865"
     },
     "user_tz": 300
    },
    "id": "RAYZuWu-PScT",
    "outputId": "c63e7118-a318-4e7b-c52f-7087507b2f48"
   },
   "outputs": [
    {
     "name": "stdout",
     "output_type": "stream",
     "text": [
      "4\n",
      "2\n"
     ]
    }
   ],
   "source": [
    "nums = [5, 4, 3, 2, 1]\n",
    "# here, num is the iteration variable\n",
    "for num in nums: \n",
    "    if num % 2 == 0: # check if even\n",
    "        print(num) # block/body"
   ]
  },
  {
   "cell_type": "code",
   "execution_count": null,
   "metadata": {
    "colab": {
     "base_uri": "https://localhost:8080/"
    },
    "executionInfo": {
     "elapsed": 351,
     "status": "ok",
     "timestamp": 1615213681904,
     "user": {
      "displayName": "Joel Chan",
      "photoUrl": "https://lh3.googleusercontent.com/a-/AOh14GiBPPpBf_QqgDL3pMurAsPu9WJJE_x_6UtgW13UFQ=s64",
      "userId": "15153559228409906865"
     },
     "user_tz": 300
    },
    "id": "Et-DE_NUmkXT",
    "outputId": "5d78744a-d474-4de4-af3f-f7ab66a93ee5"
   },
   "outputs": [
    {
     "name": "stdout",
     "output_type": "stream",
     "text": [
      "john\n",
      "terrell\n",
      "qian\n",
      "malala\n"
     ]
    }
   ],
   "source": [
    "for name in [\"john\", \"terrell\", \"qian\", \"malala\"]:\n",
    "    print(name)"
   ]
  },
  {
   "cell_type": "code",
   "execution_count": 7,
   "metadata": {
    "colab": {
     "base_uri": "https://localhost:8080/"
    },
    "executionInfo": {
     "elapsed": 351,
     "status": "ok",
     "timestamp": 1615213820329,
     "user": {
      "displayName": "Joel Chan",
      "photoUrl": "https://lh3.googleusercontent.com/a-/AOh14GiBPPpBf_QqgDL3pMurAsPu9WJJE_x_6UtgW13UFQ=s64",
      "userId": "15153559228409906865"
     },
     "user_tz": 300
    },
    "id": "eq8JdNq6Wn-n",
    "outputId": "8a148ae9-c67d-4c9b-cf9a-92b05629a657"
   },
   "outputs": [
    {
     "name": "stdout",
     "output_type": "stream",
     "text": [
      "I has the value 0\n",
      "Taking a step\n",
      "I has the value 1\n",
      "Taking a step\n",
      "I has the value 2\n",
      "Taking a step\n",
      "I has the value 3\n",
      "Taking a step\n",
      "I has the value 4\n",
      "Taking a step\n",
      "I has the value 5\n",
      "Taking a step\n",
      "I has the value 6\n",
      "Taking a step\n"
     ]
    }
   ],
   "source": [
    "# use this if you want to specify doing something N times\n",
    "# e.g., here, take a step 5 times\n",
    "for i in range(7):\n",
    "    print(\"I has the value\", i)\n",
    "    print(\"Taking a step\")"
   ]
  },
  {
   "cell_type": "code",
   "execution_count": null,
   "metadata": {
    "id": "yfgvj-_zQFeq"
   },
   "outputs": [],
   "source": [
    "# use this if you want to specify doing something N times\n",
    "# e.g., here, take a step 5 times\n",
    "for i in [0,1,2,3,4]:\n",
    "    print(\"I has the value\", i)\n",
    "    print(\"Taking a step\")"
   ]
  },
  {
   "cell_type": "code",
   "execution_count": null,
   "metadata": {
    "colab": {
     "base_uri": "https://localhost:8080/"
    },
    "executionInfo": {
     "elapsed": 284,
     "status": "ok",
     "timestamp": 1614615096097,
     "user": {
      "displayName": "Joel Chan",
      "photoUrl": "https://lh3.googleusercontent.com/a-/AOh14GiBPPpBf_QqgDL3pMurAsPu9WJJE_x_6UtgW13UFQ=s64",
      "userId": "15153559228409906865"
     },
     "user_tz": 300
    },
    "id": "kMxlyMK_joG3",
    "outputId": "22b34390-0b8e-4894-b6df-8ec4a0532f1f"
   },
   "outputs": [
    {
     "name": "stdout",
     "output_type": "stream",
     "text": [
      "scooping cup number 1\n",
      "scooping cup number 2\n",
      "scooping cup number 3\n",
      "scooping cup number 4\n",
      "scooping cup number 5\n",
      "scooping cup number 6\n"
     ]
    }
   ],
   "source": [
    "# scoop 6 cups\n",
    "steps = 6\n",
    "for step in range(steps):\n",
    "    print(\"scooping cup number\", step+1)"
   ]
  },
  {
   "cell_type": "markdown",
   "metadata": {
    "id": "DgkOR-cIm2Iy"
   },
   "source": [
    "Let's take a closer look in [python tutor](http://www.pythontutor.com/visualize.html#mode=edit)\n",
    "\n"
   ]
  },
  {
   "cell_type": "markdown",
   "metadata": {
    "id": "AhUAWXgfnCgR"
   },
   "source": [
    "## Anatomy of an indefinite (while) loop in Python"
   ]
  },
  {
   "cell_type": "markdown",
   "metadata": {
    "id": "zo4AqTPfnkDz"
   },
   "source": [
    "- The **stopping condition** defines when the loop will stop and go to the next block of code\n",
    "  - It's composed of a *Boolean expression*\n",
    "  - It should be possible for the Boolean expression to be `False`!\n",
    "- The **block (body)** of code is executed once for each iteration in the loop\n",
    "  - It is essential that the body of the loop has some operation it that modifies what is checked in the stopping condition"
   ]
  },
  {
   "cell_type": "code",
   "execution_count": 8,
   "metadata": {
    "id": "XaKR0NezoWFr"
   },
   "outputs": [
    {
     "name": "stdout",
     "output_type": "stream",
     "text": [
      "5\n",
      "4\n",
      "3\n",
      "2\n",
      "1\n",
      "Blast off!\n"
     ]
    }
   ],
   "source": [
    "n = 5\n",
    "while n > 0:\n",
    "    print(n)\n",
    "    n = n - 1 #stopping condition update\n",
    "print(\"Blast off!\")"
   ]
  },
  {
   "cell_type": "code",
   "execution_count": null,
   "metadata": {
    "colab": {
     "base_uri": "https://localhost:8080/"
    },
    "executionInfo": {
     "elapsed": 322,
     "status": "ok",
     "timestamp": 1615214355937,
     "user": {
      "displayName": "Joel Chan",
      "photoUrl": "https://lh3.googleusercontent.com/a-/AOh14GiBPPpBf_QqgDL3pMurAsPu9WJJE_x_6UtgW13UFQ=s64",
      "userId": "15153559228409906865"
     },
     "user_tz": 300
    },
    "id": "vgi3xvEDolOS",
    "outputId": "f7c74b34-1c0e-4af4-bcf6-9fd4dc09341b"
   },
   "outputs": [
    {
     "name": "stdout",
     "output_type": "stream",
     "text": [
      "Taking a step 0\n",
      "Taking a step 1\n",
      "Taking a step 2\n",
      "Taking a step 3\n",
      "Taking a step 4\n",
      "Taking a step 5\n",
      "Taking a step 6\n",
      "Taking a step 7\n",
      "Taking a step 8\n",
      "Taking a step 9\n",
      "Taking a step 10\n",
      "Taking a step 11\n",
      "Taking a step 12\n",
      "Taking a step 13\n",
      "Taking a step 14\n",
      "Taking a step 15\n",
      "Taking a step 16\n",
      "Taking a step 17\n",
      "Taking a step 18\n",
      "Taking a step 19\n",
      "Done!\n"
     ]
    }
   ],
   "source": [
    "# keep taking steps until you hit a limit\n",
    "steps = 0\n",
    "limit = 20\n",
    "while steps < limit:\n",
    "    print(\"Taking a step\", steps)\n",
    "    steps += 1\n",
    "print(\"Done!\")"
   ]
  },
  {
   "cell_type": "code",
   "execution_count": 9,
   "metadata": {},
   "outputs": [
    {
     "name": "stdout",
     "output_type": "stream",
     "text": [
      "Try to guess the number between 1 and 10, or say `exit` to quit5\n",
      "You got it!\n"
     ]
    }
   ],
   "source": [
    "guess = input(\"Try to guess the number between 1 and 10, or say `exit` to quit\")\n",
    "number = 5\n",
    "found = False\n",
    "while guess != \"exit\" and not found:\n",
    "    if int(guess) == number:\n",
    "        print(\"You got it!\")\n",
    "        found = True\n",
    "    else:\n",
    "        guess = input(\"Try to guess the number between 1 and 10, or say `exit` to quit\")"
   ]
  },
  {
   "cell_type": "markdown",
   "metadata": {
    "id": "hexZdUb0M71q"
   },
   "source": [
    "Let's take a closer look in [python tutor](http://www.pythontutor.com/visualize.html#mode=edit)"
   ]
  },
  {
   "cell_type": "markdown",
   "metadata": {
    "id": "Jakekt19MaZ0"
   },
   "source": [
    "## Breaking a loop with the `break` statement"
   ]
  },
  {
   "cell_type": "markdown",
   "metadata": {
    "id": "BSXoxcbFMfWU"
   },
   "source": [
    "The break statement ends the current loop and jumps to the statement immediately following the loop. \n",
    "It is like a loop test that can happen anywhere in the body of the loop\n"
   ]
  },
  {
   "cell_type": "code",
   "execution_count": null,
   "metadata": {
    "colab": {
     "base_uri": "https://localhost:8080/"
    },
    "executionInfo": {
     "elapsed": 574,
     "status": "ok",
     "timestamp": 1615215187124,
     "user": {
      "displayName": "Joel Chan",
      "photoUrl": "https://lh3.googleusercontent.com/a-/AOh14GiBPPpBf_QqgDL3pMurAsPu9WJJE_x_6UtgW13UFQ=s64",
      "userId": "15153559228409906865"
     },
     "user_tz": 300
    },
    "id": "7Vn3T7moZCYx",
    "outputId": "784aeaa1-4410-481e-e12b-97499102adc3"
   },
   "outputs": [
    {
     "name": "stdout",
     "output_type": "stream",
     "text": [
      "Joel\n",
      "John\n",
      "Found!\n",
      "We're done with the loop\n",
      "Found john!\n"
     ]
    }
   ],
   "source": [
    "found = False # default is we hvaen't found it\n",
    "names = [\"Joel\", \"John\", \"Jane\", \"Jamie\", \"Lisa\", \"Anna\", \"Fred\"]\n",
    "for name in names:\n",
    "    print(name)\n",
    "    if name == \"John\":\n",
    "        found = True # set found to true\n",
    "        print(\"Found!\")\n",
    "        break\n",
    "print(\"We're done with the loop\")\n",
    "if found:\n",
    "    print(\"Found john!\")\n",
    "else:\n",
    "    print(\"Didn't find john\")"
   ]
  },
  {
   "cell_type": "code",
   "execution_count": null,
   "metadata": {},
   "outputs": [],
   "source": [
    "found = False # default is we hvaen't found it\n",
    "names = [\"Joel\", \"John\", \"Jane\", \"Jamie\", \"Lisa\", \"Anna\", \"Fred\"]\n",
    "while not found:\n",
    "    if name == \"John\":\n",
    "        found == True\n",
    "    if len(names)> 0:\n",
    "        name = names.pop()\n",
    "if found:\n",
    "    print(\"Found john!\")\n",
    "else:\n",
    "    print(\"Didn't find john\")"
   ]
  },
  {
   "cell_type": "code",
   "execution_count": null,
   "metadata": {
    "colab": {
     "base_uri": "https://localhost:8080/"
    },
    "executionInfo": {
     "elapsed": 34120,
     "status": "ok",
     "timestamp": 1615215056758,
     "user": {
      "displayName": "Joel Chan",
      "photoUrl": "https://lh3.googleusercontent.com/a-/AOh14GiBPPpBf_QqgDL3pMurAsPu9WJJE_x_6UtgW13UFQ=s64",
      "userId": "15153559228409906865"
     },
     "user_tz": 300
    },
    "id": "7ysp26d3MtqZ",
    "outputId": "2d76b6e8-9dad-4a41-c03d-6346b5b9cb75"
   },
   "outputs": [
    {
     "name": "stdout",
     "output_type": "stream",
     "text": [
      "> Joel\n",
      "Joel\n",
      "> Tree\n",
      "Tree\n",
      "> Keep\n",
      "Keep\n",
      "> done\n",
      "Done!\n"
     ]
    }
   ],
   "source": [
    "while True:\n",
    "    line = input('> ')\n",
    "    if line == 'done' :\n",
    "        break\n",
    "    print(line)\n",
    "print('Done!')"
   ]
  },
  {
   "cell_type": "markdown",
   "metadata": {
    "id": "jzXOyOGZlyNN"
   },
   "source": [
    "## Indentation is key!\n",
    "\n",
    "The way that Python knows what counts as the body of code for a loop (whether definite or indefinite) is through indentation. \n",
    "\n",
    "You must indent all code that goes in the body underneath the for/while statement (after the colon).\n",
    "\n",
    "If you fail to indent the first line of code in the body, you will get an IndentationError.\n",
    "\n",
    "If you fail to indent anything after the first line of code in the body, you will be committing a semantic error: Python will not alert you because it is legal code. But your program will probably malfunction."
   ]
  },
  {
   "cell_type": "code",
   "execution_count": null,
   "metadata": {
    "colab": {
     "base_uri": "https://localhost:8080/",
     "height": 130
    },
    "executionInfo": {
     "elapsed": 422,
     "status": "error",
     "timestamp": 1615214531223,
     "user": {
      "displayName": "Joel Chan",
      "photoUrl": "https://lh3.googleusercontent.com/a-/AOh14GiBPPpBf_QqgDL3pMurAsPu9WJJE_x_6UtgW13UFQ=s64",
      "userId": "15153559228409906865"
     },
     "user_tz": 300
    },
    "id": "QhaEFbPdSYru",
    "outputId": "3ac1ea81-4afa-4574-e487-9daa18cd594f"
   },
   "outputs": [
    {
     "ename": "IndentationError",
     "evalue": "ignored",
     "output_type": "error",
     "traceback": [
      "\u001b[0;36m  File \u001b[0;32m\"<ipython-input-8-ff840fecd491>\"\u001b[0;36m, line \u001b[0;32m2\u001b[0m\n\u001b[0;31m    print(i)\u001b[0m\n\u001b[0m        ^\u001b[0m\n\u001b[0;31mIndentationError\u001b[0m\u001b[0;31m:\u001b[0m expected an indented block\n"
     ]
    }
   ],
   "source": [
    "for i in range(5):\n",
    "print(i)"
   ]
  },
  {
   "cell_type": "code",
   "execution_count": null,
   "metadata": {
    "colab": {
     "base_uri": "https://localhost:8080/"
    },
    "executionInfo": {
     "elapsed": 350,
     "status": "ok",
     "timestamp": 1615214651739,
     "user": {
      "displayName": "Joel Chan",
      "photoUrl": "https://lh3.googleusercontent.com/a-/AOh14GiBPPpBf_QqgDL3pMurAsPu9WJJE_x_6UtgW13UFQ=s64",
      "userId": "15153559228409906865"
     },
     "user_tz": 300
    },
    "id": "rZMhDAYjSgUz",
    "outputId": "340b1967-9670-4c80-fed5-f0119830b9f7"
   },
   "outputs": [
    {
     "name": "stdout",
     "output_type": "stream",
     "text": [
      "5\n",
      "10\n",
      "15\n",
      "20\n",
      "25\n"
     ]
    }
   ],
   "source": [
    "# i want to step through a list of numbers, multiply each of them by 5 and print htem out\n",
    "nums = [1,2,3,4,5]\n",
    "for num in nums:\n",
    "  new_num = num*5\n",
    "  print(new_num)"
   ]
  },
  {
   "cell_type": "markdown",
   "metadata": {
    "id": "FYVv4YjdCjfS"
   },
   "source": [
    "\n",
    "## Common design patterns with loops\n"
   ]
  },
  {
   "cell_type": "markdown",
   "metadata": {
    "id": "zkz3w2_RHk2B"
   },
   "source": [
    "### Counting\n",
    "\n",
    "A common situation: you have a list of stuff, and you want to count how many times a certain kind of thing shows up in that list. Iteration is a really helpful way to do this.\n",
    "\n",
    "For example, let's say I want to count the number of \"high performers\" in a list of scores (where high performing means score of 95 or greater)."
   ]
  },
  {
   "cell_type": "code",
   "execution_count": null,
   "metadata": {
    "colab": {
     "base_uri": "https://localhost:8080/"
    },
    "executionInfo": {
     "elapsed": 318,
     "status": "ok",
     "timestamp": 1615215423848,
     "user": {
      "displayName": "Joel Chan",
      "photoUrl": "https://lh3.googleusercontent.com/a-/AOh14GiBPPpBf_QqgDL3pMurAsPu9WJJE_x_6UtgW13UFQ=s64",
      "userId": "15153559228409906865"
     },
     "user_tz": 300
    },
    "id": "FRA-7vjDVme4",
    "outputId": "8803ff78-23b2-4c24-9384-3b09654a7fef"
   },
   "outputs": [
    {
     "name": "stdout",
     "output_type": "stream",
     "text": [
      "1\n"
     ]
    }
   ],
   "source": [
    "# simplest case: your counting condition is a single value\n",
    "names = [\"Joel\", \"John\", \"Jane\", \"Jamie\", \"Lisa\", \"Anna\", \"Fred\"]\n",
    "count = names.count(\"John\")\n",
    "print(count)"
   ]
  },
  {
   "cell_type": "code",
   "execution_count": null,
   "metadata": {
    "colab": {
     "base_uri": "https://localhost:8080/"
    },
    "executionInfo": {
     "elapsed": 386,
     "status": "ok",
     "timestamp": 1614616032440,
     "user": {
      "displayName": "Joel Chan",
      "photoUrl": "https://lh3.googleusercontent.com/a-/AOh14GiBPPpBf_QqgDL3pMurAsPu9WJJE_x_6UtgW13UFQ=s64",
      "userId": "15153559228409906865"
     },
     "user_tz": 300
    },
    "id": "97jK8jFWH0Ld",
    "outputId": "86d95e54-e442-49b6-e659-7b9db8a38a45"
   },
   "outputs": [
    {
     "name": "stdout",
     "output_type": "stream",
     "text": [
      "2\n"
     ]
    }
   ],
   "source": [
    "# \n",
    "scores = [65, 78, 23, 97, 100, 25, 95] # input list\n",
    "\n",
    "threshold = 93 # score of A\n",
    "\n",
    "n_highperformers = 0 # define the count variable, initialize to 0\n",
    "\n",
    "for score in scores: # go through each item\n",
    "    if score >= threshold: # check if it's above my threshold / meets my criteria for being counted\n",
    "        n_highperformers += 1 # increase the count\n",
    "print(n_highperformers)"
   ]
  },
  {
   "cell_type": "code",
   "execution_count": null,
   "metadata": {
    "id": "0GUFEwX8aSSV"
   },
   "outputs": [],
   "source": [
    "def count_high_performers(input_scores, threshold):\n",
    "  \n",
    "    count = 0 # define the count variable, initialize to 0\n",
    "\n",
    "    for score in input_scores: # go through each item\n",
    "        if score >= threshold: # check if it's above my threshold / meets my criteria for being counted\n",
    "            count += 1 # increase the count\n",
    "    return count"
   ]
  },
  {
   "cell_type": "code",
   "execution_count": null,
   "metadata": {
    "colab": {
     "base_uri": "https://localhost:8080/"
    },
    "executionInfo": {
     "elapsed": 441,
     "status": "ok",
     "timestamp": 1614613964659,
     "user": {
      "displayName": "Joel Chan",
      "photoUrl": "https://lh3.googleusercontent.com/a-/AOh14GiBPPpBf_QqgDL3pMurAsPu9WJJE_x_6UtgW13UFQ=s64",
      "userId": "15153559228409906865"
     },
     "user_tz": 300
    },
    "id": "mkAHNAbdafLw",
    "outputId": "d9acfef2-a547-4d55-be6f-3f0e4053979a"
   },
   "outputs": [
    {
     "name": "stdout",
     "output_type": "stream",
     "text": [
      "4\n"
     ]
    }
   ],
   "source": [
    "new_scores = [65, 78, 23, 97, 100, 25, 85, 99, 85, 95] # input list\n",
    "print(count_high_performers(new_scores, threshold=90))"
   ]
  },
  {
   "cell_type": "markdown",
   "metadata": {
    "id": "7NhuvhW_H01V"
   },
   "source": [
    "Another example: let's say I have a list of names, and I want to count how many names don't start with the letter J."
   ]
  },
  {
   "cell_type": "code",
   "execution_count": null,
   "metadata": {
    "colab": {
     "base_uri": "https://localhost:8080/"
    },
    "executionInfo": {
     "elapsed": 738,
     "status": "ok",
     "timestamp": 1615215916705,
     "user": {
      "displayName": "Joel Chan",
      "photoUrl": "https://lh3.googleusercontent.com/a-/AOh14GiBPPpBf_QqgDL3pMurAsPu9WJJE_x_6UtgW13UFQ=s64",
      "userId": "15153559228409906865"
     },
     "user_tz": 300
    },
    "id": "FsQMeLKzax1R",
    "outputId": "e35ef9d2-1fd9-4de9-c7d3-78da061d264c"
   },
   "outputs": [
    {
     "name": "stdout",
     "output_type": "stream",
     "text": [
      "8\n"
     ]
    }
   ],
   "source": [
    "names = [\"Joel\", \"John\", \"Jane\", \"Jamie\", \"John\", \"Michael\", \"Sarah\", \"Joseph\", \"Chris\", \"Ray\"]\n",
    "banned = [\"Joel\", \"Ray\"]\n",
    "\n",
    "count_not_j = 0 # define the count variable, initialize to 0\n",
    "\n",
    "for name in names: # go through each item\n",
    "    if name not in banned: # check if name doesn't start with j / meets my criteria for being counted\n",
    "        count_not_j += 1 # increase the count\n",
    "\n",
    "print(count_not_j)"
   ]
  },
  {
   "cell_type": "markdown",
   "metadata": {},
   "source": [
    "If you want to count occurrences based on a simple exact match, you can use the `.count()` list method."
   ]
  },
  {
   "cell_type": "code",
   "execution_count": 6,
   "metadata": {},
   "outputs": [
    {
     "data": {
      "text/plain": [
       "2"
      ]
     },
     "execution_count": 6,
     "metadata": {},
     "output_type": "execute_result"
    }
   ],
   "source": [
    "names = [\"Joel\", \"John\", \"Jane\", \"Jamie\", \"John\", \"Michael\", \"Sarah\", \"Joseph\", \"Chris\", \"Ray\"]\n",
    "names.count(\"John\")"
   ]
  },
  {
   "cell_type": "markdown",
   "metadata": {
    "id": "0c6wfPPRBHdg"
   },
   "source": [
    "### Searching\n",
    "\n",
    "Another common situation is checking whether you should proceed with a list. Does it contain? This would be a variation on the counting and filtering again."
   ]
  },
  {
   "cell_type": "code",
   "execution_count": 1,
   "metadata": {
    "id": "dMIAR49WIUlY"
   },
   "outputs": [
    {
     "name": "stdout",
     "output_type": "stream",
     "text": [
      "True\n",
      "Found john!\n"
     ]
    }
   ],
   "source": [
    "#\n",
    "names = [\"Joel\", \"John\", \"Jane\", \"Jamie\"]\n",
    "\n",
    "found = False # define a found variable, initialize to False\n",
    "\n",
    "for name in names: # go through each item\n",
    "  if name == \"John\": # check if is john / meets my criteria for being found\n",
    "    found = True # if we find john, set found to True\n",
    "    break # and exit\n",
    "\n",
    "# print out the result\n",
    "print(found)\n",
    "\n",
    "# or use it\n",
    "if found:\n",
    "    print(\"Found john!\")\n",
    "else:\n",
    "    print(\"Didn't find john\")"
   ]
  },
  {
   "cell_type": "code",
   "execution_count": 5,
   "metadata": {
    "colab": {
     "base_uri": "https://localhost:8080/"
    },
    "executionInfo": {
     "elapsed": 471,
     "status": "ok",
     "timestamp": 1615216231228,
     "user": {
      "displayName": "Joel Chan",
      "photoUrl": "https://lh3.googleusercontent.com/a-/AOh14GiBPPpBf_QqgDL3pMurAsPu9WJJE_x_6UtgW13UFQ=s64",
      "userId": "15153559228409906865"
     },
     "user_tz": 300
    },
    "id": "lsFYC_tKbjVf",
    "outputId": "a6442da1-2e15-402a-8f9a-2a978b9dcaf9"
   },
   "outputs": [
    {
     "name": "stdout",
     "output_type": "stream",
     "text": [
      "True\n",
      "Found a high performer!\n"
     ]
    }
   ],
   "source": [
    "# \n",
    "scores = [65, 78, 23, 97, 25, 85] # input list\n",
    "\n",
    "threshold = 95\n",
    "\n",
    "found = False # define a found variable, initialize to False\n",
    "\n",
    "for score in scores: # go through each item\n",
    "    if score >= threshold: # check if it's above my threshold / meets my criteria for being found\n",
    "        found = True # if we find a high performer, set found to True\n",
    "        break # and exit\n",
    "\n",
    "# print the result\n",
    "print(found)\n",
    "\n",
    "# or use it\n",
    "if found:\n",
    "    print(\"Found a high performer!\")\n",
    "else:\n",
    "    print(\"Didn't a high performer\")"
   ]
  },
  {
   "cell_type": "markdown",
   "metadata": {
    "id": "hS0OdbOyIi9n"
   },
   "source": [
    "Sometimes you also want to find the index position."
   ]
  },
  {
   "cell_type": "code",
   "execution_count": null,
   "metadata": {
    "colab": {
     "base_uri": "https://localhost:8080/",
     "height": 34
    },
    "executionInfo": {
     "elapsed": 904,
     "status": "ok",
     "timestamp": 1602516780130,
     "user": {
      "displayName": "Joel Chan",
      "photoUrl": "https://lh3.googleusercontent.com/a-/AOh14GiBPPpBf_QqgDL3pMurAsPu9WJJE_x_6UtgW13UFQ=s64",
      "userId": "15153559228409906865"
     },
     "user_tz": 240
    },
    "id": "uqIfEhPwIkA8",
    "outputId": "88caa2a5-ce03-4561-d0d7-f12d80dacb56"
   },
   "outputs": [
    {
     "name": "stdout",
     "output_type": "stream",
     "text": [
      "True at 3\n"
     ]
    }
   ],
   "source": [
    "#\n",
    "# \n",
    "scores = [65, 78, 23, 97, 25, 85] # input list\n",
    "\n",
    "threshold = 95\n",
    "\n",
    "found = False # define a found variable, initialize to False\n",
    "found_index = 0\n",
    "\n",
    "for index, score in enumerate(scores): # go through each item\n",
    "    if score >= threshold: # check if it's above my threshold / meets my criteria for being found\n",
    "        found = True # if we find a high performer, set found to True\n",
    "        found_index = index\n",
    "        break # and exit\n",
    "print(found, \"at\", found_index)"
   ]
  },
  {
   "cell_type": "markdown",
   "metadata": {
    "id": "BkuYzdMvH9Jk"
   },
   "source": [
    "If you only want to find the first occurrence of something, based on an exact match, you can use the `.index()` list method"
   ]
  },
  {
   "cell_type": "code",
   "execution_count": 4,
   "metadata": {},
   "outputs": [
    {
     "data": {
      "text/plain": [
       "2"
      ]
     },
     "execution_count": 4,
     "metadata": {},
     "output_type": "execute_result"
    }
   ],
   "source": [
    "scores = [65, 78, 23, 97, 25, 85]\n",
    "scores.index(23)"
   ]
  },
  {
   "cell_type": "markdown",
   "metadata": {
    "id": "TP00ttDLHmte"
   },
   "source": [
    "### Filtering\n",
    "\n",
    "We can take the counting and searching cases and go further: what if we want to not only count, but also \"grab\" the things that meet our criteria?\n",
    "\n",
    "We'd want to create a new list, and make sure we have a bit of code that adds to that new list based on the criteria we have."
   ]
  },
  {
   "cell_type": "code",
   "execution_count": null,
   "metadata": {
    "colab": {
     "base_uri": "https://localhost:8080/"
    },
    "executionInfo": {
     "elapsed": 318,
     "status": "ok",
     "timestamp": 1615216062004,
     "user": {
      "displayName": "Joel Chan",
      "photoUrl": "https://lh3.googleusercontent.com/a-/AOh14GiBPPpBf_QqgDL3pMurAsPu9WJJE_x_6UtgW13UFQ=s64",
      "userId": "15153559228409906865"
     },
     "user_tz": 300
    },
    "id": "AzsUWV0-Hz6N",
    "outputId": "ffe5db87-139f-4444-a1c0-56a62208c525"
   },
   "outputs": [
    {
     "name": "stdout",
     "output_type": "stream",
     "text": [
      "[82, 97, 100, 95]\n"
     ]
    }
   ],
   "source": [
    "#\n",
    "#\n",
    "# \n",
    "scores = [65, 82, 23, 97, 100, 95] # input list to be filtered\n",
    "to_grab = [] # output list, initialize to empty list\n",
    "\n",
    "threshold = 80\n",
    "\n",
    "for score in scores: # go through each item\n",
    "    if score >= threshold: # check if it's below my threshold / meets my criteria for being filtered\n",
    "        to_grab.append(score) # add the item to the output list\n",
    "\n",
    "print(to_grab)"
   ]
  },
  {
   "cell_type": "code",
   "execution_count": 3,
   "metadata": {},
   "outputs": [
    {
     "name": "stdout",
     "output_type": "stream",
     "text": [
      "[82, 97, 100, 95]\n"
     ]
    }
   ],
   "source": [
    "scores = [65, 82, 23, 97, 100, 95] # input list to be filtered\n",
    "threshold = 80\n",
    "\n",
    "to_grab = list(filter(lambda x: x >= threshold, scores))\n",
    "print(to_grab)"
   ]
  },
  {
   "cell_type": "code",
   "execution_count": null,
   "metadata": {
    "colab": {
     "base_uri": "https://localhost:8080/"
    },
    "executionInfo": {
     "elapsed": 400,
     "status": "ok",
     "timestamp": 1615216100494,
     "user": {
      "displayName": "Joel Chan",
      "photoUrl": "https://lh3.googleusercontent.com/a-/AOh14GiBPPpBf_QqgDL3pMurAsPu9WJJE_x_6UtgW13UFQ=s64",
      "userId": "15153559228409906865"
     },
     "user_tz": 300
    },
    "id": "E5-DLDoGH6Fz",
    "outputId": "629187b3-46bb-4f66-df83-88484c3f7219"
   },
   "outputs": [],
   "source": [
    "#\n",
    "#\n",
    "names = [\"Joel\", \"John\", \"Lane\", \"Jamie\", \"Freddy\"]\n",
    "to_grab = [] # output list, initialize to empty list\n",
    "\n",
    "for name in names: # go through each item\n",
    "    if not name.startswith(\"J\"): # check if name doesn't start with J / meets my criteria for being filtered\n",
    "        to_grab.append(name) # add the item to the output list\n",
    "\n",
    "# print out the result\n",
    "print(to_grab)"
   ]
  },
  {
   "cell_type": "markdown",
   "metadata": {},
   "source": [
    "### Mapping / transforming\n",
    "\n",
    "Finally, sometimes you want to modify some/all elements in a list into a new list. An example might be data cleaning, or data transformation."
   ]
  },
  {
   "cell_type": "markdown",
   "metadata": {},
   "source": [
    "Convert to percentages."
   ]
  },
  {
   "cell_type": "code",
   "execution_count": 10,
   "metadata": {},
   "outputs": [
    {
     "data": {
      "text/plain": [
       "[0.65, 0.82, 0.23, 0.97, 1.0, 0.95]"
      ]
     },
     "execution_count": 10,
     "metadata": {},
     "output_type": "execute_result"
    }
   ],
   "source": [
    "scores = [65, 82, 23, 97, 100, 95]\n",
    "percentages = []\n",
    "for score in scores:\n",
    "    percent = score/100\n",
    "    percentages.append(percent)\n",
    "percentages"
   ]
  },
  {
   "cell_type": "markdown",
   "metadata": {},
   "source": [
    "Change outliers (those above 1000) to missing (\"NA\")"
   ]
  },
  {
   "cell_type": "code",
   "execution_count": 11,
   "metadata": {},
   "outputs": [
    {
     "data": {
      "text/plain": [
       "[65, 82, 'NA', 97, 100, 'NA']"
      ]
     },
     "execution_count": 11,
     "metadata": {},
     "output_type": "execute_result"
    }
   ],
   "source": [
    "scores = [65, 82, 2323, 97, 100, 95000]\n",
    "no_outliers = []\n",
    "for score in scores:\n",
    "    if score < 1000:\n",
    "        no_outliers.append(score)\n",
    "    else:\n",
    "        no_outliers.append(\"NA\")\n",
    "no_outliers"
   ]
  },
  {
   "cell_type": "markdown",
   "metadata": {},
   "source": [
    "For some simple transformations, you can use the `map()` built-in function."
   ]
  },
  {
   "cell_type": "code",
   "execution_count": 12,
   "metadata": {},
   "outputs": [
    {
     "data": {
      "text/plain": [
       "[0.65, 0.82, 0.23, 0.97, 1.0, 0.95]"
      ]
     },
     "execution_count": 12,
     "metadata": {},
     "output_type": "execute_result"
    }
   ],
   "source": [
    "scores = [65, 82, 23, 97, 100, 95]\n",
    "percentages = list(map(lambda x: x/100, scores))\n",
    "percentages"
   ]
  },
  {
   "cell_type": "markdown",
   "metadata": {
    "id": "0WyKDpKBhF6Y"
   },
   "source": [
    "### Coordinated iteration across multiple sequences\n",
    "\n",
    "One of the Project problems relies on a design pattern I haven't yet explicitly shown you in clear terms. So I want to quickly review it. \n",
    "\n",
    "How do you go through the elements of a list, index by index? I'll show you a form of this, and you can figure out how this might generalize to the rock paper scissors problem, where you need to go through two lists in lockstep (first item from both lists, then second item from both lists, and so on)"
   ]
  },
  {
   "cell_type": "code",
   "execution_count": null,
   "metadata": {
    "colab": {
     "base_uri": "https://localhost:8080/"
    },
    "executionInfo": {
     "elapsed": 343,
     "status": "ok",
     "timestamp": 1615216683162,
     "user": {
      "displayName": "Joel Chan",
      "photoUrl": "https://lh3.googleusercontent.com/a-/AOh14GiBPPpBf_QqgDL3pMurAsPu9WJJE_x_6UtgW13UFQ=s64",
      "userId": "15153559228409906865"
     },
     "user_tz": 300
    },
    "id": "oGZWgZ7ZZqPY",
    "outputId": "cd678d2b-a146-4cae-af20-533f4a6a4452"
   },
   "outputs": [
    {
     "name": "stdout",
     "output_type": "stream",
     "text": [
      "Joel True\n",
      "John False\n",
      "Lane True\n",
      "Jamie True\n",
      "Freddy False\n"
     ]
    }
   ],
   "source": [
    "# basic iteration through a list using indices\n",
    "names = [\"Joel\", \"John\", \"Lane\", \"Jamie\", \"Freddy\"]\n",
    "eligibilities = [True, False, True, True, False]\n",
    "\n",
    "for index in range(len(names)):\n",
    "    name = names[index]\n",
    "    eligible = eligibilities[index]\n",
    "    print(name, eligible)"
   ]
  },
  {
   "cell_type": "markdown",
   "metadata": {
    "id": "-iQvhWi7KGAg"
   },
   "source": [
    "## Common errors"
   ]
  },
  {
   "cell_type": "markdown",
   "metadata": {
    "id": "2P-04t43Knqj"
   },
   "source": [
    "### IndexError when looping through a list\n",
    "\n",
    "This comes up mostly with `while` loops. So, while it's possible to do any for loop with a while loop, you want to be careful with it.\n"
   ]
  },
  {
   "cell_type": "code",
   "execution_count": null,
   "metadata": {
    "colab": {
     "base_uri": "https://localhost:8080/",
     "height": 336
    },
    "executionInfo": {
     "elapsed": 297,
     "status": "error",
     "timestamp": 1615216873655,
     "user": {
      "displayName": "Joel Chan",
      "photoUrl": "https://lh3.googleusercontent.com/a-/AOh14GiBPPpBf_QqgDL3pMurAsPu9WJJE_x_6UtgW13UFQ=s64",
      "userId": "15153559228409906865"
     },
     "user_tz": 300
    },
    "id": "EQ5QH6fyeYFm",
    "outputId": "68267113-285b-4015-a7c0-b3fc089fddd8"
   },
   "outputs": [
    {
     "name": "stdout",
     "output_type": "stream",
     "text": [
      "0\n",
      "1\n",
      "2\n",
      "3\n",
      "4\n",
      "5\n"
     ]
    },
    {
     "ename": "IndexError",
     "evalue": "ignored",
     "output_type": "error",
     "traceback": [
      "\u001b[0;31m---------------------------------------------------------------------------\u001b[0m",
      "\u001b[0;31mIndexError\u001b[0m                                Traceback (most recent call last)",
      "\u001b[0;32m<ipython-input-24-56d90dc75ff9>\u001b[0m in \u001b[0;36m<module>\u001b[0;34m()\u001b[0m\n\u001b[1;32m      8\u001b[0m \u001b[0;32mwhile\u001b[0m \u001b[0mindex\u001b[0m \u001b[0;34m<\u001b[0m \u001b[0;36m10\u001b[0m\u001b[0;34m:\u001b[0m \u001b[0;31m# until you reach the end of the list\u001b[0m\u001b[0;34m\u001b[0m\u001b[0;34m\u001b[0m\u001b[0m\n\u001b[1;32m      9\u001b[0m   \u001b[0mprint\u001b[0m\u001b[0;34m(\u001b[0m\u001b[0mindex\u001b[0m\u001b[0;34m)\u001b[0m\u001b[0;34m\u001b[0m\u001b[0;34m\u001b[0m\u001b[0m\n\u001b[0;32m---> 10\u001b[0;31m   \u001b[0mname\u001b[0m \u001b[0;34m=\u001b[0m \u001b[0mnames\u001b[0m\u001b[0;34m[\u001b[0m\u001b[0mindex\u001b[0m\u001b[0;34m]\u001b[0m \u001b[0;31m# get the name at this index\u001b[0m\u001b[0;34m\u001b[0m\u001b[0;34m\u001b[0m\u001b[0m\n\u001b[0m\u001b[1;32m     11\u001b[0m   \u001b[0;32mif\u001b[0m \u001b[0mname\u001b[0m \u001b[0;34m==\u001b[0m \u001b[0;34m\"John\"\u001b[0m\u001b[0;34m:\u001b[0m \u001b[0;31m# check if is john / meets my criteria for being filtered\u001b[0m\u001b[0;34m\u001b[0m\u001b[0;34m\u001b[0m\u001b[0m\n\u001b[1;32m     12\u001b[0m     \u001b[0mto_grab\u001b[0m\u001b[0;34m.\u001b[0m\u001b[0mappend\u001b[0m\u001b[0;34m(\u001b[0m\u001b[0mname\u001b[0m\u001b[0;34m)\u001b[0m \u001b[0;31m# add the item to the output list\u001b[0m\u001b[0;34m\u001b[0m\u001b[0;34m\u001b[0m\u001b[0m\n",
      "\u001b[0;31mIndexError\u001b[0m: list index out of range"
     ]
    }
   ],
   "source": [
    "#\n",
    "#\n",
    "#\n",
    "names = [\"Joel\", \"John\", \"Jane\", \"Jamie\", \"John\"]\n",
    "to_grab = [] # output list, initialize to empty list\n",
    "\n",
    "index = 0 # set initial index to zero\n",
    "while index < 10: # until you reach the end of the list\n",
    "  print(index)\n",
    "  name = names[index] # get the name at this index\n",
    "  if name == \"John\": # check if is john / meets my criteria for being filtered\n",
    "    to_grab.append(name) # add the item to the output list\n",
    "  index += 1 # increment the index\n",
    "\n",
    "# print out the result\n",
    "print(to_grab)"
   ]
  },
  {
   "cell_type": "code",
   "execution_count": null,
   "metadata": {
    "colab": {
     "base_uri": "https://localhost:8080/",
     "height": 302
    },
    "executionInfo": {
     "elapsed": 428,
     "status": "error",
     "timestamp": 1615217051840,
     "user": {
      "displayName": "Joel Chan",
      "photoUrl": "https://lh3.googleusercontent.com/a-/AOh14GiBPPpBf_QqgDL3pMurAsPu9WJJE_x_6UtgW13UFQ=s64",
      "userId": "15153559228409906865"
     },
     "user_tz": 300
    },
    "id": "7VDwdVTwb8R9",
    "outputId": "e729b13f-e352-417f-b979-96c2d83a2bf2"
   },
   "outputs": [
    {
     "name": "stdout",
     "output_type": "stream",
     "text": [
      "0 Joel\n",
      "1 John\n",
      "2 Lane\n",
      "3 Jamie\n",
      "4 Freddy\n"
     ]
    },
    {
     "ename": "IndexError",
     "evalue": "ignored",
     "output_type": "error",
     "traceback": [
      "\u001b[0;31m---------------------------------------------------------------------------\u001b[0m",
      "\u001b[0;31mIndexError\u001b[0m                                Traceback (most recent call last)",
      "\u001b[0;32m<ipython-input-26-56efe530d9f1>\u001b[0m in \u001b[0;36m<module>\u001b[0;34m()\u001b[0m\n\u001b[1;32m      3\u001b[0m \u001b[0;34m\u001b[0m\u001b[0m\n\u001b[1;32m      4\u001b[0m \u001b[0;32mfor\u001b[0m \u001b[0mindex\u001b[0m \u001b[0;32min\u001b[0m \u001b[0mrange\u001b[0m\u001b[0;34m(\u001b[0m\u001b[0;36m6\u001b[0m\u001b[0;34m)\u001b[0m\u001b[0;34m:\u001b[0m\u001b[0;34m\u001b[0m\u001b[0;34m\u001b[0m\u001b[0m\n\u001b[0;32m----> 5\u001b[0;31m   \u001b[0mname\u001b[0m \u001b[0;34m=\u001b[0m \u001b[0mnames\u001b[0m\u001b[0;34m[\u001b[0m\u001b[0mindex\u001b[0m\u001b[0;34m]\u001b[0m\u001b[0;34m\u001b[0m\u001b[0;34m\u001b[0m\u001b[0m\n\u001b[0m\u001b[1;32m      6\u001b[0m   \u001b[0mprint\u001b[0m\u001b[0;34m(\u001b[0m\u001b[0mindex\u001b[0m\u001b[0;34m,\u001b[0m \u001b[0mname\u001b[0m\u001b[0;34m)\u001b[0m\u001b[0;34m\u001b[0m\u001b[0;34m\u001b[0m\u001b[0m\n",
      "\u001b[0;31mIndexError\u001b[0m: list index out of range"
     ]
    }
   ],
   "source": [
    "# basic iteration through a list using indices\n",
    "names = [\"Joel\", \"John\", \"Lane\", \"Jamie\", \"Freddy\"]\n",
    "\n",
    "for index in range(6):\n",
    "  name = names[index]\n",
    "  print(index, name)"
   ]
  },
  {
   "cell_type": "markdown",
   "metadata": {
    "id": "kjU1dyhRKZ9l"
   },
   "source": [
    "### Infinite loops\n",
    "\n",
    "Remember that with indefinite loops, we need the **stopping condition** to be `False` at some point. Or at least, give the loop a way to exit / `break`. Otherwise, it will go forever! A common error is to forget to include any block of code in the **body (block)** of the loop that modifies the **stopping condition** or provides a **break** condition."
   ]
  },
  {
   "cell_type": "code",
   "execution_count": null,
   "metadata": {
    "colab": {
     "base_uri": "https://localhost:8080/"
    },
    "executionInfo": {
     "elapsed": 251,
     "status": "ok",
     "timestamp": 1615217318600,
     "user": {
      "displayName": "Joel Chan",
      "photoUrl": "https://lh3.googleusercontent.com/a-/AOh14GiBPPpBf_QqgDL3pMurAsPu9WJJE_x_6UtgW13UFQ=s64",
      "userId": "15153559228409906865"
     },
     "user_tz": 300
    },
    "id": "0VWvpPmJfKnN",
    "outputId": "0dce9f4b-815b-4ebb-b8ca-f0ac725e54c3"
   },
   "outputs": [
    {
     "name": "stdout",
     "output_type": "stream",
     "text": [
      "5\n",
      "4\n",
      "3\n",
      "2\n",
      "1\n",
      "Blast off!\n"
     ]
    }
   ],
   "source": [
    "# \n",
    "n = 5\n",
    "while n > 0:\n",
    "  print(n)\n",
    "  n = n - 1\n",
    "print(\"Blast off!\")"
   ]
  },
  {
   "cell_type": "code",
   "execution_count": null,
   "metadata": {
    "colab": {
     "base_uri": "https://localhost:8080/",
     "height": 119
    },
    "executionInfo": {
     "elapsed": 795,
     "status": "ok",
     "timestamp": 1602517411909,
     "user": {
      "displayName": "Joel Chan",
      "photoUrl": "https://lh3.googleusercontent.com/a-/AOh14GiBPPpBf_QqgDL3pMurAsPu9WJJE_x_6UtgW13UFQ=s64",
      "userId": "15153559228409906865"
     },
     "user_tz": 240
    },
    "id": "5LDRnY23POoo",
    "outputId": "574d3177-7458-418e-933e-3e9914654ad3"
   },
   "outputs": [
    {
     "name": "stdout",
     "output_type": "stream",
     "text": [
      "5\n",
      "4\n",
      "3\n",
      "2\n",
      "1\n",
      "Blast off!\n"
     ]
    }
   ],
   "source": [
    "# \n",
    "n = 5\n",
    "while n > 0:\n",
    "  print(n)\n",
    "  n = n-1\n",
    "print(\"Blast off!\")"
   ]
  },
  {
   "cell_type": "code",
   "execution_count": null,
   "metadata": {
    "colab": {
     "base_uri": "https://localhost:8080/",
     "height": 300
    },
    "executionInfo": {
     "elapsed": 605,
     "status": "error",
     "timestamp": 1602517470143,
     "user": {
      "displayName": "Joel Chan",
      "photoUrl": "https://lh3.googleusercontent.com/a-/AOh14GiBPPpBf_QqgDL3pMurAsPu9WJJE_x_6UtgW13UFQ=s64",
      "userId": "15153559228409906865"
     },
     "user_tz": 240
    },
    "id": "OZ1Ryo1me3My",
    "outputId": "ba94f18a-57b1-4956-afa1-91feae33aa8f"
   },
   "outputs": [
    {
     "name": "stdout",
     "output_type": "stream",
     "text": [
      "0\n",
      "1\n",
      "2\n",
      "3\n"
     ]
    },
    {
     "ename": "IndexError",
     "evalue": "ignored",
     "output_type": "error",
     "traceback": [
      "\u001b[0;31m---------------------------------------------------------------------------\u001b[0m",
      "\u001b[0;31mIndexError\u001b[0m                                Traceback (most recent call last)",
      "\u001b[0;32m<ipython-input-57-4c7b5590912b>\u001b[0m in \u001b[0;36m<module>\u001b[0;34m()\u001b[0m\n\u001b[1;32m      8\u001b[0m \u001b[0;32mwhile\u001b[0m \u001b[0mlen\u001b[0m\u001b[0;34m(\u001b[0m\u001b[0mto_grab\u001b[0m\u001b[0;34m)\u001b[0m \u001b[0;34m==\u001b[0m \u001b[0;36m0\u001b[0m\u001b[0;34m:\u001b[0m \u001b[0;31m# until you reach the end of the list\u001b[0m\u001b[0;34m\u001b[0m\u001b[0;34m\u001b[0m\u001b[0m\n\u001b[1;32m      9\u001b[0m   \u001b[0mprint\u001b[0m\u001b[0;34m(\u001b[0m\u001b[0mindex\u001b[0m\u001b[0;34m)\u001b[0m\u001b[0;34m\u001b[0m\u001b[0;34m\u001b[0m\u001b[0m\n\u001b[0;32m---> 10\u001b[0;31m   \u001b[0mname\u001b[0m \u001b[0;34m=\u001b[0m \u001b[0mnames\u001b[0m\u001b[0;34m[\u001b[0m\u001b[0mindex\u001b[0m\u001b[0;34m]\u001b[0m \u001b[0;31m# get the name at this index\u001b[0m\u001b[0;34m\u001b[0m\u001b[0;34m\u001b[0m\u001b[0m\n\u001b[0m\u001b[1;32m     11\u001b[0m   \u001b[0;32mif\u001b[0m \u001b[0mname\u001b[0m \u001b[0;34m==\u001b[0m \u001b[0;34m\"John\"\u001b[0m\u001b[0;34m:\u001b[0m \u001b[0;31m# check if is john / meets my criteria for being filtered\u001b[0m\u001b[0;34m\u001b[0m\u001b[0;34m\u001b[0m\u001b[0m\n\u001b[1;32m     12\u001b[0m     \u001b[0mto_grab\u001b[0m\u001b[0;34m.\u001b[0m\u001b[0mappend\u001b[0m\u001b[0;34m(\u001b[0m\u001b[0mname\u001b[0m\u001b[0;34m)\u001b[0m \u001b[0;31m# add the item to the output list\u001b[0m\u001b[0;34m\u001b[0m\u001b[0;34m\u001b[0m\u001b[0m\n",
      "\u001b[0;31mIndexError\u001b[0m: list index out of range"
     ]
    }
   ],
   "source": [
    "#\n",
    "#\n",
    "#\n",
    "names = [\"Joel\", \"Jane\", \"Jamie\"]\n",
    "to_grab = [] # output list, initialize to empty list\n",
    "\n",
    "index = 0 # set initial index to zero\n",
    "while len(to_grab) == 0: # until you reach the end of the list\n",
    "    print(index)\n",
    "    name = names[index] # get the name at this index\n",
    "    if name == \"John\": # check if is john / meets my criteria for being filtered\n",
    "        to_grab.append(name) # add the item to the output list\n",
    "    index += 1 # increment the index\n",
    "\n",
    "# print out the result\n",
    "print(to_grab)"
   ]
  }
 ],
 "metadata": {
  "colab": {
   "name": "INST126_SP21_Week7_Iteration_post-class.ipynb",
   "provenance": [],
   "toc_visible": true
  },
  "kernelspec": {
   "display_name": "Python 3 (ipykernel)",
   "language": "python",
   "name": "python3"
  },
  "language_info": {
   "codemirror_mode": {
    "name": "ipython",
    "version": 3
   },
   "file_extension": ".py",
   "mimetype": "text/x-python",
   "name": "python",
   "nbconvert_exporter": "python",
   "pygments_lexer": "ipython3",
   "version": "3.9.7"
  }
 },
 "nbformat": 4,
 "nbformat_minor": 1
}
