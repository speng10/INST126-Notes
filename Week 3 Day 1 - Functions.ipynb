{
 "cells": [
  {
   "cell_type": "markdown",
   "metadata": {
    "id": "IUP5mKyTxbRy"
   },
   "source": [
    "# Week 3 - Day 1 - Functions"
   ]
  },
  {
   "cell_type": "code",
   "execution_count": null,
   "metadata": {},
   "outputs": [],
   "source": [
    "x = 3\n",
    "x = x+3\n",
    "    #you can make a new x and reassign x to a new value that is the\n",
    "    #result of the value of x"
   ]
  },
  {
   "cell_type": "markdown",
   "metadata": {
    "id": "TB-Kg9GExbRz"
   },
   "source": [
    "## Learning goals for today:\n",
    "- Key concept: functions\n",
    "    - Explain why we need functions in our programs\n",
    "    - Identify key components of a function in Python\n",
    "    - Construct a function block, from scratch\n",
    "    - Convert existing code to a function\n",
    "    - Use a function\n",
    "    - Identify common errors with functions"
   ]
  },
  {
   "cell_type": "markdown",
   "metadata": {
    "id": "g-lkfdphxbR0"
   },
   "source": [
    "## What are functions and why do we care about them?\n",
    "Functions are basically machines that take some __input(s)__, do some __operations__ on the input(s), and then produce an __output__.\n",
    "\n",
    "Why we need functions:    \n",
    "- Model your problem so that it can be solved by a computer well aka Computational Thinking\n",
    "- Make fewer errors (reduce points of failure from copy/paste, etc.)\n",
    "\n",
    "Motivating example: simple data analysis pipeline to compute percent change in revenue from last year.\n",
    "\n",
    "We have two sales numbers\n",
    "- `last_year = \"$150,000\"`\n",
    "- `this_year = \"$230,000\"`\n",
    "\n",
    "How can we analyze them? What are the subproblems here that we'll need to solve?\n",
    "\n",
    "Keep this in mind, we'll come back to this.\n"
   ]
  },
  {
   "cell_type": "code",
   "execution_count": 6,
   "metadata": {
    "id": "gQbQMwfWNJJN"
   },
   "outputs": [],
   "source": [
    "\n",
    "#make the input numbersactually numbers\n",
    "#1.remove dllarsigns\n",
    "#2. remove comma\n",
    "#3. convert to int\n",
    "\n",
    "#compute the percent change"
   ]
  },
  {
   "cell_type": "markdown",
   "metadata": {},
   "source": [
    "##### The basic pattern: define a function, use (call) a function"
   ]
  },
  {
   "cell_type": "code",
   "execution_count": null,
   "metadata": {},
   "outputs": [],
   "source": [
    "# define a function\n",
    "def longer(input_string, how_much):\n",
    "    \"\"\"\n",
    "    function that takes an input string and adds a \n",
    "    specified number of characters to it\n",
    "    \"\"\"\n",
    "    # what to add; create a string that is \n",
    "    #how_much x a single character\n",
    "    to_add = \"a\"*how_much\n",
    "    #add that long charaacter to the input string\n",
    "    #and store the result\n",
    "    result = input_string + to_add\n",
    "    #return the result\n",
    "    return result"
   ]
  },
  {
   "cell_type": "code",
   "execution_count": null,
   "metadata": {},
   "outputs": [],
   "source": [
    "# use (call) the function\n",
    "s = \"huzzah\"\n",
    "# this is how the string is rn\n",
    "print(len(s))\n",
    "# now make it 3 characters longer\n",
    "longer_s = longer(s, 3)\n",
    "# this is how long the string is now\n",
    "print(len(longer_s))"
   ]
  },
  {
   "cell_type": "markdown",
   "metadata": {},
   "source": [
    "Let's do a couple more examples."
   ]
  },
  {
   "cell_type": "code",
   "execution_count": 1,
   "metadata": {},
   "outputs": [],
   "source": [
    "def minutes_to_hours(minutes):\n",
    "    result = minutes/60\n",
    "    return result"
   ]
  },
  {
   "cell_type": "code",
   "execution_count": 4,
   "metadata": {},
   "outputs": [
    {
     "name": "stdout",
     "output_type": "stream",
     "text": [
      "2.5\n"
     ]
    }
   ],
   "source": [
    "mins = 150\n",
    "print(minutes_to_hours(mins))"
   ]
  },
  {
   "cell_type": "markdown",
   "metadata": {},
   "source": [
    "This define-call sequence should look similar to our PCE structure! \n",
    "\n",
    "In later more complex programs, you often define a few functions at once, or borrow them from other bits of code, and then use them in a single program. \n",
    "\n",
    "As we talked about, you can also compose functions into larger functions!"
   ]
  },
  {
   "cell_type": "code",
   "execution_count": null,
   "metadata": {},
   "outputs": [],
   "source": []
  },
  {
   "cell_type": "markdown",
   "metadata": {
    "id": "ifBcaTKuA2jN"
   },
   "source": [
    "## Anatomy of a Python function definition and function call\n",
    "\n",
    "Let's take a closer look at what a function actually is in Python.\n",
    "\n",
    "In Python, functions consist of three main components:\n",
    "1. **Parameters**: what are the main __input__ variables your function will be manipulating?\n",
    "2. **Body of the function:** what __operations__ will your function be performing on/with the input variables?\n",
    "3. **Return value**: what will your function's __output __be (i.e., what will come out of the function to the code that is calling the function)?\n",
    "\n",
    "Let's go back to our example of a function to convert minutes to hours. The following function `minutes_to_hours()` has input __parameter__ `minutes`, a __body __of code that divides `minutes` by 60 and stores it in the variable `result`, and a `return value` that is the value of the variable `result`"
   ]
  },
  {
   "cell_type": "code",
   "execution_count": null,
   "metadata": {
    "executionInfo": {
     "elapsed": 501,
     "status": "ok",
     "timestamp": 1612794869144,
     "user": {
      "displayName": "Joel Chan",
      "photoUrl": "https://lh3.googleusercontent.com/a-/AOh14GiBPPpBf_QqgDL3pMurAsPu9WJJE_x_6UtgW13UFQ=s64",
      "userId": "15153559228409906865"
     },
     "user_tz": 300
    },
    "id": "Fu2eYI2iBrBg"
   },
   "outputs": [],
   "source": [
    "def minutes_to_hours(minutes):\n",
    "    result = minutes/60\n",
    "    return result"
   ]
  },
  {
   "cell_type": "markdown",
   "metadata": {
    "id": "ByVLsAAYDAQg"
   },
   "source": [
    "Translation box: when you write a colon after a variable name, and indent code after it, it's equivalent to an assignment statement (you're assigning the code body and return statement to the function name)"
   ]
  },
  {
   "cell_type": "markdown",
   "metadata": {},
   "source": [
    "In Python, function calls consist of at least:\n",
    "1. A reference to the **function name**\n",
    "2. One or more **arguments** to pass as input to the function (how many and what type is determined by the parameters in the function definition)\n",
    "Alongside other code\n",
    "\n",
    "Let's look at an example."
   ]
  },
  {
   "cell_type": "code",
   "execution_count": null,
   "metadata": {},
   "outputs": [],
   "source": [
    "mins = 150\n",
    "print(minutes_to_hours(mins))"
   ]
  },
  {
   "cell_type": "markdown",
   "metadata": {},
   "source": [
    "Here, we have the function name (`minutes_to_hours`), and the argument `mins` being passed as input to the function, and code that takes the return value from the function and prints it out."
   ]
  },
  {
   "cell_type": "markdown",
   "metadata": {},
   "source": [
    "Here it is in pictures"
   ]
  },
  {
   "cell_type": "markdown",
   "metadata": {},
   "source": [
    "<img src=\"../resources/Function definition (annotated).png\" height=600 width=800></img>"
   ]
  },
  {
   "cell_type": "markdown",
   "metadata": {},
   "source": [
    "<img src=\"../resources/Function call (annotated).png\" height=300 width=500></img>"
   ]
  },
  {
   "cell_type": "markdown",
   "metadata": {},
   "source": [
    "What's happening under the hood at this function call is:\n",
    "1. Define the variable `mins` and put the value 150 in it\n",
    "2. Retrieve the code associated with the function name `minutes_to_hours` and give it `mins` as an input argument\n",
    "3. Run the code associated with the function name `minutes_to_hours` with `mins` as input, and return the result\n",
    "4. Pass that result to the `print` function (yes, this is a function also!) as an input argument.\n",
    "\n",
    "Let's look at another example pair. Where are the arguments and parameters?"
   ]
  },
  {
   "cell_type": "code",
   "execution_count": null,
   "metadata": {
    "executionInfo": {
     "elapsed": 553,
     "status": "ok",
     "timestamp": 1612794865821,
     "user": {
      "displayName": "Joel Chan",
      "photoUrl": "https://lh3.googleusercontent.com/a-/AOh14GiBPPpBf_QqgDL3pMurAsPu9WJJE_x_6UtgW13UFQ=s64",
      "userId": "15153559228409906865"
     },
     "user_tz": 300
    },
    "id": "_h3Kq36sDt8u"
   },
   "outputs": [],
   "source": [
    "def bouncer(age):\n",
    "    result = age >= 21\n",
    "    return result"
   ]
  },
  {
   "cell_type": "code",
   "execution_count": null,
   "metadata": {
    "colab": {
     "base_uri": "https://localhost:8080/"
    },
    "executionInfo": {
     "elapsed": 358,
     "status": "ok",
     "timestamp": 1612795108919,
     "user": {
      "displayName": "Joel Chan",
      "photoUrl": "https://lh3.googleusercontent.com/a-/AOh14GiBPPpBf_QqgDL3pMurAsPu9WJJE_x_6UtgW13UFQ=s64",
      "userId": "15153559228409906865"
     },
     "user_tz": 300
    },
    "id": "MXSU469VEdn-",
    "outputId": "918bfa03-e68c-42de-f17f-c0144ac3e82f"
   },
   "outputs": [],
   "source": [
    "patron_age = 24\n",
    "come_in = bouncer(patron_age)\n",
    "print(come_in)"
   ]
  },
  {
   "cell_type": "markdown",
   "metadata": {
    "id": "6tVUEp2OGFS0"
   },
   "source": [
    "As a best practice, it's often a good idea to document your functions in a particular way to expose this logic. \n",
    "\n",
    "A common format is a **docstring**, which has three main components:\n",
    "1. A brief description of what the function does\n",
    "2. A description of the key parameters and their data types and roles\n",
    "3. A description of the return value(s) of the function\n",
    "\n",
    "Here's what it might look like for this function."
   ]
  },
  {
   "cell_type": "code",
   "execution_count": null,
   "metadata": {
    "id": "obRUwDJZB0y8"
   },
   "outputs": [],
   "source": [
    "def minus(x, y): # define the parameters\n",
    "    \"\"\"Subtract a second number from the first number \n",
    "\n",
    "    Params:\n",
    "    - x (int) - the first number\n",
    "    - y (int) - the second number\n",
    "\n",
    "    Returns:\n",
    "    - result (int) - the difference between the numbers\n",
    "    \"\"\"\n",
    "\n",
    "    result = x - y # body of function\n",
    "    return result # return value"
   ]
  },
  {
   "cell_type": "markdown",
   "metadata": {
    "id": "VuDqDsZ8CiVP"
   },
   "source": [
    "This is fairly high overhead, and often when programmers are working in the real world, under deadlines, they may skip this part (with a fallback on well-defined variables, and in-line comments). But skipping this incurs technical debt that will be paid later on. Good idea to get practice with this early on!"
   ]
  },
  {
   "cell_type": "markdown",
   "metadata": {
    "id": "ffHIlz8iDDLM"
   },
   "source": [
    "## To review: Arguments vs. parameters\n",
    "\n",
    "Parameters and arguments are easy to confuse. They both go in the parentheses after the function name. What's the difference?\n",
    "\n",
    "It helps me to think of them as two sides of a special kind of variable assignment statement.\n",
    "\n",
    "Parameters are the key *variables* in the function (what's on the left side of an assignment statement). \n",
    "Arguments are the *values* you assign to those variables when you use the function (what's on the right side of an assignment statement).\n",
    "\n",
    "One tip I have to drive this home is to write your function calls like this, where you actually make this analogy explicit.\n",
    "\n",
    "We'll actually see this format come back later on when we deal with more complicated functions, especially when we borrow code from other libraries!"
   ]
  },
  {
   "cell_type": "code",
   "execution_count": null,
   "metadata": {
    "colab": {
     "base_uri": "https://localhost:8080/",
     "height": 34
    },
    "executionInfo": {
     "elapsed": 321,
     "status": "ok",
     "timestamp": 1600097615673,
     "user": {
      "displayName": "Joel Chan",
      "photoUrl": "https://lh3.googleusercontent.com/a-/AOh14GiBPPpBf_QqgDL3pMurAsPu9WJJE_x_6UtgW13UFQ=s64",
      "userId": "15153559228409906865"
     },
     "user_tz": 240
    },
    "id": "oeFZ9HEQP1-9",
    "outputId": "b65c174c-8f05-4287-fd22-1f10ca00c9f2"
   },
   "outputs": [],
   "source": [
    "# if you want to make life easier for yourself when you're still learning,\n",
    "# you can make this explicit in the function call code\n",
    "minutes_to_hours(minutes=90)"
   ]
  },
  {
   "cell_type": "code",
   "execution_count": null,
   "metadata": {},
   "outputs": [],
   "source": [
    "# equivalently\n",
    "mins = 120\n",
    "minutes_to_hours(minutes=mins)"
   ]
  },
  {
   "cell_type": "code",
   "execution_count": null,
   "metadata": {
    "colab": {
     "base_uri": "https://localhost:8080/",
     "height": 168
    },
    "executionInfo": {
     "elapsed": 336,
     "status": "error",
     "timestamp": 1612796335820,
     "user": {
      "displayName": "Joel Chan",
      "photoUrl": "https://lh3.googleusercontent.com/a-/AOh14GiBPPpBf_QqgDL3pMurAsPu9WJJE_x_6UtgW13UFQ=s64",
      "userId": "15153559228409906865"
     },
     "user_tz": 300
    },
    "id": "55B47lMhJkU0",
    "outputId": "2bd6e6df-d49b-46ad-d69c-2dbfa018ed94"
   },
   "outputs": [],
   "source": [
    "my_age = 19\n",
    "bouncer(age=my_age)"
   ]
  },
  {
   "cell_type": "markdown",
   "metadata": {
    "id": "FYVv4YjdCjfS"
   },
   "source": [
    "## How to define functions"
   ]
  },
  {
   "cell_type": "markdown",
   "metadata": {
    "id": "LcXUfJ1qCmZD"
   },
   "source": [
    "### Writing a function from scratch\n",
    "\n",
    "There are few steps to follow:\n",
    "1. Write the code that goes in the function (the steps)\n",
    "2. Create a function definition\n",
    "    - Write the skeleton of your function (`def`, a name, parentheses, `return` statement)\n",
    "3. Integrate your code into the function:\n",
    "    - Fill out the parameters\n",
    "    - Fill out the body of the code\n",
    "    - Fill out the return statement\n",
    "2. Run the function definition cell (this defines the function for Python)\n",
    "3. Call the function in some code (with arguments for each parameter)\n",
    "\n",
    "Let's do an example together!\n",
    "\n",
    "We want to write a function that computes the percent increase in sales from one year to the next."
   ]
  },
  {
   "cell_type": "code",
   "execution_count": 25,
   "metadata": {},
   "outputs": [],
   "source": [
    "# last_year = \"$150,000\"\n",
    "# this_year = \"$500,000\"\n",
    "# #code on the given variables\n",
    "# #make the input numbersactually numbers\n",
    "# def clean_sale_number(num): \n",
    "#     #1.remove dollarsigns\n",
    "#     last_year = last_year.replace(\"$\", \"\")\n",
    "#     #2. remove comma\n",
    "#     last_year = last_year.replace(\",\", \"\")\n",
    "#     #3. convert to int\n",
    "#     last_year = float(last_year)\n",
    "#     print(last_year)\n",
    "    \n",
    "# #compute the percent change"
   ]
  },
  {
   "cell_type": "code",
   "execution_count": 29,
   "metadata": {},
   "outputs": [],
   "source": [
    "# we'll write component code here\n",
    "#make the input numbersactually numbers\n",
    "def clean_sale_number(num): #the paramters\n",
    "    #the boday\n",
    "    #make input numbers actually numbers\n",
    "    #1.remove dollarsigns\n",
    "    num = num.replace(\"$\", \"\")\n",
    "    #2. remove comma\n",
    "    num = num.replace(\",\", \"\")\n",
    "    #3. convert to int\n",
    "    result = float(num)\n",
    "    return result\n",
    "#compute the percent change\n",
    "\n",
    "def compute_percent_change(last_year, this_year):\n",
    "    result = ((this_year - last_year)/last_year)*100\n",
    "    print(result)"
   ]
  },
  {
   "cell_type": "code",
   "execution_count": 30,
   "metadata": {
    "executionInfo": {
     "elapsed": 275,
     "status": "ok",
     "timestamp": 1612795968322,
     "user": {
      "displayName": "Joel Chan",
      "photoUrl": "https://lh3.googleusercontent.com/a-/AOh14GiBPPpBf_QqgDL3pMurAsPu9WJJE_x_6UtgW13UFQ=s64",
      "userId": "15153559228409906865"
     },
     "user_tz": 300
    },
    "id": "Dz1JKnykDI0c"
   },
   "outputs": [
    {
     "name": "stdout",
     "output_type": "stream",
     "text": [
      "233.33333333333334\n"
     ]
    }
   ],
   "source": [
    "# we'll define the function here\n",
    "last_year = \"$150,000\"\n",
    "this_year = \"$500,000\"\n",
    "\n",
    "#make the input number actully numbers\n",
    "last_year = clean_sale_number(last_year)\n",
    "this_year = clean_sale_number(this_year)\n",
    "#compute percent chage\n",
    "result = ((this_year - last_year)/last_year)*100\n",
    "print(result)"
   ]
  },
  {
   "cell_type": "code",
   "execution_count": 32,
   "metadata": {
    "colab": {
     "base_uri": "https://localhost:8080/"
    },
    "executionInfo": {
     "elapsed": 327,
     "status": "ok",
     "timestamp": 1612796182560,
     "user": {
      "displayName": "Joel Chan",
      "photoUrl": "https://lh3.googleusercontent.com/a-/AOh14GiBPPpBf_QqgDL3pMurAsPu9WJJE_x_6UtgW13UFQ=s64",
      "userId": "15153559228409906865"
     },
     "user_tz": 300
    },
    "id": "ddTI4mlzDX3f",
    "outputId": "b20d9edd-74c2-41e7-dcf8-f989fd05d8ee"
   },
   "outputs": [
    {
     "ename": "TypeError",
     "evalue": "unsupported operand type(s) for -: 'str' and 'str'",
     "output_type": "error",
     "traceback": [
      "\u001b[0;31m---------------------------------------------------------------------------\u001b[0m",
      "\u001b[0;31mTypeError\u001b[0m                                 Traceback (most recent call last)",
      "\u001b[0;32m/var/folders/dn/bbrktyl55qlbxbnhvk_qjb000000gn/T/ipykernel_23542/4060809435.py\u001b[0m in \u001b[0;36m<module>\u001b[0;34m\u001b[0m\n\u001b[1;32m      1\u001b[0m \u001b[0mx\u001b[0m \u001b[0;34m=\u001b[0m \u001b[0;34m\"500,000\"\u001b[0m\u001b[0;34m\u001b[0m\u001b[0;34m\u001b[0m\u001b[0m\n\u001b[1;32m      2\u001b[0m \u001b[0my\u001b[0m \u001b[0;34m=\u001b[0m \u001b[0;34m\"2,256\"\u001b[0m\u001b[0;34m\u001b[0m\u001b[0;34m\u001b[0m\u001b[0m\n\u001b[0;32m----> 3\u001b[0;31m \u001b[0mprint\u001b[0m\u001b[0;34m(\u001b[0m\u001b[0mcompute_percent_change\u001b[0m\u001b[0;34m(\u001b[0m\u001b[0mlast_year\u001b[0m\u001b[0;34m=\u001b[0m\u001b[0my\u001b[0m\u001b[0;34m,\u001b[0m \u001b[0mthis_year\u001b[0m \u001b[0;34m=\u001b[0m \u001b[0mx\u001b[0m\u001b[0;34m)\u001b[0m\u001b[0;34m)\u001b[0m\u001b[0;34m\u001b[0m\u001b[0;34m\u001b[0m\u001b[0m\n\u001b[0m",
      "\u001b[0;32m/var/folders/dn/bbrktyl55qlbxbnhvk_qjb000000gn/T/ipykernel_23542/3340890937.py\u001b[0m in \u001b[0;36mcompute_percent_change\u001b[0;34m(last_year, this_year)\u001b[0m\n\u001b[1;32m     14\u001b[0m \u001b[0;34m\u001b[0m\u001b[0m\n\u001b[1;32m     15\u001b[0m \u001b[0;32mdef\u001b[0m \u001b[0mcompute_percent_change\u001b[0m\u001b[0;34m(\u001b[0m\u001b[0mlast_year\u001b[0m\u001b[0;34m,\u001b[0m \u001b[0mthis_year\u001b[0m\u001b[0;34m)\u001b[0m\u001b[0;34m:\u001b[0m\u001b[0;34m\u001b[0m\u001b[0;34m\u001b[0m\u001b[0m\n\u001b[0;32m---> 16\u001b[0;31m     \u001b[0mresult\u001b[0m \u001b[0;34m=\u001b[0m \u001b[0;34m(\u001b[0m\u001b[0;34m(\u001b[0m\u001b[0mthis_year\u001b[0m \u001b[0;34m-\u001b[0m \u001b[0mlast_year\u001b[0m\u001b[0;34m)\u001b[0m\u001b[0;34m/\u001b[0m\u001b[0mlast_year\u001b[0m\u001b[0;34m)\u001b[0m\u001b[0;34m*\u001b[0m\u001b[0;36m100\u001b[0m\u001b[0;34m\u001b[0m\u001b[0;34m\u001b[0m\u001b[0m\n\u001b[0m\u001b[1;32m     17\u001b[0m     \u001b[0mprint\u001b[0m\u001b[0;34m(\u001b[0m\u001b[0mresult\u001b[0m\u001b[0;34m)\u001b[0m\u001b[0;34m\u001b[0m\u001b[0;34m\u001b[0m\u001b[0m\n",
      "\u001b[0;31mTypeError\u001b[0m: unsupported operand type(s) for -: 'str' and 'str'"
     ]
    }
   ],
   "source": [
    "x = \"500,000\"\n",
    "y = \"2,256\"\n",
    "print(compute_percent_change(last_year = y, this_year = x))"
   ]
  },
  {
   "cell_type": "markdown",
   "metadata": {
    "colab": {
     "base_uri": "https://localhost:8080/"
    },
    "executionInfo": {
     "elapsed": 342,
     "status": "ok",
     "timestamp": 1612796099954,
     "user": {
      "displayName": "Joel Chan",
      "photoUrl": "https://lh3.googleusercontent.com/a-/AOh14GiBPPpBf_QqgDL3pMurAsPu9WJJE_x_6UtgW13UFQ=s64",
      "userId": "15153559228409906865"
     },
     "user_tz": 300
    },
    "id": "2DKG-nQZIzH_",
    "outputId": "d2f5c8dc-ef18-4d0d-e2cd-2126f15f73d5"
   },
   "source": [
    "Give me another example to write together!"
   ]
  },
  {
   "cell_type": "code",
   "execution_count": 33,
   "metadata": {},
   "outputs": [
    {
     "data": {
      "text/plain": [
       "0.2"
      ]
     },
     "execution_count": 33,
     "metadata": {},
     "output_type": "execute_result"
    }
   ],
   "source": [
    "x = 1\n",
    "y = 5\n",
    "x/y"
   ]
  },
  {
   "cell_type": "code",
   "execution_count": 35,
   "metadata": {},
   "outputs": [],
   "source": [
    "def division(x, y):\n",
    "    result = x/y\n",
    "    return result"
   ]
  },
  {
   "cell_type": "code",
   "execution_count": 36,
   "metadata": {},
   "outputs": [
    {
     "data": {
      "text/plain": [
       "0.5"
      ]
     },
     "execution_count": 36,
     "metadata": {},
     "output_type": "execute_result"
    }
   ],
   "source": [
    "a = 5\n",
    "b = 10\n",
    "division(x=a, y=b)"
   ]
  },
  {
   "cell_type": "markdown",
   "metadata": {
    "id": "21v9caNsEE1A"
   },
   "source": [
    "### Converting existing code into a function\n",
    "\n",
    "More commonly, you'll be prototyping code and then realize how it can be converted into a function. In this case, you'll be **converting code into a function**. \n",
    "\n",
    "The way to do this is quite similar to writing a function from scratch: only Step 1 is slightly different. You copy/paste code into the function body, and make sure that the key variables in the body of the function match the key parameters in the function definition. \n",
    "\n",
    "Let's do an example here for our opening problem. Here we've written some code to solve the subproblem of converting the sales number record to a number we can compute with."
   ]
  },
  {
   "cell_type": "code",
   "execution_count": null,
   "metadata": {
    "colab": {
     "base_uri": "https://localhost:8080/",
     "height": 35
    },
    "executionInfo": {
     "elapsed": 351,
     "status": "ok",
     "timestamp": 1612796487597,
     "user": {
      "displayName": "Joel Chan",
      "photoUrl": "https://lh3.googleusercontent.com/a-/AOh14GiBPPpBf_QqgDL3pMurAsPu9WJJE_x_6UtgW13UFQ=s64",
      "userId": "15153559228409906865"
     },
     "user_tz": 300
    },
    "id": "jezPgHN1Un6v",
    "outputId": "dbef3ce5-162c-4d2e-90fa-b1bc9aec6a67"
   },
   "outputs": [],
   "source": [
    "last_year = \"$150,000\"\n",
    "last_year_num_str = \"\" # placeholder variable to put the converted string that only has numbers\n",
    "for char in last_year: # go through each character in the input string\n",
    "    if char.isnumeric(): # if it's a number\n",
    "        last_year_num_str = last_year_num_str + char # we add it to the output string\n",
    "last_year_num_str # check the output"
   ]
  },
  {
   "cell_type": "code",
   "execution_count": null,
   "metadata": {
    "colab": {
     "base_uri": "https://localhost:8080/",
     "height": 34
    },
    "executionInfo": {
     "elapsed": 268,
     "status": "ok",
     "timestamp": 1600092612031,
     "user": {
      "displayName": "Joel Chan",
      "photoUrl": "https://lh3.googleusercontent.com/a-/AOh14GiBPPpBf_QqgDL3pMurAsPu9WJJE_x_6UtgW13UFQ=s64",
      "userId": "15153559228409906865"
     },
     "user_tz": 240
    },
    "id": "9Js_HCT58gTA",
    "outputId": "8d249bf9-53dd-425f-cdc6-2e9be45e9f43"
   },
   "outputs": [],
   "source": [
    "last_year_num = int(last_year_num_str) # stil need to convert to number\n",
    "last_year_num # check the output"
   ]
  },
  {
   "cell_type": "code",
   "execution_count": null,
   "metadata": {
    "executionInfo": {
     "elapsed": 713,
     "status": "ok",
     "timestamp": 1612796573914,
     "user": {
      "displayName": "Joel Chan",
      "photoUrl": "https://lh3.googleusercontent.com/a-/AOh14GiBPPpBf_QqgDL3pMurAsPu9WJJE_x_6UtgW13UFQ=s64",
      "userId": "15153559228409906865"
     },
     "user_tz": 300
    },
    "id": "zQ5U8v4dGHI0"
   },
   "outputs": [],
   "source": [
    "def clean_sales(sales_str):\n",
    "    \"\"\"Convert a string sales record number to an int for computation\n",
    "    Params:\n",
    "    - sales_str (str) - the sales record to convert\n",
    "\n",
    "    Returns:\n",
    "    - sales_num_converted (int) - the sales record in number form\n",
    "    \"\"\"\n",
    "    # body of function\n",
    "    sales_num_str = \"\" # placeholder variable to put the converted string that only has numbers\n",
    "    for char in sales_str: # go through each character in the input string\n",
    "    if char.isnumeric(): # if it's a number\n",
    "        sales_num_str = sales_num_str + char # we add it to the output string\n",
    "    sales_num_converted = int(sales_num_str) # conver to number\n",
    "    return sales_num_converted"
   ]
  },
  {
   "cell_type": "code",
   "execution_count": null,
   "metadata": {
    "colab": {
     "base_uri": "https://localhost:8080/"
    },
    "executionInfo": {
     "elapsed": 830,
     "status": "ok",
     "timestamp": 1612796575641,
     "user": {
      "displayName": "Joel Chan",
      "photoUrl": "https://lh3.googleusercontent.com/a-/AOh14GiBPPpBf_QqgDL3pMurAsPu9WJJE_x_6UtgW13UFQ=s64",
      "userId": "15153559228409906865"
     },
     "user_tz": 300
    },
    "id": "sT63g1H3R5ro",
    "outputId": "f9b821a3-c617-446a-ebc3-137abb9bb469"
   },
   "outputs": [],
   "source": [
    "last_year = \"$150,000\"\n",
    "clean_sales(last_year)"
   ]
  },
  {
   "cell_type": "markdown",
   "metadata": {
    "id": "Nyxk2KfLIDXz"
   },
   "source": [
    "### Putting it all together\n",
    "\n",
    "Let's now return to our initial problem and show how we can solve it with functions in a useful way!"
   ]
  },
  {
   "cell_type": "code",
   "execution_count": null,
   "metadata": {
    "colab": {
     "base_uri": "https://localhost:8080/"
    },
    "executionInfo": {
     "elapsed": 300,
     "status": "ok",
     "timestamp": 1612796655410,
     "user": {
      "displayName": "Joel Chan",
      "photoUrl": "https://lh3.googleusercontent.com/a-/AOh14GiBPPpBf_QqgDL3pMurAsPu9WJJE_x_6UtgW13UFQ=s64",
      "userId": "15153559228409906865"
     },
     "user_tz": 300
    },
    "id": "KCe_GVMMICZh",
    "outputId": "3f642eda-f39a-4f66-db6d-07b50d051967"
   },
   "outputs": [],
   "source": [
    "# given two sales records (one from last year and one from this year), compute percent increase from the previous year\n",
    "\n",
    "last_year = \"$150,000\"\n",
    "this_year = \"$250,000\"\n",
    "\n",
    "# 1: convert sales string to number\n",
    "last_year_num = clean_sales(last_year)\n",
    "this_year_num = clean_sales(this_year)\n",
    "\n",
    "# 2: compute the percent increase\n",
    "result = percent_change(last_year_num, this_year_num)\n",
    "\n",
    "# print the output\n",
    "print(result)"
   ]
  },
  {
   "cell_type": "markdown",
   "metadata": {},
   "source": [
    "## Practice!"
   ]
  },
  {
   "cell_type": "code",
   "execution_count": null,
   "metadata": {},
   "outputs": [],
   "source": []
  },
  {
   "cell_type": "markdown",
   "metadata": {
    "id": "Q1vmmUJTE67i"
   },
   "source": [
    "## Common errors when using functions"
   ]
  },
  {
   "cell_type": "markdown",
   "metadata": {
    "id": "yhMs4re7DgN7"
   },
   "source": [
    "### Order of execution and NameErrors\n",
    "\n",
    "Remember: In a computational notebook like Jupyter, Python executes the code in the order that you run the cells. If you run the cells from top to bottom, then it behaves the same way as a script. But if you run the cells in a different order, then it's different. \n",
    "\n",
    "This is important because a common error is to forget Step 2 on the way to Step 3. This will usually result in a `NameError`, which means you're saying something to Python with words it doesn't yet know. The solution is to go back and make sure you do Step 2.\n",
    "\n",
    "If you're __updating__ your function, you'll get different kinds of errors. Sometimes it will be a silent logical or semantic error (where the code will run, but the results of the code will not be what you intend). "
   ]
  },
  {
   "cell_type": "code",
   "execution_count": null,
   "metadata": {
    "executionInfo": {
     "elapsed": 292,
     "status": "ok",
     "timestamp": 1612796852635,
     "user": {
      "displayName": "Joel Chan",
      "photoUrl": "https://lh3.googleusercontent.com/a-/AOh14GiBPPpBf_QqgDL3pMurAsPu9WJJE_x_6UtgW13UFQ=s64",
      "userId": "15153559228409906865"
     },
     "user_tz": 300
    },
    "id": "RlTQSduSUMIB"
   },
   "outputs": [],
   "source": [
    "def divide(x, y):\n",
    "    result = x / y\n",
    "    result = int(result)\n",
    "    return result"
   ]
  },
  {
   "cell_type": "code",
   "execution_count": null,
   "metadata": {
    "colab": {
     "base_uri": "https://localhost:8080/",
     "height": 168
    },
    "executionInfo": {
     "elapsed": 589,
     "status": "error",
     "timestamp": 1612796754279,
     "user": {
      "displayName": "Joel Chan",
      "photoUrl": "https://lh3.googleusercontent.com/a-/AOh14GiBPPpBf_QqgDL3pMurAsPu9WJJE_x_6UtgW13UFQ=s64",
      "userId": "15153559228409906865"
     },
     "user_tz": 300
    },
    "id": "0_yPVfFOUQka",
    "outputId": "df90e017-4707-4167-faa6-9f18d873ff33"
   },
   "outputs": [],
   "source": [
    "divide(25, 5)"
   ]
  },
  {
   "cell_type": "code",
   "execution_count": null,
   "metadata": {
    "colab": {
     "base_uri": "https://localhost:8080/"
    },
    "executionInfo": {
     "elapsed": 558,
     "status": "ok",
     "timestamp": 1612796855373,
     "user": {
      "displayName": "Joel Chan",
      "photoUrl": "https://lh3.googleusercontent.com/a-/AOh14GiBPPpBf_QqgDL3pMurAsPu9WJJE_x_6UtgW13UFQ=s64",
      "userId": "15153559228409906865"
     },
     "user_tz": 300
    },
    "id": "CD7bmreLLY5l",
    "outputId": "0b4534b9-863a-4ddd-d7ae-921b3ebf8642"
   },
   "outputs": [],
   "source": [
    "divide(25, 3)"
   ]
  },
  {
   "cell_type": "markdown",
   "metadata": {
    "id": "lwqweGQiEzWb"
   },
   "source": [
    "### Missing / incorrect return statements\n",
    "\n",
    "The return statement is *optional*. If the function doesn't have a return value, it's known as a void function.\n",
    "- Confusingly, in Python, your function still does return a value (i.e., `None`). \n",
    "- Honestly, void functions kind of break the model of what a function should be (subcomponents in a larger program), and they are quite rare, except as, say, a main control loop, or the \"main\" procedure in a script. So, yeah, if you're confused by void functions and find fruitful functions (with return values) easier to think conceptualize, I'm happy.\n",
    "\n",
    "So for now, I want you to pretend it doesn't exist (i.e., do *not* write void functions; always have a `return` statement).\n",
    "\n",
    "So why am I telling you this then?\n",
    "- You'll see void functions in many Python tutorials. Often you'll even learn about void functions *before* fruitful (or regular) functions. Why? I'm not really sure. Maybe because it's *locally* easier? It upsets me.\n",
    "- Practically, too, if you leave out a `return` statement, your code will still run! But you'll probably have made a logical error (broken the relationship between parts of your code), so you need to know the logic to catch this error. **This is a very common error for beginning programmers.** In fact, many of you have already approached me about this error. So you if run into this, you're in good company! If you're pretty sure that the code in the body of the function is correct, but you're confused by what happens when the function is used (e.g., it's not giving you the value you expect), but the code runs, it's a good idea to check your `return` statement!\n",
    "\n",
    "An extremely common way to make this mistake is to write a print statement in the function body to produce output to you, the user, and declare that it works, but forget to write a return statement"
   ]
  },
  {
   "cell_type": "code",
   "execution_count": null,
   "metadata": {
    "executionInfo": {
     "elapsed": 276,
     "status": "ok",
     "timestamp": 1612797092002,
     "user": {
      "displayName": "Joel Chan",
      "photoUrl": "https://lh3.googleusercontent.com/a-/AOh14GiBPPpBf_QqgDL3pMurAsPu9WJJE_x_6UtgW13UFQ=s64",
      "userId": "15153559228409906865"
     },
     "user_tz": 300
    },
    "id": "IeGAjCnyF3dw"
   },
   "outputs": [],
   "source": [
    "# example: if we define the functions this way, without return statements, they wil still run! \n",
    "# but we won't be able to use their results in a meaningful way, leading to an error if we try\n",
    "def tip(base, percentage):\n",
    "    result = base * percentage\n",
    "    print(result)\n",
    "    \n",
    "def tax(base, tax_rate):\n",
    "    result = base * tax_rate\n",
    "    print(result)"
   ]
  },
  {
   "cell_type": "code",
   "execution_count": null,
   "metadata": {
    "colab": {
     "base_uri": "https://localhost:8080/"
    },
    "executionInfo": {
     "elapsed": 346,
     "status": "ok",
     "timestamp": 1612797093648,
     "user": {
      "displayName": "Joel Chan",
      "photoUrl": "https://lh3.googleusercontent.com/a-/AOh14GiBPPpBf_QqgDL3pMurAsPu9WJJE_x_6UtgW13UFQ=s64",
      "userId": "15153559228409906865"
     },
     "user_tz": 300
    },
    "id": "f6ZZFAJbF7-y",
    "outputId": "5dbcbd24-4e97-4fae-d993-556e3a5aa8d5"
   },
   "outputs": [],
   "source": [
    "base = 3\n",
    "tip_rate = 0.2\n",
    "tax_rate = 0.08\n",
    "\n",
    "total_check = tip(base, tip_rate) + base + tax(base, tax_rate)\n",
    "print(total_check)"
   ]
  },
  {
   "cell_type": "markdown",
   "metadata": {
    "id": "_ISyo9rIE48n"
   },
   "source": [
    "### Mismatching arguments and parameters\n",
    "\n",
    "Make sure that the body of your function is operating on the actual input variables you're passing in via your parameters! This is a common error to make when you're converting code to functions."
   ]
  },
  {
   "cell_type": "code",
   "execution_count": null,
   "metadata": {
    "executionInfo": {
     "elapsed": 282,
     "status": "ok",
     "timestamp": 1612797269463,
     "user": {
      "displayName": "Joel Chan",
      "photoUrl": "https://lh3.googleusercontent.com/a-/AOh14GiBPPpBf_QqgDL3pMurAsPu9WJJE_x_6UtgW13UFQ=s64",
      "userId": "15153559228409906865"
     },
     "user_tz": 300
    },
    "id": "T7834g2mFwhQ"
   },
   "outputs": [],
   "source": [
    "# example\n",
    "def minus(x, y):\n",
    "    result = x - y\n",
    "    return result"
   ]
  },
  {
   "cell_type": "code",
   "execution_count": null,
   "metadata": {
    "colab": {
     "base_uri": "https://localhost:8080/"
    },
    "executionInfo": {
     "elapsed": 372,
     "status": "ok",
     "timestamp": 1612797270436,
     "user": {
      "displayName": "Joel Chan",
      "photoUrl": "https://lh3.googleusercontent.com/a-/AOh14GiBPPpBf_QqgDL3pMurAsPu9WJJE_x_6UtgW13UFQ=s64",
      "userId": "15153559228409906865"
     },
     "user_tz": 300
    },
    "id": "afTKxlcbGDLI",
    "outputId": "7d754367-17d2-450a-f8d3-2c3e26369f4c"
   },
   "outputs": [],
   "source": [
    "x = 7\n",
    "y = 2\n",
    "diff = minus(x, y)\n",
    "print(diff)"
   ]
  },
  {
   "cell_type": "markdown",
   "metadata": {
    "id": "G8JNuz9YGPJI"
   },
   "source": [
    "You also need to make sure the arguments and parameters match in number and value"
   ]
  },
  {
   "cell_type": "code",
   "execution_count": null,
   "metadata": {
    "executionInfo": {
     "elapsed": 398,
     "status": "ok",
     "timestamp": 1612797325432,
     "user": {
      "displayName": "Joel Chan",
      "photoUrl": "https://lh3.googleusercontent.com/a-/AOh14GiBPPpBf_QqgDL3pMurAsPu9WJJE_x_6UtgW13UFQ=s64",
      "userId": "15153559228409906865"
     },
     "user_tz": 300
    },
    "id": "cN83vrjWGZEn"
   },
   "outputs": [],
   "source": [
    "# example\n",
    "def minus(x, y):\n",
    "    \"\"\"\n",
    "    x (int) = first number\n",
    "    y (int) = second number\n",
    "    \"\"\"\n",
    "    result = x - y\n",
    "    return result"
   ]
  },
  {
   "cell_type": "code",
   "execution_count": null,
   "metadata": {
    "colab": {
     "base_uri": "https://localhost:8080/"
    },
    "executionInfo": {
     "elapsed": 413,
     "status": "ok",
     "timestamp": 1612797405430,
     "user": {
      "displayName": "Joel Chan",
      "photoUrl": "https://lh3.googleusercontent.com/a-/AOh14GiBPPpBf_QqgDL3pMurAsPu9WJJE_x_6UtgW13UFQ=s64",
      "userId": "15153559228409906865"
     },
     "user_tz": 300
    },
    "id": "re-7xC6cGZEt",
    "outputId": "d66ea777-f570-470d-f081-ea0afe6702e5"
   },
   "outputs": [],
   "source": [
    "x = 3\n",
    "y = 2\n",
    "diff = minus(y, x)\n",
    "print(diff)"
   ]
  },
  {
   "cell_type": "markdown",
   "metadata": {},
   "source": [
    "This is where the explicit parameter-argument mapping function call pattern can help you."
   ]
  },
  {
   "cell_type": "code",
   "execution_count": null,
   "metadata": {},
   "outputs": [],
   "source": [
    "x = 3\n",
    "y = 2\n",
    "diff = minus(x=x, y=y)\n",
    "print(diff)"
   ]
  },
  {
   "cell_type": "markdown",
   "metadata": {},
   "source": [
    "A related error is hard-coding the variables inside the function body instead of letting the parameter be defined and given its value from the argument"
   ]
  },
  {
   "cell_type": "code",
   "execution_count": null,
   "metadata": {},
   "outputs": [],
   "source": [
    "# example\n",
    "# now, no matter what arguments we pass in, \n",
    "# the result will never change\n",
    "# the key here is to remember \n",
    "def minus(x, y):\n",
    "    \"\"\"\n",
    "    x (int) = first number\n",
    "    y (int) = second number\n",
    "    \"\"\"\n",
    "    x = 3\n",
    "    y = 1\n",
    "    result = x - y\n",
    "    return result"
   ]
  }
 ],
 "metadata": {
  "colab": {
   "name": "INST126_SP21_Week3_Functions.ipynb",
   "provenance": []
  },
  "kernelspec": {
   "display_name": "Python 3 (ipykernel)",
   "language": "python",
   "name": "python3"
  },
  "language_info": {
   "codemirror_mode": {
    "name": "ipython",
    "version": 3
   },
   "file_extension": ".py",
   "mimetype": "text/x-python",
   "name": "python",
   "nbconvert_exporter": "python",
   "pygments_lexer": "ipython3",
   "version": "3.9.7"
  },
  "toc": {
   "base_numbering": 1,
   "nav_menu": {},
   "number_sections": false,
   "sideBar": true,
   "skip_h1_title": false,
   "title_cell": "Table of Contents",
   "title_sidebar": "Contents",
   "toc_cell": false,
   "toc_position": {},
   "toc_section_display": true,
   "toc_window_display": false
  }
 },
 "nbformat": 4,
 "nbformat_minor": 1
}
