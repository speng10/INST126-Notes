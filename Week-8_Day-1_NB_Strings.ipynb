{
 "cells": [
  {
   "cell_type": "markdown",
   "metadata": {
    "id": "TB-Kg9GExbRz"
   },
   "source": [
    "## Learning goals for this week:\n",
    "- Explain how strings are related to lists\n",
    "- Do common operations (e.g., substring, indexing) on strings\n",
    "- Recognize potential application opportunities for string methods and functions (e.g., upper/lower, isnumeric)\n",
    "- Appropriately apply string methods and functions\n",
    "- Construct strings from variable values using string formatting\n",
    "\n",
    "\n"
   ]
  },
  {
   "cell_type": "markdown",
   "metadata": {
    "id": "g-lkfdphxbR0"
   },
   "source": [
    "## What are strings and why should we care about them?\n",
    "\n",
    "\n"
   ]
  },
  {
   "cell_type": "markdown",
   "metadata": {
    "id": "TRx-T5TYPZ_m"
   },
   "source": [
    "### Strings are everywhere"
   ]
  },
  {
   "cell_type": "markdown",
   "metadata": {
    "id": "59UWIOJ_jgrs"
   },
   "source": [
    "We need to learn to work with strings because a lot of data we want to do things with live in the world as mixed data\n",
    "- Email addresses\n",
    "- Webpage URLs\n",
    "- Names\n",
    "- Documents, words\n",
    "- Sales records\n",
    "- Etc.\n",
    "\n",
    "Strings are the ultimate \"lingua franca\" between systems\n",
    "- Data is often passed as \"serialized\" forms (e.g., JSON: Javascript **String** Object Notation)\n",
    "- We assume strings coming in, and we parse it appropriately. This can include data (numbers/records), as we see in one of the Projects for this module!\n",
    "- This also includes the \"human system\" (i.e., the user)!"
   ]
  },
  {
   "cell_type": "markdown",
   "metadata": {
    "id": "X8Q343PRGhMR"
   },
   "source": [
    "### Strings are lists of characters"
   ]
  },
  {
   "cell_type": "markdown",
   "metadata": {
    "id": "Ku3vlFoMjfUt"
   },
   "source": [
    "But what *is* a string? It's fundamentally a sequence of letters/characters.\n",
    "\n",
    "And that's exactly what a string is in Python too: it's a sequence of characters, much like (though not *exactly*) like a `list`."
   ]
  },
  {
   "cell_type": "code",
   "execution_count": 1,
   "metadata": {
    "colab": {
     "base_uri": "https://localhost:8080/"
    },
    "executionInfo": {
     "elapsed": 371,
     "status": "ok",
     "timestamp": 1616418895570,
     "user": {
      "displayName": "Joel Chan",
      "photoUrl": "https://lh3.googleusercontent.com/a-/AOh14GiBPPpBf_QqgDL3pMurAsPu9WJJE_x_6UtgW13UFQ=s64",
      "userId": "15153559228409906865"
     },
     "user_tz": 240
    },
    "id": "wssiqU3iUw1I",
    "outputId": "d90a3a33-c4cf-416a-b0bf-a4fab3b2d0fe"
   },
   "outputs": [
    {
     "name": "stdout",
     "output_type": "stream",
     "text": [
      "0 b\n",
      "1 a\n",
      "2 n\n",
      "3 a\n",
      "4 n\n",
      "5 a\n"
     ]
    }
   ],
   "source": [
    "s = \"banana\"\n",
    "for index, char in enumerate(s):\n",
    "    print(index, char)"
   ]
  },
  {
   "cell_type": "code",
   "execution_count": 2,
   "metadata": {
    "colab": {
     "base_uri": "https://localhost:8080/"
    },
    "executionInfo": {
     "elapsed": 351,
     "status": "ok",
     "timestamp": 1616418897497,
     "user": {
      "displayName": "Joel Chan",
      "photoUrl": "https://lh3.googleusercontent.com/a-/AOh14GiBPPpBf_QqgDL3pMurAsPu9WJJE_x_6UtgW13UFQ=s64",
      "userId": "15153559228409906865"
     },
     "user_tz": 240
    },
    "id": "BRNUU1DjEqrw",
    "outputId": "fe1b8335-acec-475d-a809-c931694bee3b"
   },
   "outputs": [
    {
     "name": "stdout",
     "output_type": "stream",
     "text": [
      "b\n",
      "a\n",
      "n\n",
      "a\n",
      "n\n",
      "a\n"
     ]
    }
   ],
   "source": [
    "for char in s:\n",
    "    print(char)"
   ]
  },
  {
   "cell_type": "code",
   "execution_count": null,
   "metadata": {
    "colab": {
     "base_uri": "https://localhost:8080/"
    },
    "executionInfo": {
     "elapsed": 528,
     "status": "ok",
     "timestamp": 1616418962798,
     "user": {
      "displayName": "Joel Chan",
      "photoUrl": "https://lh3.googleusercontent.com/a-/AOh14GiBPPpBf_QqgDL3pMurAsPu9WJJE_x_6UtgW13UFQ=s64",
      "userId": "15153559228409906865"
     },
     "user_tz": 240
    },
    "id": "VDLD-bJOEz9m",
    "outputId": "70ea0142-3b27-4aba-8d1b-948fa7ebc9b7"
   },
   "outputs": [
    {
     "name": "stdout",
     "output_type": "stream",
     "text": [
      "b\n",
      "s\n",
      "a\n",
      "n\n",
      "n\n",
      "d\n",
      "a\n",
      "4\n",
      "n\n",
      "t\n",
      "a\n",
      "7\n"
     ]
    }
   ],
   "source": [
    "a = \"banana\"\n",
    "b = \"snd4t7\"\n",
    "for index, char in enumerate(a):\n",
    "    print(char)\n",
    "    # and corresponding character position in b\n",
    "    print(b[index])"
   ]
  },
  {
   "cell_type": "code",
   "execution_count": null,
   "metadata": {
    "colab": {
     "base_uri": "https://localhost:8080/"
    },
    "executionInfo": {
     "elapsed": 499,
     "status": "ok",
     "timestamp": 1616419054359,
     "user": {
      "displayName": "Joel Chan",
      "photoUrl": "https://lh3.googleusercontent.com/a-/AOh14GiBPPpBf_QqgDL3pMurAsPu9WJJE_x_6UtgW13UFQ=s64",
      "userId": "15153559228409906865"
     },
     "user_tz": 240
    },
    "id": "W1mP50_BFMjv",
    "outputId": "f813c28a-f758-449c-e604-f702374cbbc3"
   },
   "outputs": [
    {
     "name": "stdout",
     "output_type": "stream",
     "text": [
      "0 s\n",
      "1 h\n",
      "2 e\n",
      "3  \n",
      "4 s\n",
      "5 e\n",
      "6 l\n",
      "7 l\n",
      "8 s\n",
      "9  \n",
      "10 s\n",
      "11 e\n",
      "12 a\n",
      "13 s\n",
      "14 h\n",
      "15 e\n",
      "16 l\n",
      "17 l\n",
      "18 s\n",
      "19  \n",
      "20 b\n",
      "21 y\n",
      "22  \n",
      "23 t\n",
      "24 h\n",
      "25 e\n",
      "26  \n",
      "27 s\n",
      "28 e\n",
      "29 a\n",
      "30 s\n",
      "31 h\n",
      "32 o\n",
      "33 r\n",
      "34 e\n",
      "35 ,\n",
      "36  \n",
      "37 e\n",
      "38 x\n",
      "39 c\n",
      "40 e\n",
      "41 p\n",
      "42 t\n",
      "43  \n",
      "44 w\n",
      "45 h\n",
      "46 e\n",
      "47 n\n",
      "48  \n",
      "49 s\n",
      "50 h\n",
      "51 e\n",
      "52  \n",
      "53 d\n",
      "54 o\n",
      "55 e\n",
      "56 s\n",
      "57 n\n",
      "58 '\n",
      "59 t\n",
      "60  \n",
      "61 w\n",
      "62 a\n",
      "63 n\n",
      "64 t\n",
      "65  \n",
      "66 t\n",
      "67 o\n",
      "68  \n",
      "69 s\n",
      "70 e\n",
      "71 l\n",
      "72 l\n",
      "73  \n",
      "74 s\n",
      "75 e\n",
      "76 a\n",
      "77 s\n",
      "78 h\n",
      "79 e\n",
      "80 l\n",
      "81 l\n",
      "82 s\n"
     ]
    }
   ],
   "source": [
    "sentence = \"she sells seashells by the seashore, except when she doesn't want to sell seashells\"\n",
    "for index, char in enumerate(sentence):\n",
    "    print(index, char)"
   ]
  },
  {
   "cell_type": "code",
   "execution_count": 5,
   "metadata": {
    "colab": {
     "base_uri": "https://localhost:8080/"
    },
    "executionInfo": {
     "elapsed": 461,
     "status": "ok",
     "timestamp": 1616419123459,
     "user": {
      "displayName": "Joel Chan",
      "photoUrl": "https://lh3.googleusercontent.com/a-/AOh14GiBPPpBf_QqgDL3pMurAsPu9WJJE_x_6UtgW13UFQ=s64",
      "userId": "15153559228409906865"
     },
     "user_tz": 240
    },
    "id": "ljxyyCJNFhGX",
    "outputId": "4e7c6c2b-d5c1-4c87-ade6-7dd74a0d8d50"
   },
   "outputs": [
    {
     "name": "stdout",
     "output_type": "stream",
     "text": [
      "a is \n",
      "b is  \t\n",
      "\n",
      "0\n",
      "3\n"
     ]
    }
   ],
   "source": [
    "a = \"\"\n",
    "b = \" \\t\\n\"\n",
    "print(\"a is \" +a)\n",
    "print(\"b is \"+b)\n",
    "a == b\n",
    "print(len(a))\n",
    "print(len(b))"
   ]
  },
  {
   "cell_type": "markdown",
   "metadata": {
    "id": "rt-d9q-YGx3F"
   },
   "source": [
    "### Characters don't have to be visible/letters!\n",
    "\n",
    "\n",
    "\n"
   ]
  },
  {
   "cell_type": "markdown",
   "metadata": {
    "id": "XMfeWgyvG3W7"
   },
   "source": [
    "Notice that even the \"blank space\" is a character! A string that includes an empty space character is **NOT** the same as an empty string (i.e., a list of characters of length zero), even though they print out the same. This distinction is very important to remember as you work with real world data."
   ]
  },
  {
   "cell_type": "code",
   "execution_count": null,
   "metadata": {
    "colab": {
     "base_uri": "https://localhost:8080/",
     "height": 122
    },
    "executionInfo": {
     "elapsed": 429,
     "status": "ok",
     "timestamp": 1603119239104,
     "user": {
      "displayName": "Joel Chan",
      "photoUrl": "https://lh3.googleusercontent.com/a-/AOh14GiBPPpBf_QqgDL3pMurAsPu9WJJE_x_6UtgW13UFQ=s64",
      "userId": "15153559228409906865"
     },
     "user_tz": 240
    },
    "id": "U9vAhGrFZ4o_",
    "outputId": "b1b20f59-7395-485d-ac13-e2c1992496ef"
   },
   "outputs": [
    {
     "name": "stdout",
     "output_type": "stream",
     "text": [
      "Printing out the value of a\n",
      "\n",
      "Printing out the value of b\n",
      " \n",
      "0 1\n",
      "False\n"
     ]
    }
   ],
   "source": [
    "a = \"\" # a blank/empty string\n",
    "b = \" \" # a string with one blank space *character*\n",
    "print(\"Printing out the value of a\")\n",
    "print(a)\n",
    "print(\"Printing out the value of b\")\n",
    "print(b)\n",
    "print(len(a), len(b))\n",
    "print(a == b)"
   ]
  },
  {
   "cell_type": "code",
   "execution_count": null,
   "metadata": {
    "colab": {
     "base_uri": "https://localhost:8080/",
     "height": 69
    },
    "executionInfo": {
     "elapsed": 196,
     "status": "ok",
     "timestamp": 1603119321123,
     "user": {
      "displayName": "Joel Chan",
      "photoUrl": "https://lh3.googleusercontent.com/a-/AOh14GiBPPpBf_QqgDL3pMurAsPu9WJJE_x_6UtgW13UFQ=s64",
      "userId": "15153559228409906865"
     },
     "user_tz": 240
    },
    "id": "bcPsHiupWwTV",
    "outputId": "9ca639ad-4a22-4c99-da95-6bbedf3d1d4f"
   },
   "outputs": [
    {
     "name": "stdout",
     "output_type": "stream",
     "text": [
      "False\n",
      "False\n",
      "False\n"
     ]
    }
   ],
   "source": [
    "a = \"James\"\n",
    "b = \" James\"\n",
    "c = \"James \"\n",
    "print(a == b)\n",
    "print(b == c)\n",
    "print(a == c)"
   ]
  },
  {
   "cell_type": "markdown",
   "metadata": {
    "id": "BiQBWTMsRANw"
   },
   "source": [
    "Other kinds of characters that don't look like \"letters\": tabs and newlines"
   ]
  },
  {
   "cell_type": "code",
   "execution_count": null,
   "metadata": {
    "colab": {
     "base_uri": "https://localhost:8080/"
    },
    "executionInfo": {
     "elapsed": 439,
     "status": "ok",
     "timestamp": 1616419232304,
     "user": {
      "displayName": "Joel Chan",
      "photoUrl": "https://lh3.googleusercontent.com/a-/AOh14GiBPPpBf_QqgDL3pMurAsPu9WJJE_x_6UtgW13UFQ=s64",
      "userId": "15153559228409906865"
     },
     "user_tz": 240
    },
    "id": "UTyQyy3sRIjj",
    "outputId": "57788864-3095-4528-e793-3f128c7eb916"
   },
   "outputs": [
    {
     "name": "stdout",
     "output_type": "stream",
     "text": [
      "a\ttab\n",
      "hello😂\n",
      "0 a\n",
      "1 \t\n",
      "2 t\n",
      "3 a\n",
      "4 b\n",
      "5 \n",
      "\n",
      "6 h\n",
      "7 e\n",
      "8 l\n",
      "9 l\n",
      "10 o\n",
      "11 😂\n"
     ]
    }
   ],
   "source": [
    "# tab is \\t\n",
    "s = \"a\\ttab\\nhello😂\"\n",
    "print(s)\n",
    "for idx, char in enumerate(s):\n",
    "  print(idx, char)"
   ]
  },
  {
   "cell_type": "code",
   "execution_count": null,
   "metadata": {
    "colab": {
     "base_uri": "https://localhost:8080/",
     "height": 157
    },
    "executionInfo": {
     "elapsed": 617,
     "status": "ok",
     "timestamp": 1603119413902,
     "user": {
      "displayName": "Joel Chan",
      "photoUrl": "https://lh3.googleusercontent.com/a-/AOh14GiBPPpBf_QqgDL3pMurAsPu9WJJE_x_6UtgW13UFQ=s64",
      "userId": "15153559228409906865"
     },
     "user_tz": 240
    },
    "id": "w0zSVYtbXLeS",
    "outputId": "5ebde374-3664-41c9-ca34-cb078d53ab27"
   },
   "outputs": [
    {
     "name": "stdout",
     "output_type": "stream",
     "text": [
      "a\n",
      "tab\n",
      "0 a\n",
      "1 \n",
      "\n",
      "2 t\n",
      "3 a\n",
      "4 b\n"
     ]
    }
   ],
   "source": [
    "# new line is \\n\n",
    "s = \"a\\ntab\"\n",
    "print(s)\n",
    "for idx, char in enumerate(s):\n",
    "  print(idx, char)"
   ]
  },
  {
   "cell_type": "markdown",
   "metadata": {
    "id": "_fBRR1MSROdJ"
   },
   "source": [
    "Because strings are a special case of a list, most of the properties and functions that apply to lists also apply to strings (e.g., sortable, has length, can check if something is \"in\" it), with one important exception: **strings are immutable**: you can never modify a string directly, only create a *new* string that you must then assign to a variable (or reassign to the same variable) if you want to preserve that change. More on this when we talk about working with strings."
   ]
  },
  {
   "cell_type": "code",
   "execution_count": 7,
   "metadata": {
    "colab": {
     "base_uri": "https://localhost:8080/"
    },
    "executionInfo": {
     "elapsed": 475,
     "status": "ok",
     "timestamp": 1616419444605,
     "user": {
      "displayName": "Joel Chan",
      "photoUrl": "https://lh3.googleusercontent.com/a-/AOh14GiBPPpBf_QqgDL3pMurAsPu9WJJE_x_6UtgW13UFQ=s64",
      "userId": "15153559228409906865"
     },
     "user_tz": 240
    },
    "id": "mEFRGErFZGnx",
    "outputId": "c5615513-1930-4062-f8ae-18634569782c"
   },
   "outputs": [
    {
     "name": "stdout",
     "output_type": "stream",
     "text": [
      "14\n",
      "0 h\n",
      "1 e\n",
      "2 l\n",
      "3 l\n",
      "4 o\n",
      "5  \n",
      "6 w\n",
      "7 o\n",
      "8 r\n",
      "9 l\n",
      "10 d\n",
      "11  \n",
      "12 H\n",
      "13 i\n",
      "h\n",
      "i\n",
      "[' ', ' ', 'H', 'd', 'e', 'h', 'i', 'l', 'l', 'l', 'o', 'o', 'r', 'w']\n"
     ]
    }
   ],
   "source": [
    "a_string = \"hello world Hi\"\n",
    "# has length\n",
    "print(len(a_string))\n",
    "# can be indexed\n",
    "for idx in range(len(a_string)):\n",
    "  char = a_string[idx]\n",
    "  print(idx, char)\n",
    "# get the first character\n",
    "print(a_string[0])\n",
    "# get the last cahracter\n",
    "print(a_string[-1])\n",
    "# sort it!\n",
    "print(sorted(a_string))"
   ]
  },
  {
   "cell_type": "code",
   "execution_count": 9,
   "metadata": {},
   "outputs": [
    {
     "data": {
      "text/plain": [
       "'hel'"
      ]
     },
     "execution_count": 9,
     "metadata": {},
     "output_type": "execute_result"
    }
   ],
   "source": [
    "#can be indexted\n",
    "a_string[:3] #first three\n"
   ]
  },
  {
   "cell_type": "code",
   "execution_count": null,
   "metadata": {
    "colab": {
     "base_uri": "https://localhost:8080/",
     "height": 157
    },
    "executionInfo": {
     "elapsed": 379,
     "status": "ok",
     "timestamp": 1603119524289,
     "user": {
      "displayName": "Joel Chan",
      "photoUrl": "https://lh3.googleusercontent.com/a-/AOh14GiBPPpBf_QqgDL3pMurAsPu9WJJE_x_6UtgW13UFQ=s64",
      "userId": "15153559228409906865"
     },
     "user_tz": 240
    },
    "id": "5cKINmX6Xa62",
    "outputId": "a8165ae5-f0a5-469a-f6d3-5f59ef7bed4b"
   },
   "outputs": [
    {
     "name": "stdout",
     "output_type": "stream",
     "text": [
      "h\n",
      "l\n",
      "l\n",
      " \n",
      "w\n",
      "r\n",
      "l\n",
      "d\n"
     ]
    }
   ],
   "source": [
    "vowels = \"aeiou\"\n",
    "s = \"hello world\"\n",
    "for char in s:\n",
    "    if char not in vowels:\n",
    "        print(char)"
   ]
  },
  {
   "cell_type": "code",
   "execution_count": 11,
   "metadata": {},
   "outputs": [
    {
     "data": {
      "text/plain": [
       "True"
      ]
     },
     "execution_count": 11,
     "metadata": {},
     "output_type": "execute_result"
    }
   ],
   "source": [
    "course_code = \"INST201\"\n",
    "\"INST\" in course_code"
   ]
  },
  {
   "cell_type": "code",
   "execution_count": 15,
   "metadata": {},
   "outputs": [
    {
     "name": "stdout",
     "output_type": "stream",
     "text": [
      "['e', 'h', 'l', 'l', 'o']\n",
      "hello\n"
     ]
    }
   ],
   "source": [
    "a_list = [ \"h\", \"e\", \"l\",\"l\", \"o\"]\n",
    "a_string = \"hello\"\n",
    "a_list.sort()\n",
    "print(a_list)\n",
    "sorted(a_string)\n",
    "print(a_string)"
   ]
  },
  {
   "cell_type": "code",
   "execution_count": 17,
   "metadata": {},
   "outputs": [
    {
     "ename": "SyntaxError",
     "evalue": "invalid syntax (3282925709.py, line 1)",
     "output_type": "error",
     "traceback": [
      "\u001b[0;36m  File \u001b[0;32m\"/var/folders/dn/bbrktyl55qlbxbnhvk_qjb000000gn/T/ipykernel_46598/3282925709.py\"\u001b[0;36m, line \u001b[0;32m1\u001b[0m\n\u001b[0;31m    THIS MEANS ANYTIME you modify a stirng you must have some kind of variable statement to preserve the change\u001b[0m\n\u001b[0m         ^\u001b[0m\n\u001b[0;31mSyntaxError\u001b[0m\u001b[0;31m:\u001b[0m invalid syntax\n"
     ]
    }
   ],
   "source": [
    "THIS MEANS ANYTIME you modify a stirng you must have some kind of variable statement to preserve the change"
   ]
  },
  {
   "cell_type": "markdown",
   "metadata": {
    "id": "XMzCrbEgZufG"
   },
   "source": [
    "### Aside: string encoding\n"
   ]
  },
  {
   "cell_type": "markdown",
   "metadata": {
    "id": "FjZFi16rZ3mZ"
   },
   "source": [
    "The previous observation about blank spaces illustrates a larger point: we deliberately say strings are sequences of *characters*, not letters. This is because strings can include numbers, as we've seen (think usernames like joelchan86, or your uids), but also all sorts of other characters, including various kinds of blank spaces --- like tabs, spaces, and newlines --- and even emoji! \n",
    "\n",
    "Check this resource for an overview and initial guide: https://realpython.com/python-encodings-guide/"
   ]
  },
  {
   "cell_type": "markdown",
   "metadata": {
    "id": "gKBdnB2maj-E"
   },
   "source": [
    "This is something I want to show you to give you a better intuition for what strings *are*, but there is also an important practical implication: you need to be very careful to transform or normalize your strings when you want to sort or compare them. What's the same or different to your human eye will often *not* be the same or different to the computer's eye.\n",
    "\n",
    "For example, \"A\" and \"a\" have different encodings. Thus, Python does *not* see them as the same \"letter\". Sometimes you'll even be reading in strings that are in a different encoding "
   ]
  },
  {
   "cell_type": "code",
   "execution_count": null,
   "metadata": {
    "colab": {
     "base_uri": "https://localhost:8080/",
     "height": 34
    },
    "executionInfo": {
     "elapsed": 262,
     "status": "ok",
     "timestamp": 1603119832607,
     "user": {
      "displayName": "Joel Chan",
      "photoUrl": "https://lh3.googleusercontent.com/a-/AOh14GiBPPpBf_QqgDL3pMurAsPu9WJJE_x_6UtgW13UFQ=s64",
      "userId": "15153559228409906865"
     },
     "user_tz": 240
    },
    "id": "F7YE80TnYtwL",
    "outputId": "3aab63a6-3368-43e6-b28a-3bb16139ca79"
   },
   "outputs": [
    {
     "data": {
      "text/plain": [
       "False"
      ]
     },
     "execution_count": 17,
     "metadata": {
      "tags": []
     },
     "output_type": "execute_result"
    }
   ],
   "source": [
    "s1 = \"James \"\n",
    "s2 = \"James\"\n",
    "s1 == s2"
   ]
  },
  {
   "cell_type": "markdown",
   "metadata": {
    "id": "ifBcaTKuA2jN"
   },
   "source": [
    "## Working with strings: basics\n"
   ]
  },
  {
   "cell_type": "markdown",
   "metadata": {
    "id": "RKgca-CfnFK9"
   },
   "source": [
    "Similar to lists, many basic operations with strings revolve around indexing and iteration."
   ]
  },
  {
   "cell_type": "markdown",
   "metadata": {
    "id": "lwqnJOZV0AEz"
   },
   "source": [
    "### Getting parts of a string\n",
    "\n",
    "Works similarly to lists."
   ]
  },
  {
   "cell_type": "code",
   "execution_count": null,
   "metadata": {
    "colab": {
     "base_uri": "https://localhost:8080/",
     "height": 1000
    },
    "executionInfo": {
     "elapsed": 449,
     "status": "ok",
     "timestamp": 1603119983951,
     "user": {
      "displayName": "Joel Chan",
      "photoUrl": "https://lh3.googleusercontent.com/a-/AOh14GiBPPpBf_QqgDL3pMurAsPu9WJJE_x_6UtgW13UFQ=s64",
      "userId": "15153559228409906865"
     },
     "user_tz": 240
    },
    "id": "JG-iNe0ZHJVn",
    "outputId": "3f4bfb98-724a-4824-be34-554bcecffdd4"
   },
   "outputs": [
    {
     "name": "stdout",
     "output_type": "stream",
     "text": [
      "0 m\n",
      "1 y\n",
      "2  \n",
      "3 n\n",
      "4 a\n",
      "5 m\n",
      "6 e\n",
      "7  \n",
      "8 i\n",
      "9 s\n",
      "10  \n",
      "11 i\n",
      "12 n\n",
      "13 i\n",
      "14 g\n",
      "15 o\n",
      "16  \n",
      "17 m\n",
      "18 o\n",
      "19 n\n",
      "20 t\n",
      "21 o\n",
      "22 y\n",
      "23 a\n",
      "24 ,\n",
      "25  \n",
      "26 y\n",
      "27 o\n",
      "28 u\n",
      "29  \n",
      "30 k\n",
      "31 i\n",
      "32 l\n",
      "33 l\n",
      "34 e\n",
      "35 d\n",
      "36  \n",
      "37 m\n",
      "38 y\n",
      "39  \n",
      "40 f\n",
      "41 a\n",
      "42 t\n",
      "43 h\n",
      "44 e\n",
      "45 r\n",
      "46 ,\n",
      "47  \n",
      "48 p\n",
      "49 r\n",
      "50 e\n",
      "51 p\n",
      "52 a\n",
      "53 r\n",
      "54 e\n",
      "55  \n",
      "56 t\n",
      "57 o\n",
      "58  \n",
      "59 d\n",
      "60 i\n",
      "61 e\n",
      "62 !\n"
     ]
    }
   ],
   "source": [
    "s = \"my name is inigo montoya, you killed my father, prepare to die!\"\n",
    "for i in range(len(s)):\n",
    "    char = s[i]\n",
    "    print(i, char)"
   ]
  },
  {
   "cell_type": "code",
   "execution_count": null,
   "metadata": {
    "colab": {
     "base_uri": "https://localhost:8080/",
     "height": 1000
    },
    "executionInfo": {
     "elapsed": 362,
     "status": "ok",
     "timestamp": 1603120020934,
     "user": {
      "displayName": "Joel Chan",
      "photoUrl": "https://lh3.googleusercontent.com/a-/AOh14GiBPPpBf_QqgDL3pMurAsPu9WJJE_x_6UtgW13UFQ=s64",
      "userId": "15153559228409906865"
     },
     "user_tz": 240
    },
    "id": "3NlBHG2VZfkd",
    "outputId": "564047a9-e86d-4eb3-dd6d-f4341f79611a"
   },
   "outputs": [
    {
     "name": "stdout",
     "output_type": "stream",
     "text": [
      "m\n",
      "y\n",
      " \n",
      "n\n",
      "a\n",
      "m\n",
      "e\n",
      " \n",
      "i\n",
      "s\n",
      " \n",
      "i\n",
      "n\n",
      "i\n",
      "g\n",
      "o\n",
      " \n",
      "m\n",
      "o\n",
      "n\n",
      "t\n",
      "o\n",
      "y\n",
      "a\n",
      ",\n",
      " \n",
      "y\n",
      "o\n",
      "u\n",
      " \n",
      "k\n",
      "i\n",
      "l\n",
      "l\n",
      "e\n",
      "d\n",
      " \n",
      "m\n",
      "y\n",
      " \n",
      "f\n",
      "a\n",
      "t\n",
      "h\n",
      "e\n",
      "r\n",
      ",\n",
      " \n",
      "p\n",
      "r\n",
      "e\n",
      "p\n",
      "a\n",
      "r\n",
      "e\n",
      " \n",
      "t\n",
      "o\n",
      " \n",
      "d\n",
      "i\n",
      "e\n",
      "!\n"
     ]
    }
   ],
   "source": [
    "s = \"my name is inigo montoya, you killed my father, prepare to die!\"\n",
    "for char in s:\n",
    "    print(char)"
   ]
  },
  {
   "cell_type": "code",
   "execution_count": null,
   "metadata": {
    "colab": {
     "base_uri": "https://localhost:8080/"
    },
    "executionInfo": {
     "elapsed": 320,
     "status": "ok",
     "timestamp": 1616420102205,
     "user": {
      "displayName": "Joel Chan",
      "photoUrl": "https://lh3.googleusercontent.com/a-/AOh14GiBPPpBf_QqgDL3pMurAsPu9WJJE_x_6UtgW13UFQ=s64",
      "userId": "15153559228409906865"
     },
     "user_tz": 240
    },
    "id": "0u_TW-JCJJqk",
    "outputId": "30e0b14a-2bca-490e-8d0e-e63ab84e9958"
   },
   "outputs": [
    {
     "name": "stdout",
     "output_type": "stream",
     "text": [
      "!\n",
      "7\n"
     ]
    }
   ],
   "source": [
    "s = \"my name is inigo montoya, you killed my father, prepare to die!\"\n",
    "print(s[-1])\n",
    "l = [1,4,5,6,7,]\n",
    "print(l[-1])"
   ]
  },
  {
   "cell_type": "markdown",
   "metadata": {
    "id": "QwKbf3Uwb0oB"
   },
   "source": [
    "Remember slicing? Here we can think about substrings. Super useful for truncation, or getting particular parts of strings when you know the pattern (e.g., first four characters of a course code is always the department).\n",
    "\n",
    "Remember: the index before the `:` indicates where you want to *start*, and the index after the `:` indicates where you want to stop *before*. So `[0:4]` will go from index `0` to index `3` (before index 4). Leaving out an index implicitly says \"to the max\" (e.g., from `0` or `until the end`)."
   ]
  },
  {
   "cell_type": "code",
   "execution_count": null,
   "metadata": {
    "colab": {
     "base_uri": "https://localhost:8080/"
    },
    "executionInfo": {
     "elapsed": 608,
     "status": "ok",
     "timestamp": 1616420215777,
     "user": {
      "displayName": "Joel Chan",
      "photoUrl": "https://lh3.googleusercontent.com/a-/AOh14GiBPPpBf_QqgDL3pMurAsPu9WJJE_x_6UtgW13UFQ=s64",
      "userId": "15153559228409906865"
     },
     "user_tz": 240
    },
    "id": "Et-DE_NUmkXT",
    "outputId": "ae058356-3d9f-412e-b080-1e9481447640"
   },
   "outputs": [
    {
     "name": "stdout",
     "output_type": "stream",
     "text": [
      "INST\n"
     ]
    }
   ],
   "source": [
    "code = \"INST201\"\n",
    "area = code[0:4]\n",
    "print(area)"
   ]
  },
  {
   "cell_type": "markdown",
   "metadata": {},
   "source": [
    "Practice! How would you get the first number of the level (after the four-letter code)?"
   ]
  },
  {
   "cell_type": "code",
   "execution_count": 20,
   "metadata": {},
   "outputs": [
    {
     "name": "stdout",
     "output_type": "stream",
     "text": [
      "2\n"
     ]
    }
   ],
   "source": [
    "code = \"INST201\"\n",
    "area = code[4:5]\n",
    "print(area)"
   ]
  },
  {
   "cell_type": "code",
   "execution_count": null,
   "metadata": {
    "colab": {
     "base_uri": "https://localhost:8080/",
     "height": 122
    },
    "executionInfo": {
     "elapsed": 703,
     "status": "ok",
     "timestamp": 1603120158044,
     "user": {
      "displayName": "Joel Chan",
      "photoUrl": "https://lh3.googleusercontent.com/a-/AOh14GiBPPpBf_QqgDL3pMurAsPu9WJJE_x_6UtgW13UFQ=s64",
      "userId": "15153559228409906865"
     },
     "user_tz": 240
    },
    "id": "f0JnSZUsZ3hA",
    "outputId": "07b16a06-e358-4a9e-ff14-16bb3f55fe79"
   },
   "outputs": [
    {
     "name": "stdout",
     "output_type": "stream",
     "text": [
      "J\n",
      "S\n",
      "J\n",
      "M\n",
      "P\n",
      "K\n"
     ]
    }
   ],
   "source": [
    "names = [\"Joel\", \"Sarah\", \"John\", \"Michael\", \"Patrick\", \"Kacie\"]\n",
    "for name in names:\n",
    "    # get the first initial\n",
    "    initial = name[0]\n",
    "    print(initial)"
   ]
  },
  {
   "cell_type": "markdown",
   "metadata": {},
   "source": [
    "Practice! How would you get the first three letters of each name?"
   ]
  },
  {
   "cell_type": "code",
   "execution_count": 22,
   "metadata": {},
   "outputs": [
    {
     "data": {
      "text/plain": [
       "'INST'"
      ]
     },
     "execution_count": 22,
     "metadata": {},
     "output_type": "execute_result"
    }
   ],
   "source": [
    "code[:-3]"
   ]
  },
  {
   "cell_type": "markdown",
   "metadata": {
    "id": "YZ1fZMlqz00f"
   },
   "source": [
    "### Join strings"
   ]
  },
  {
   "cell_type": "markdown",
   "metadata": {
    "id": "DgkOR-cIm2Iy"
   },
   "source": [
    "We've also already shown you concatenation."
   ]
  },
  {
   "cell_type": "code",
   "execution_count": null,
   "metadata": {
    "colab": {
     "base_uri": "https://localhost:8080/"
    },
    "executionInfo": {
     "elapsed": 319,
     "status": "ok",
     "timestamp": 1616420422394,
     "user": {
      "displayName": "Joel Chan",
      "photoUrl": "https://lh3.googleusercontent.com/a-/AOh14GiBPPpBf_QqgDL3pMurAsPu9WJJE_x_6UtgW13UFQ=s64",
      "userId": "15153559228409906865"
     },
     "user_tz": 240
    },
    "id": "7gKu9TnzcZbG",
    "outputId": "bb25cf37-b5c0-42ad-eb69-451bf1403f4b"
   },
   "outputs": [
    {
     "name": "stdout",
     "output_type": "stream",
     "text": [
      "[1, 2, 3, 4, 5, 6]\n"
     ]
    }
   ],
   "source": [
    "l1 = [1, 2, 3]\n",
    "l2 = [4, 5, 6]\n",
    "print(l1 + l2)"
   ]
  },
  {
   "cell_type": "code",
   "execution_count": null,
   "metadata": {
    "colab": {
     "base_uri": "https://localhost:8080/",
     "height": 34
    },
    "executionInfo": {
     "elapsed": 474,
     "status": "ok",
     "timestamp": 1603120250327,
     "user": {
      "displayName": "Joel Chan",
      "photoUrl": "https://lh3.googleusercontent.com/a-/AOh14GiBPPpBf_QqgDL3pMurAsPu9WJJE_x_6UtgW13UFQ=s64",
      "userId": "15153559228409906865"
     },
     "user_tz": 240
    },
    "id": "eCOdUm9UaVYx",
    "outputId": "63d8995e-430a-4fbf-a1dc-f7cdb4ad1278"
   },
   "outputs": [
    {
     "name": "stdout",
     "output_type": "stream",
     "text": [
      "Hello World!\n"
     ]
    }
   ],
   "source": [
    "s1 = \"Hello\"\n",
    "s2 = \" World!\"\n",
    "print(s1 + s2)"
   ]
  },
  {
   "cell_type": "markdown",
   "metadata": {},
   "source": [
    "Practice! How would you join `INST` and `201`?"
   ]
  },
  {
   "cell_type": "code",
   "execution_count": null,
   "metadata": {},
   "outputs": [],
   "source": []
  },
  {
   "cell_type": "code",
   "execution_count": null,
   "metadata": {},
   "outputs": [],
   "source": []
  },
  {
   "cell_type": "markdown",
   "metadata": {
    "id": "XZOi4Ftbzj1q"
   },
   "source": [
    "### Check if character(s) is in string"
   ]
  },
  {
   "cell_type": "code",
   "execution_count": null,
   "metadata": {},
   "outputs": [],
   "source": []
  },
  {
   "cell_type": "markdown",
   "metadata": {
    "id": "Otxd6tdCacy9"
   },
   "source": [
    "And checking if some character (or sequence of characters) is in a string"
   ]
  },
  {
   "cell_type": "code",
   "execution_count": null,
   "metadata": {
    "colab": {
     "base_uri": "https://localhost:8080/"
    },
    "executionInfo": {
     "elapsed": 263,
     "status": "ok",
     "timestamp": 1616420491874,
     "user": {
      "displayName": "Joel Chan",
      "photoUrl": "https://lh3.googleusercontent.com/a-/AOh14GiBPPpBf_QqgDL3pMurAsPu9WJJE_x_6UtgW13UFQ=s64",
      "userId": "15153559228409906865"
     },
     "user_tz": 240
    },
    "id": "1n49p2Ybagde",
    "outputId": "0c79e1a3-f9f1-435a-aa54-d8e1103249e3"
   },
   "outputs": [
    {
     "name": "stdout",
     "output_type": "stream",
     "text": [
      "False\n",
      "True\n"
     ]
    }
   ],
   "source": [
    "message = \"Hello, my name is Inigo Montoya\"\n",
    "# let's check if the message mentions my name!\n",
    "print(\"inigo\" in message)\n",
    "# need to transform the message to lowercase to match\n",
    "print(\"inigo\" in message.lower())"
   ]
  },
  {
   "cell_type": "code",
   "execution_count": null,
   "metadata": {
    "colab": {
     "base_uri": "https://localhost:8080/"
    },
    "executionInfo": {
     "elapsed": 412,
     "status": "ok",
     "timestamp": 1616420573717,
     "user": {
      "displayName": "Joel Chan",
      "photoUrl": "https://lh3.googleusercontent.com/a-/AOh14GiBPPpBf_QqgDL3pMurAsPu9WJJE_x_6UtgW13UFQ=s64",
      "userId": "15153559228409906865"
     },
     "user_tz": 240
    },
    "id": "qy_mZ9amK7aG",
    "outputId": "bb7e2f3e-e9f9-4af2-9103-a430daaf0c16"
   },
   "outputs": [
    {
     "name": "stdout",
     "output_type": "stream",
     "text": [
      "CMSC126\n"
     ]
    }
   ],
   "source": [
    "l = [\"INST201\", \"INST126\", \"INFM322\", \"CMSC126\"]\n",
    "for item in l:\n",
    "    if \"CMSC\" in item:\n",
    "        print(item)"
   ]
  },
  {
   "cell_type": "code",
   "execution_count": null,
   "metadata": {
    "colab": {
     "base_uri": "https://localhost:8080/"
    },
    "executionInfo": {
     "elapsed": 271,
     "status": "ok",
     "timestamp": 1616420680608,
     "user": {
      "displayName": "Joel Chan",
      "photoUrl": "https://lh3.googleusercontent.com/a-/AOh14GiBPPpBf_QqgDL3pMurAsPu9WJJE_x_6UtgW13UFQ=s64",
      "userId": "15153559228409906865"
     },
     "user_tz": 240
    },
    "id": "qj3GI55dLNLu",
    "outputId": "7af247f3-0e7f-4e0c-9581-81d5f759d263"
   },
   "outputs": [
    {
     "name": "stdout",
     "output_type": "stream",
     "text": [
      "joelchan@umd.edu\n",
      ".edu\n",
      "sarah@umd.edu\n"
     ]
    }
   ],
   "source": [
    "l = [\"INST201\", \"INST126\", \"INFM322\", \"CMSC126\", \"joelchan@umd.edu\", \"joelchan\", \".edu\", \"sarah@umd.edu\"]\n",
    "for item in l:\n",
    "    if \".edu\" in item:\n",
    "        print(item)"
   ]
  },
  {
   "cell_type": "code",
   "execution_count": null,
   "metadata": {},
   "outputs": [],
   "source": []
  },
  {
   "cell_type": "markdown",
   "metadata": {
    "id": "AhUAWXgfnCgR"
   },
   "source": [
    "## Working with strings: advanced\n",
    "\n",
    "Similar to lists, there is a collection of in-built **string methods**: functions in Python that operate on strings: https://docs.python.org/3/library/stdtypes.html#string-methods"
   ]
  },
  {
   "cell_type": "code",
   "execution_count": null,
   "metadata": {
    "colab": {
     "base_uri": "https://localhost:8080/",
     "height": 1000
    },
    "executionInfo": {
     "elapsed": 573,
     "status": "ok",
     "timestamp": 1603087392532,
     "user": {
      "displayName": "Joel Chan",
      "photoUrl": "https://lh3.googleusercontent.com/a-/AOh14GiBPPpBf_QqgDL3pMurAsPu9WJJE_x_6UtgW13UFQ=s64",
      "userId": "15153559228409906865"
     },
     "user_tz": 240
    },
    "id": "UQl7Ujjmcl7k",
    "outputId": "fdc6789e-656b-442e-a487-5d114e575c95"
   },
   "outputs": [
    {
     "data": {
      "text/plain": [
       "['__add__',\n",
       " '__class__',\n",
       " '__contains__',\n",
       " '__delattr__',\n",
       " '__dir__',\n",
       " '__doc__',\n",
       " '__eq__',\n",
       " '__format__',\n",
       " '__ge__',\n",
       " '__getattribute__',\n",
       " '__getitem__',\n",
       " '__getnewargs__',\n",
       " '__gt__',\n",
       " '__hash__',\n",
       " '__init__',\n",
       " '__init_subclass__',\n",
       " '__iter__',\n",
       " '__le__',\n",
       " '__len__',\n",
       " '__lt__',\n",
       " '__mod__',\n",
       " '__mul__',\n",
       " '__ne__',\n",
       " '__new__',\n",
       " '__reduce__',\n",
       " '__reduce_ex__',\n",
       " '__repr__',\n",
       " '__rmod__',\n",
       " '__rmul__',\n",
       " '__setattr__',\n",
       " '__sizeof__',\n",
       " '__str__',\n",
       " '__subclasshook__',\n",
       " 'capitalize',\n",
       " 'casefold',\n",
       " 'center',\n",
       " 'count',\n",
       " 'encode',\n",
       " 'endswith',\n",
       " 'expandtabs',\n",
       " 'find',\n",
       " 'format',\n",
       " 'format_map',\n",
       " 'index',\n",
       " 'isalnum',\n",
       " 'isalpha',\n",
       " 'isdecimal',\n",
       " 'isdigit',\n",
       " 'isidentifier',\n",
       " 'islower',\n",
       " 'isnumeric',\n",
       " 'isprintable',\n",
       " 'isspace',\n",
       " 'istitle',\n",
       " 'isupper',\n",
       " 'join',\n",
       " 'ljust',\n",
       " 'lower',\n",
       " 'lstrip',\n",
       " 'maketrans',\n",
       " 'partition',\n",
       " 'replace',\n",
       " 'rfind',\n",
       " 'rindex',\n",
       " 'rjust',\n",
       " 'rpartition',\n",
       " 'rsplit',\n",
       " 'rstrip',\n",
       " 'split',\n",
       " 'splitlines',\n",
       " 'startswith',\n",
       " 'strip',\n",
       " 'swapcase',\n",
       " 'title',\n",
       " 'translate',\n",
       " 'upper',\n",
       " 'zfill']"
      ]
     },
     "execution_count": 10,
     "metadata": {
      "tags": []
     },
     "output_type": "execute_result"
    }
   ],
   "source": [
    "s = \"hello\"\n",
    "dir(s)"
   ]
  },
  {
   "cell_type": "markdown",
   "metadata": {
    "id": "zo4AqTPfnkDz"
   },
   "source": [
    "I'm not going to show you all of them, but I will talk through them and discuss some fairly common ones\n",
    "\n",
    "No need to memorize them – just know:\n",
    "- There are many methods that allow you to do things with strings – if you want to do something, first search for that method! It’s often way more efficient/bug-free than what you’ll write (even after you get good)\n",
    "- Where to find the exact code for it, how to figure out how they work\n",
    "\n",
    "More importantly, I want you to pracice reading documentation, get a sense of how to use functions (code that other people have written that you can reuse): what are the parameters? return values? what can you learn from examples? how do you learn how to use it appropriately in your own code?\n"
   ]
  },
  {
   "cell_type": "code",
   "execution_count": 23,
   "metadata": {
    "id": "Si15yA88dXn2"
   },
   "outputs": [],
   "source": [
    "def is_url(s):\n",
    "    return \"http\" in s"
   ]
  },
  {
   "cell_type": "code",
   "execution_count": 24,
   "metadata": {},
   "outputs": [
    {
     "data": {
      "text/plain": [
       "True"
      ]
     },
     "execution_count": 24,
     "metadata": {},
     "output_type": "execute_result"
    }
   ],
   "source": [
    "s = \"https://docs.google.com/document/d/1mzvN-qI0gvKF-oCSbRm_Ecgb_5pxqz66mTRENNTMwGI/edit\"\n",
    "is_url(s)"
   ]
  },
  {
   "cell_type": "markdown",
   "metadata": {
    "id": "qOuLDRAv1P4E"
   },
   "source": [
    "### Checking a string"
   ]
  },
  {
   "cell_type": "code",
   "execution_count": 25,
   "metadata": {
    "colab": {
     "base_uri": "https://localhost:8080/"
    },
    "executionInfo": {
     "elapsed": 260,
     "status": "ok",
     "timestamp": 1616420998303,
     "user": {
      "displayName": "Joel Chan",
      "photoUrl": "https://lh3.googleusercontent.com/a-/AOh14GiBPPpBf_QqgDL3pMurAsPu9WJJE_x_6UtgW13UFQ=s64",
      "userId": "15153559228409906865"
     },
     "user_tz": 240
    },
    "id": "5eO8f23OBonj",
    "outputId": "e144c5fa-82b1-4980-80e9-03859b7bcbf6"
   },
   "outputs": [
    {
     "name": "stdout",
     "output_type": "stream",
     "text": [
      "One of the input strings contains non-digits!\n"
     ]
    }
   ],
   "source": [
    "# we want to do math\n",
    "a = \" 123\"\n",
    "b = \"567\"\n",
    "# but first we want to make sure the strings are all numbers before we convert them\n",
    "if a.isdigit() and b.isdigit():\n",
    "    a = int(a)\n",
    "    b = int(b)\n",
    "    print(a*b)\n",
    "else:\n",
    "    print(\"One of the input strings contains non-digits!\")"
   ]
  },
  {
   "cell_type": "code",
   "execution_count": null,
   "metadata": {
    "colab": {
     "base_uri": "https://localhost:8080/"
    },
    "executionInfo": {
     "elapsed": 444,
     "status": "ok",
     "timestamp": 1616421309905,
     "user": {
      "displayName": "Joel Chan",
      "photoUrl": "https://lh3.googleusercontent.com/a-/AOh14GiBPPpBf_QqgDL3pMurAsPu9WJJE_x_6UtgW13UFQ=s64",
      "userId": "15153559228409906865"
     },
     "user_tz": 240
    },
    "id": "5Dov7m3gM37P",
    "outputId": "60ae4cdd-b5ae-4d25-e5d6-8b487e7687ef"
   },
   "outputs": [
    {
     "name": "stdout",
     "output_type": "stream",
     "text": [
      "INST201\n",
      "INST126\n"
     ]
    }
   ],
   "source": [
    "l = [\"INST201\", \"INST126\", \"INFM322\", \"CMSC126\", \"joelchan@umd.edu\", \"joelchan\", \".edu\", \"sarah@umd.edu\"]\n",
    "# get all the strings that start with INST\n",
    "for item in l:\n",
    "    if item.startswith(\"INST\"):\n",
    "        print(item)"
   ]
  },
  {
   "cell_type": "code",
   "execution_count": null,
   "metadata": {
    "colab": {
     "base_uri": "https://localhost:8080/"
    },
    "executionInfo": {
     "elapsed": 693,
     "status": "ok",
     "timestamp": 1616421487506,
     "user": {
      "displayName": "Joel Chan",
      "photoUrl": "https://lh3.googleusercontent.com/a-/AOh14GiBPPpBf_QqgDL3pMurAsPu9WJJE_x_6UtgW13UFQ=s64",
      "userId": "15153559228409906865"
     },
     "user_tz": 240
    },
    "id": "gyogA4MOOKP8",
    "outputId": "aeec85ae-5a78-450c-8815-44c5ccc9c331"
   },
   "outputs": [
    {
     "name": "stdout",
     "output_type": "stream",
     "text": [
      "INST126\n",
      "CMSC126\n",
      "CHDG101\n"
     ]
    }
   ],
   "source": [
    "l = [\"INST201\", \"INST126\", \"INFM322\", \"CMSC126\", \"joelchan@umd.edu\", \"joelchan\", \"CHDG101\", \"sarah@umd.edu\"]\n",
    "for item in l:\n",
    "    if item.startswith(\"1\", 4): # get the 100 level courses by checking if the part of the string that starts at position 4 starts with the character 1\n",
    "        print(item)"
   ]
  },
  {
   "cell_type": "markdown",
   "metadata": {
    "id": "auhlHU1h1KdI"
   },
   "source": [
    "### Changing a string"
   ]
  },
  {
   "cell_type": "markdown",
   "metadata": {
    "id": "cCK7NZDqd0g3"
   },
   "source": [
    "#### \"Cleaning\" / normalizing a string\n",
    "\n",
    "Often we get data in string form, and we need to make sure it conforms to our expectations."
   ]
  },
  {
   "cell_type": "code",
   "execution_count": null,
   "metadata": {
    "colab": {
     "base_uri": "https://localhost:8080/"
    },
    "executionInfo": {
     "elapsed": 591,
     "status": "ok",
     "timestamp": 1616421656315,
     "user": {
      "displayName": "Joel Chan",
      "photoUrl": "https://lh3.googleusercontent.com/a-/AOh14GiBPPpBf_QqgDL3pMurAsPu9WJJE_x_6UtgW13UFQ=s64",
      "userId": "15153559228409906865"
     },
     "user_tz": 240
    },
    "id": "7ysp26d3MtqZ",
    "outputId": "e39a3644-7a3e-4099-b404-48cf56906b41"
   },
   "outputs": [
    {
     "name": "stdout",
     "output_type": "stream",
     "text": [
      "1000000\n"
     ]
    }
   ],
   "source": [
    "# need to turn into a number so I can do math with it\n",
    "sales_record = \"$1,000,000\"\n",
    "\n",
    "# with iteration\n",
    "cleaned = \"\" # initialize clean string as a blank/empty string\n",
    "# for each character int he sales record string\n",
    "for char in sales_record:\n",
    "    if char.isnumeric(): # if the character is numeric\n",
    "        cleaned += char # grab it\n",
    "print(cleaned)"
   ]
  },
  {
   "cell_type": "code",
   "execution_count": null,
   "metadata": {
    "colab": {
     "base_uri": "https://localhost:8080/"
    },
    "executionInfo": {
     "elapsed": 662,
     "status": "ok",
     "timestamp": 1616421743178,
     "user": {
      "displayName": "Joel Chan",
      "photoUrl": "https://lh3.googleusercontent.com/a-/AOh14GiBPPpBf_QqgDL3pMurAsPu9WJJE_x_6UtgW13UFQ=s64",
      "userId": "15153559228409906865"
     },
     "user_tz": 240
    },
    "id": "QM1jyuqae2zD",
    "outputId": "ef7c48da-b7b7-4efc-b0d5-a675de8fd1af"
   },
   "outputs": [
    {
     "name": "stdout",
     "output_type": "stream",
     "text": [
      "1000000\n"
     ]
    }
   ],
   "source": [
    "# can use .replace() if you know in advance which characters you want to strip out\n",
    "sales_record = \"$1,000,000\"\n",
    "cleaned = sales_record.replace(\"$\", \"\").replace(\",\", \"\")\n",
    "print(cleaned)"
   ]
  },
  {
   "cell_type": "code",
   "execution_count": 1,
   "metadata": {
    "colab": {
     "base_uri": "https://localhost:8080/"
    },
    "executionInfo": {
     "elapsed": 1023,
     "status": "ok",
     "timestamp": 1618840742977,
     "user": {
      "displayName": "Joel Chan",
      "photoUrl": "https://lh3.googleusercontent.com/a-/AOh14GiBPPpBf_QqgDL3pMurAsPu9WJJE_x_6UtgW13UFQ=s64",
      "userId": "15153559228409906865"
     },
     "user_tz": 240
    },
    "id": "fAtLRfzUeV8d",
    "outputId": "d0a4ab1f-1d14-4d80-9749-eef5d135ac7c"
   },
   "outputs": [
    {
     "name": "stdout",
     "output_type": "stream",
     "text": [
      " Josh Lyman\n",
      "JOSH LYMAN\n",
      "False\n",
      "JOSH LYMAN\n",
      "JOSH LYMAN\n",
      "True\n"
     ]
    }
   ],
   "source": [
    "def normalize_string(s):\n",
    "      return s.upper().strip() # convert the string to upper case and remove leading and trailing blank spaces\n",
    "\n",
    "# need to make sure it's normalized and we remove all weird stuff\n",
    "n = \" Josh Lyman\"\n",
    "m = \"JOSH LYMAN\"\n",
    "print(n)\n",
    "print(m)\n",
    "print(n == m)\n",
    "n_normal = normalize_string(n)\n",
    "m_normal = normalize_string(m)\n",
    "print(n_normal)\n",
    "print(m_normal)\n",
    "print(n_normal == m_normal)\n"
   ]
  },
  {
   "cell_type": "markdown",
   "metadata": {
    "id": "l791Q1ofejDn"
   },
   "source": [
    "#### \"Parsing\" a string (getting specific bits we want)\n",
    "\n",
    "You can do this if you know there is some *separator* that you can rely on to divide the string into the \"bits\" you want.\n",
    "\n",
    "Examples:\n",
    "- Parse an email\n",
    "- Parse a URL\n",
    "- Parse a sentence into words!\n",
    "- Parse a time stamp\n",
    "\n",
    "These all use the `.split()` method."
   ]
  },
  {
   "cell_type": "code",
   "execution_count": null,
   "metadata": {
    "colab": {
     "base_uri": "https://localhost:8080/"
    },
    "executionInfo": {
     "elapsed": 341,
     "status": "ok",
     "timestamp": 1616422158432,
     "user": {
      "displayName": "Joel Chan",
      "photoUrl": "https://lh3.googleusercontent.com/a-/AOh14GiBPPpBf_QqgDL3pMurAsPu9WJJE_x_6UtgW13UFQ=s64",
      "userId": "15153559228409906865"
     },
     "user_tz": 240
    },
    "id": "EvjjSQQ_fCMw",
    "outputId": "76b3e89c-ff03-46ff-dcc7-7d15af0283f7"
   },
   "outputs": [
    {
     "name": "stdout",
     "output_type": "stream",
     "text": [
      "['joelchan', 'umd.edu']\n",
      "umd.edu\n"
     ]
    }
   ],
   "source": [
    "email = \"joelchan@umd.edu\"\n",
    "# we want only the domain and server\n",
    "elements = email.split(\"@\")\n",
    "print(elements)\n",
    "domainserver = elements[1] # domain server is the 2nd element in the split\n",
    "print(domainserver)"
   ]
  },
  {
   "cell_type": "code",
   "execution_count": null,
   "metadata": {
    "colab": {
     "base_uri": "https://localhost:8080/"
    },
    "executionInfo": {
     "elapsed": 982,
     "status": "ok",
     "timestamp": 1616422627213,
     "user": {
      "displayName": "Joel Chan",
      "photoUrl": "https://lh3.googleusercontent.com/a-/AOh14GiBPPpBf_QqgDL3pMurAsPu9WJJE_x_6UtgW13UFQ=s64",
      "userId": "15153559228409906865"
     },
     "user_tz": 240
    },
    "id": "QoZ0e0J3SfZz",
    "outputId": "a9832321-fefb-4acd-90ea-a99e8b8054de"
   },
   "outputs": [
    {
     "name": "stdout",
     "output_type": "stream",
     "text": [
      "edu\n"
     ]
    }
   ],
   "source": [
    "email = \"joelchan@umd.edu\"\n",
    "# if we only want the domain (.edu), we can do a multiple split\n",
    "split1 = email.split(\"@\") # split the email by the @ separator\n",
    "domainserver = split1[1] # grab the second item\n",
    "split2 = domainserver.split(\".\") # split that second item by the . separator\n",
    "domain = split2[1] # get the second item from that one\n",
    "print(domain)"
   ]
  },
  {
   "cell_type": "code",
   "execution_count": null,
   "metadata": {
    "colab": {
     "base_uri": "https://localhost:8080/"
    },
    "executionInfo": {
     "elapsed": 351,
     "status": "ok",
     "timestamp": 1616422309118,
     "user": {
      "displayName": "Joel Chan",
      "photoUrl": "https://lh3.googleusercontent.com/a-/AOh14GiBPPpBf_QqgDL3pMurAsPu9WJJE_x_6UtgW13UFQ=s64",
      "userId": "15153559228409906865"
     },
     "user_tz": 240
    },
    "id": "OCTlaNFMRaa7",
    "outputId": "b15685e7-3066-40ff-e4c2-b15c87d50dc7"
   },
   "outputs": [
    {
     "name": "stdout",
     "output_type": "stream",
     "text": [
      "['', '@umd.edu']\n"
     ]
    }
   ],
   "source": [
    "email = \"joelchan@umd.edu\"\n",
    "elements = email.split(\"joelchan\")\n",
    "print(elements)"
   ]
  },
  {
   "cell_type": "code",
   "execution_count": null,
   "metadata": {
    "colab": {
     "base_uri": "https://localhost:8080/"
    },
    "executionInfo": {
     "elapsed": 317,
     "status": "ok",
     "timestamp": 1616422197602,
     "user": {
      "displayName": "Joel Chan",
      "photoUrl": "https://lh3.googleusercontent.com/a-/AOh14GiBPPpBf_QqgDL3pMurAsPu9WJJE_x_6UtgW13UFQ=s64",
      "userId": "15153559228409906865"
     },
     "user_tz": 240
    },
    "id": "BEIMAWhRf0a-",
    "outputId": "6a9e1cad-6818-4ad9-aecc-f72f25c80f4b"
   },
   "outputs": [
    {
     "name": "stdout",
     "output_type": "stream",
     "text": [
      "['www', 'ischool', 'umd', 'edu']\n",
      "edu\n"
     ]
    }
   ],
   "source": [
    "url = \"www.ischool.umd.edu\"\n",
    "elements = url.split(\".\")\n",
    "print(elements)\n",
    "domain = elements[-1]\n",
    "print(domain)"
   ]
  },
  {
   "cell_type": "code",
   "execution_count": null,
   "metadata": {
    "colab": {
     "base_uri": "https://localhost:8080/"
    },
    "executionInfo": {
     "elapsed": 279,
     "status": "ok",
     "timestamp": 1616422408355,
     "user": {
      "displayName": "Joel Chan",
      "photoUrl": "https://lh3.googleusercontent.com/a-/AOh14GiBPPpBf_QqgDL3pMurAsPu9WJJE_x_6UtgW13UFQ=s64",
      "userId": "15153559228409906865"
     },
     "user_tz": 240
    },
    "id": "RZ4TzZ9Tf-1_",
    "outputId": "984c0f7d-9820-47e6-bf32-1d0d3388eb95"
   },
   "outputs": [
    {
     "name": "stdout",
     "output_type": "stream",
     "text": [
      "['13', '30', '31']\n",
      "13\n",
      "30\n",
      "31\n"
     ]
    }
   ],
   "source": [
    "timestamp = \"13:30:31\"\n",
    "elements = timestamp.split(\":\")\n",
    "print(elements)\n",
    "# get the hour\n",
    "hour = elements[0]\n",
    "minute = elements[1]\n",
    "seconds = elements[2]\n",
    "print(hour)\n",
    "print(minute)\n",
    "print(seconds)"
   ]
  },
  {
   "cell_type": "code",
   "execution_count": null,
   "metadata": {
    "colab": {
     "base_uri": "https://localhost:8080/"
    },
    "executionInfo": {
     "elapsed": 667,
     "status": "ok",
     "timestamp": 1616422472590,
     "user": {
      "displayName": "Joel Chan",
      "photoUrl": "https://lh3.googleusercontent.com/a-/AOh14GiBPPpBf_QqgDL3pMurAsPu9WJJE_x_6UtgW13UFQ=s64",
      "userId": "15153559228409906865"
     },
     "user_tz": 240
    },
    "id": "VUhukoeogUjM",
    "outputId": "0b89a884-bc79-450c-d0a1-5150b3f5e51f"
   },
   "outputs": [
    {
     "name": "stdout",
     "output_type": "stream",
     "text": [
      "['She', 'sells', 'seashells', 'by', 'the', 'sea', 'shore,', 'with', 'sea', 'in', 'the', 'wind,', 'and', 'sea', 'in', 'my', 'shoes']\n"
     ]
    }
   ],
   "source": [
    "message = \"She sells seashells by the sea shore, with sea in the wind, and sea in my shoes\"\n",
    "words = message.split(\" \")\n",
    "print(words)"
   ]
  },
  {
   "cell_type": "code",
   "execution_count": null,
   "metadata": {
    "colab": {
     "base_uri": "https://localhost:8080/",
     "height": 34
    },
    "executionInfo": {
     "elapsed": 423,
     "status": "ok",
     "timestamp": 1603121943419,
     "user": {
      "displayName": "Joel Chan",
      "photoUrl": "https://lh3.googleusercontent.com/a-/AOh14GiBPPpBf_QqgDL3pMurAsPu9WJJE_x_6UtgW13UFQ=s64",
      "userId": "15153559228409906865"
     },
     "user_tz": 240
    },
    "id": "gmohNdvQgwIR",
    "outputId": "f5f01125-f84c-41e9-92d6-a75cf7f1f48c"
   },
   "outputs": [
    {
     "data": {
      "text/plain": [
       "4"
      ]
     },
     "execution_count": 48,
     "metadata": {
      "tags": []
     },
     "output_type": "execute_result"
    }
   ],
   "source": [
    "# simpler way to count occurrences of a substring\n",
    "message.count(\"sea\")"
   ]
  },
  {
   "cell_type": "code",
   "execution_count": null,
   "metadata": {
    "colab": {
     "base_uri": "https://localhost:8080/",
     "height": 87
    },
    "executionInfo": {
     "elapsed": 721,
     "status": "ok",
     "timestamp": 1603122070649,
     "user": {
      "displayName": "Joel Chan",
      "photoUrl": "https://lh3.googleusercontent.com/a-/AOh14GiBPPpBf_QqgDL3pMurAsPu9WJJE_x_6UtgW13UFQ=s64",
      "userId": "15153559228409906865"
     },
     "user_tz": 240
    },
    "id": "AjVcHYs0g-Vh",
    "outputId": "55c09cd6-96dc-4a58-cc12-188bb787856c"
   },
   "outputs": [
    {
     "name": "stdout",
     "output_type": "stream",
     "text": [
      "['joelchan', 'umd.edu']\n",
      "joelchan\n",
      "['umd', 'edu']\n",
      "joelchan umd edu\n"
     ]
    }
   ],
   "source": [
    "email = \"joelchan@umd.edu\"\n",
    "# we want all the elements\n",
    "# first split into username and domain and server\n",
    "elements = email.split(\"@\")\n",
    "print(elements)\n",
    "username = elements[0]\n",
    "print(username)\n",
    "other_elements = elements[1].split(\".\")\n",
    "print(other_elements)\n",
    "servername = other_elements[0]\n",
    "domainname = other_elements[1]\n",
    "print(username, servername, domainname)"
   ]
  },
  {
   "cell_type": "markdown",
   "metadata": {
    "id": "dHLcanphdr9p"
   },
   "source": [
    "## REMEMBER: STRINGS ARE IMMUTABLE"
   ]
  },
  {
   "cell_type": "markdown",
   "metadata": {
    "id": "hexZdUb0M71q"
   },
   "source": [
    "Note! Unlike lists, string methods return a new object (and do not modify the original string), since strings are immutable\n",
    "\n",
    "This means if you don't assign the return value of the string method to a new variable, the change will be **lost**. Remember this!"
   ]
  },
  {
   "cell_type": "code",
   "execution_count": null,
   "metadata": {
    "colab": {
     "base_uri": "https://localhost:8080/"
    },
    "executionInfo": {
     "elapsed": 476,
     "status": "ok",
     "timestamp": 1616422794367,
     "user": {
      "displayName": "Joel Chan",
      "photoUrl": "https://lh3.googleusercontent.com/a-/AOh14GiBPPpBf_QqgDL3pMurAsPu9WJJE_x_6UtgW13UFQ=s64",
      "userId": "15153559228409906865"
     },
     "user_tz": 240
    },
    "id": "_yWoqUBuTeY2",
    "outputId": "e2513fc9-1e79-4294-d29d-761b831e4439"
   },
   "outputs": [
    {
     "name": "stdout",
     "output_type": "stream",
     "text": [
      "hello Hello\n"
     ]
    }
   ],
   "source": [
    "a = \"hello\"\n",
    "b = \"Hello\"\n",
    "a.lower()\n",
    "b.lower()\n",
    "a == b\n",
    "print(a, b)"
   ]
  },
  {
   "cell_type": "code",
   "execution_count": null,
   "metadata": {
    "colab": {
     "base_uri": "https://localhost:8080/"
    },
    "executionInfo": {
     "elapsed": 441,
     "status": "ok",
     "timestamp": 1616422938804,
     "user": {
      "displayName": "Joel Chan",
      "photoUrl": "https://lh3.googleusercontent.com/a-/AOh14GiBPPpBf_QqgDL3pMurAsPu9WJJE_x_6UtgW13UFQ=s64",
      "userId": "15153559228409906865"
     },
     "user_tz": 240
    },
    "id": "wMrfJcr1TqUi",
    "outputId": "78227729-1052-45d8-e7a5-217d029194c0"
   },
   "outputs": [
    {
     "name": "stdout",
     "output_type": "stream",
     "text": [
      "hello hello\n"
     ]
    }
   ],
   "source": [
    "a = \"hello\"\n",
    "b = \"Hello\"\n",
    "a = a.lower()\n",
    "b = b.lower()\n",
    "a == b\n",
    "print(a, b)"
   ]
  },
  {
   "cell_type": "code",
   "execution_count": null,
   "metadata": {
    "colab": {
     "base_uri": "https://localhost:8080/"
    },
    "executionInfo": {
     "elapsed": 397,
     "status": "ok",
     "timestamp": 1616422865120,
     "user": {
      "displayName": "Joel Chan",
      "photoUrl": "https://lh3.googleusercontent.com/a-/AOh14GiBPPpBf_QqgDL3pMurAsPu9WJJE_x_6UtgW13UFQ=s64",
      "userId": "15153559228409906865"
     },
     "user_tz": 240
    },
    "id": "1JvumOvjdoll",
    "outputId": "4f195ac6-4196-41d0-ded7-8f5570f6f27e"
   },
   "outputs": [
    {
     "name": "stdout",
     "output_type": "stream",
     "text": [
      "Hello, my name is Inigo Montoya\n",
      "hello, my name is MYSTERY montoya\n"
     ]
    }
   ],
   "source": [
    "message = \"Hello, my name is Inigo Montoya\"\n",
    "print(message)\n",
    "# let's check if the message mentions my name!\n",
    "message = message.lower() # change to lower case\n",
    "message = message.replace(\"inigo\", \"MYSTERY\")\n",
    "print(message)"
   ]
  },
  {
   "cell_type": "markdown",
   "metadata": {
    "id": "ycHWzKopfIxh"
   },
   "source": [
    "## String formatting\n",
    "\n",
    "So far we've taken strings as given, and we often specify a string directly. But frequently it is useful to compose a string programmatically, from variables.\n",
    "\n",
    "Often this is done for debugging (to read the state of your program at various steps), but often this is used as outputs of your program, intermediate or final.\n",
    "\n",
    "Here's an example"
   ]
  },
  {
   "cell_type": "code",
   "execution_count": 2,
   "metadata": {},
   "outputs": [
    {
     "name": "stdout",
     "output_type": "stream",
     "text": [
      "Hello Joel, my name is Sarah!\n"
     ]
    }
   ],
   "source": [
    "msg = \"hello\"\n",
    "name = \"sarah\"\n",
    "friend = \"joel\"\n",
    "output = f\"{msg.title()} {friend.title()}, my name is {name.title()}!\"\n",
    "print(output)"
   ]
  },
  {
   "cell_type": "code",
   "execution_count": 4,
   "metadata": {},
   "outputs": [
    {
     "name": "stdout",
     "output_type": "stream",
     "text": [
      "sorry that wasn't right, sarah, you have 5 attempts left\n"
     ]
    }
   ],
   "source": [
    "#print out a message that says\n",
    "#sorry that wasn't right, a person's name, you ahve some number of tries left\n",
    "name = \"sarah\"\n",
    "attempts = 5\n",
    "output = f\"sorry that wasn't right, {name}, you have {attempts} attempts left\"\n",
    "print(output)"
   ]
  },
  {
   "cell_type": "code",
   "execution_count": null,
   "metadata": {
    "colab": {
     "base_uri": "https://localhost:8080/"
    },
    "executionInfo": {
     "elapsed": 414,
     "status": "ok",
     "timestamp": 1616423001539,
     "user": {
      "displayName": "Joel Chan",
      "photoUrl": "https://lh3.googleusercontent.com/a-/AOh14GiBPPpBf_QqgDL3pMurAsPu9WJJE_x_6UtgW13UFQ=s64",
      "userId": "15153559228409906865"
     },
     "user_tz": 240
    },
    "id": "A0opYZNufece",
    "outputId": "5635bda6-76b4-4a24-db6c-64e024eed410"
   },
   "outputs": [
    {
     "name": "stdout",
     "output_type": "stream",
     "text": [
      "Processing the item at index 0: $100\n",
      "$100\n",
      "Processing the item at index 1: $250\n",
      "$250\n",
      "Processing the item at index 2: $500\n",
      "$500\n"
     ]
    }
   ],
   "source": [
    "sales = [\"$100\", \"$250\", \"$500\"]\n",
    "\n",
    "for idx, sale in enumerate(sales):\n",
    "    print(f\"Processing the item at index {idx}: {sale}\") # example of debugging/tracing statement\n",
    "    print(sale)"
   ]
  },
  {
   "cell_type": "code",
   "execution_count": null,
   "metadata": {
    "colab": {
     "base_uri": "https://localhost:8080/"
    },
    "executionInfo": {
     "elapsed": 296,
     "status": "ok",
     "timestamp": 1616423078992,
     "user": {
      "displayName": "Joel Chan",
      "photoUrl": "https://lh3.googleusercontent.com/a-/AOh14GiBPPpBf_QqgDL3pMurAsPu9WJJE_x_6UtgW13UFQ=s64",
      "userId": "15153559228409906865"
     },
     "user_tz": 240
    },
    "id": "nXO8fZEWUbtW",
    "outputId": "46ee26f4-819e-451b-fa74-124bcf79a165",
    "scrolled": true
   },
   "outputs": [
    {
     "name": "stdout",
     "output_type": "stream",
     "text": [
      "Please charge my card for $29.50\n"
     ]
    }
   ],
   "source": [
    "tip = 0.18\n",
    "check = 25.00\n",
    "total_value = check + check*tip\n",
    "print(f'Please charge my card for ${total_value:.2f}')"
   ]
  },
  {
   "cell_type": "markdown",
   "metadata": {},
   "source": [
    "This is an f string and round the value to 2 decimal places .2 float"
   ]
  },
  {
   "cell_type": "markdown",
   "metadata": {
    "id": "GA_9tposfe1e"
   },
   "source": [
    "### The basics\n",
    "Let's look in more detail. The intuition here is that you're defining a series of \"slots\" for variables. Each slot is indicated with the `{}` curly braces. And you put data / variables in them.\n",
    "\n",
    "You also indicate that you're doing this slot thing by prefixing the string with the letter `f`\n",
    "\n",
    "Here's how it looks:"
   ]
  },
  {
   "cell_type": "code",
   "execution_count": null,
   "metadata": {
    "colab": {
     "base_uri": "https://localhost:8080/"
    },
    "executionInfo": {
     "elapsed": 576,
     "status": "ok",
     "timestamp": 1616423190088,
     "user": {
      "displayName": "Joel Chan",
      "photoUrl": "https://lh3.googleusercontent.com/a-/AOh14GiBPPpBf_QqgDL3pMurAsPu9WJJE_x_6UtgW13UFQ=s64",
      "userId": "15153559228409906865"
     },
     "user_tz": 240
    },
    "id": "ifu4puc_gxdP",
    "outputId": "5839bbc7-3940-416b-8595-5e363e8f6087"
   },
   "outputs": [
    {
     "name": "stdout",
     "output_type": "stream",
     "text": [
      "Welcome, Joel!\n",
      "Welcome, Sarah!\n",
      "Welcome, Michael!\n",
      "Welcome, Kacie!\n"
     ]
    }
   ],
   "source": [
    "names = [\"Joel\", \"Sarah\", \"Michael\", \"Kacie\"]\n",
    "for name in names:\n",
    "    message = f\"Welcome, {name}!\"\n",
    "    print(message)"
   ]
  },
  {
   "cell_type": "code",
   "execution_count": null,
   "metadata": {
    "colab": {
     "base_uri": "https://localhost:8080/"
    },
    "executionInfo": {
     "elapsed": 323,
     "status": "ok",
     "timestamp": 1616423212032,
     "user": {
      "displayName": "Joel Chan",
      "photoUrl": "https://lh3.googleusercontent.com/a-/AOh14GiBPPpBf_QqgDL3pMurAsPu9WJJE_x_6UtgW13UFQ=s64",
      "userId": "15153559228409906865"
     },
     "user_tz": 240
    },
    "id": "HHQs-FMch2BG",
    "outputId": "4ac1f0d9-ecd8-47a9-e854-44e402c04983"
   },
   "outputs": [
    {
     "name": "stdout",
     "output_type": "stream",
     "text": [
      "Happy birthday, Joel! You are 35 this year!\n"
     ]
    }
   ],
   "source": [
    "birth_year = 1986\n",
    "this_year = 2021\n",
    "name = \"Joel\"\n",
    "message = f\"Happy birthday, {name}! You are {this_year - birth_year} this year!\"\n",
    "print(message)"
   ]
  },
  {
   "cell_type": "markdown",
   "metadata": {
    "id": "fHWWDssMgyLV"
   },
   "source": [
    "### Controlling the way it looks\n",
    "You can also control how the string looks! Various things like controlling how many decimal places are printed out (very useful when doing math), or how wide or indented the string is."
   ]
  },
  {
   "cell_type": "code",
   "execution_count": null,
   "metadata": {
    "colab": {
     "base_uri": "https://localhost:8080/"
    },
    "executionInfo": {
     "elapsed": 384,
     "status": "ok",
     "timestamp": 1616423310201,
     "user": {
      "displayName": "Joel Chan",
      "photoUrl": "https://lh3.googleusercontent.com/a-/AOh14GiBPPpBf_QqgDL3pMurAsPu9WJJE_x_6UtgW13UFQ=s64",
      "userId": "15153559228409906865"
     },
     "user_tz": 240
    },
    "id": "d4l5IbdPidr_",
    "outputId": "f4cd657d-9164-40cd-cc1a-542a6bdb9bf1"
   },
   "outputs": [
    {
     "name": "stdout",
     "output_type": "stream",
     "text": [
      "2 divided by 3 is 0.6667\n"
     ]
    }
   ],
   "source": [
    "# most common\n",
    "x = 2\n",
    "y = 3\n",
    "result = x/y\n",
    "message = f\"{x} divided by {y} is {result:.2f}\" # only show two decimal places for the float value of result\n",
    "print(message)"
   ]
  },
  {
   "cell_type": "markdown",
   "metadata": {
    "id": "I7ExfNqfirdv"
   },
   "source": [
    "The general design pattern here is to put a colon after and then specify some kind of formatting option. More details here: http://zetcode.com/python/fstring/"
   ]
  },
  {
   "cell_type": "code",
   "execution_count": null,
   "metadata": {
    "id": "nY6jtKGfirMi"
   },
   "outputs": [],
   "source": []
  },
  {
   "cell_type": "markdown",
   "metadata": {
    "id": "z0r8-owXkrEq"
   },
   "source": [
    "For the curious: there was a time when string formatting was done differently (but Python's creators basically tell everyone *not* to use it anymore): just pointing it out as a historical novelty in case you see it in the wild in other people's code (*cough* Joel's code *cough*).\n",
    "\n",
    "https://realpython.com/python-string-formatting/#1-old-style-string-formatting-operator"
   ]
  },
  {
   "cell_type": "markdown",
   "metadata": {
    "id": "SeGUr5d6kU11"
   },
   "source": [
    "## Questions?\n",
    "\n"
   ]
  }
 ],
 "metadata": {
  "colab": {
   "collapsed_sections": [
    "XMzCrbEgZufG",
    "cCK7NZDqd0g3",
    "ycHWzKopfIxh",
    "GA_9tposfe1e",
    "fHWWDssMgyLV"
   ],
   "name": "INST126_SP21_Week9_Strings_post-class.ipynb",
   "provenance": [],
   "toc_visible": true
  },
  "kernelspec": {
   "display_name": "Python 3 (ipykernel)",
   "language": "python",
   "name": "python3"
  },
  "language_info": {
   "codemirror_mode": {
    "name": "ipython",
    "version": 3
   },
   "file_extension": ".py",
   "mimetype": "text/x-python",
   "name": "python",
   "nbconvert_exporter": "python",
   "pygments_lexer": "ipython3",
   "version": "3.9.7"
  }
 },
 "nbformat": 4,
 "nbformat_minor": 1
}
