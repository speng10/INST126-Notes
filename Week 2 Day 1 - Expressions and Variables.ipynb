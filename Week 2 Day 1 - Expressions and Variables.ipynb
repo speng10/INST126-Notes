{
 "cells": [
  {
   "cell_type": "markdown",
   "metadata": {
    "id": "IUP5mKyTxbRy"
   },
   "source": [
    "# Week 2 - Day 1 - Expressions and Variables"
   ]
  },
  {
   "cell_type": "markdown",
   "metadata": {
    "id": "TB-Kg9GExbRz"
   },
   "source": [
    "## Learning goals for today:\n",
    "- Key concept: expressions\n",
    "    - Recognize Python expressions\n",
    "    - Recognize different data type literals\n",
    "    - Recognize what operators are used for the appropriate data types\n",
    "    - Recognize TypeErrors and common fixes\n",
    "- Key concept: variables\n",
    "    - Explain the function of variables in programs\n",
    "    - Articulate basic principles of variable naming\n",
    "    - Recognize good and bad examples of variable naming\n",
    "    - Recognize NameErrors and common fixes"
   ]
  },
  {
   "cell_type": "markdown",
   "metadata": {
    "id": "g-lkfdphxbR0"
   },
   "source": [
    "## Expressions\n",
    "\n",
    "Expressions are the basic building blocks of programs. \n",
    "\n",
    "They are chunks of Python code that **evaluate to** (yield) some value. \n",
    "\n",
    "We can chain them to create more complicated statements and programs.\n",
    "\n",
    "Here are a simple few examples."
   ]
  },
  {
   "cell_type": "code",
   "execution_count": null,
   "metadata": {
    "colab": {
     "base_uri": "https://localhost:8080/"
    },
    "executionInfo": {
     "elapsed": 412,
     "status": "ok",
     "timestamp": 1612188879665,
     "user": {
      "displayName": "Joel Chan",
      "photoUrl": "https://lh3.googleusercontent.com/a-/AOh14GiBPPpBf_QqgDL3pMurAsPu9WJJE_x_6UtgW13UFQ=s64",
      "userId": "15153559228409906865"
     },
     "user_tz": 300
    },
    "id": "444tB-HP8eo6",
    "outputId": "a4970a57-afe6-4241-c4db-2219ca15947d"
   },
   "outputs": [],
   "source": [
    "1 = [1, 2, 3, 4, 6, 10]\n",
    "for item in 1:\n",
    "    if item <6:\n",
    "        new_item = item +2\n",
    "        "
   ]
  },
  {
   "cell_type": "code",
   "execution_count": 1,
   "metadata": {
    "colab": {
     "base_uri": "https://localhost:8080/"
    },
    "executionInfo": {
     "elapsed": 441,
     "status": "ok",
     "timestamp": 1612188894328,
     "user": {
      "displayName": "Joel Chan",
      "photoUrl": "https://lh3.googleusercontent.com/a-/AOh14GiBPPpBf_QqgDL3pMurAsPu9WJJE_x_6UtgW13UFQ=s64",
      "userId": "15153559228409906865"
     },
     "user_tz": 300
    },
    "id": "GDrWEWrr8h_2",
    "outputId": "be299ce6-00dc-4501-e7ed-2f0f77d3c4a7"
   },
   "outputs": [
    {
     "data": {
      "text/plain": [
       "7"
      ]
     },
     "execution_count": 1,
     "metadata": {},
     "output_type": "execute_result"
    }
   ],
   "source": [
    "3 + 2 * 2"
   ]
  },
  {
   "cell_type": "code",
   "execution_count": 2,
   "metadata": {
    "colab": {
     "base_uri": "https://localhost:8080/"
    },
    "executionInfo": {
     "elapsed": 640,
     "status": "ok",
     "timestamp": 1612188910132,
     "user": {
      "displayName": "Joel Chan",
      "photoUrl": "https://lh3.googleusercontent.com/a-/AOh14GiBPPpBf_QqgDL3pMurAsPu9WJJE_x_6UtgW13UFQ=s64",
      "userId": "15153559228409906865"
     },
     "user_tz": 300
    },
    "id": "9XbMD7U58lC0",
    "outputId": "7839d8bc-4cff-410c-915e-1f6f7d471da7"
   },
   "outputs": [
    {
     "data": {
      "text/plain": [
       "True"
      ]
     },
     "execution_count": 2,
     "metadata": {},
     "output_type": "execute_result"
    }
   ],
   "source": [
    "3 > 1"
   ]
  },
  {
   "cell_type": "markdown",
   "metadata": {},
   "source": [
    "Now let's look at some other examples! Some might surprise you."
   ]
  },
  {
   "cell_type": "code",
   "execution_count": 3,
   "metadata": {},
   "outputs": [
    {
     "data": {
      "text/plain": [
       "1"
      ]
     },
     "execution_count": 3,
     "metadata": {},
     "output_type": "execute_result"
    }
   ],
   "source": [
    "1"
   ]
  },
  {
   "cell_type": "code",
   "execution_count": 4,
   "metadata": {},
   "outputs": [
    {
     "data": {
      "text/plain": [
       "True"
      ]
     },
     "execution_count": 4,
     "metadata": {},
     "output_type": "execute_result"
    }
   ],
   "source": [
    "3 == 3"
   ]
  },
  {
   "cell_type": "code",
   "execution_count": 5,
   "metadata": {},
   "outputs": [
    {
     "data": {
      "text/plain": [
       "5"
      ]
     },
     "execution_count": 5,
     "metadata": {},
     "output_type": "execute_result"
    }
   ],
   "source": [
    "5"
   ]
  },
  {
   "cell_type": "markdown",
   "metadata": {},
   "source": [
    "Again, expressions are chunks of Python code that **evaluate to** (yield) some value. \n",
    "\n",
    "This means that one heuristic you can use to tell if a chunk of code is an expression or not, is to test or imagine it being the last line in a cell; if it yields an output by itself, then it's an expression.\n",
    "\n",
    "Later we will see examples of Python statements that are not expressions, even though they *contain* expressions."
   ]
  },
  {
   "cell_type": "markdown",
   "metadata": {},
   "source": [
    "### Anatomy of an expression\n",
    "\n",
    "An expression is built from, at minimum a value.\n",
    "\n",
    "Like `3`, or (as we will later see), a variable that holds a value.\n",
    "\n",
    "Often, it also includes an **operator** that does something with the value(s).\n",
    "\n",
    "Like `>` or `+`.\n",
    "\n",
    "So, in:\n",
    "\n",
    "`3 + 1`\n",
    "\n",
    "The values are `3` and `1`\n",
    "\n",
    "and the operator is `+` (addition).\n",
    "\n"
   ]
  },
  {
   "cell_type": "markdown",
   "metadata": {},
   "source": [
    "### Types of operations\n",
    "\n",
    "There is a full list of operators [here](https://www.w3schools.com/python/python_operators.asp) (bookmark this!). But for this module, the main ones to focus on are\n",
    "- Arithmetic operators (for doing math): `+ - * / %`\n",
    "- Concatenation operator (for joining `str` values) `+`\n",
    "- Assignment operators (for creating and updating variables) `=`\n",
    "- Comparison operators (yield `boolean` values, used for conditionals)\n",
    "- Logical operators: `and` `or` `not` (yield `boolean` values, used for conditionals)\n",
    "\n",
    "Let's look at some examples together."
   ]
  },
  {
   "cell_type": "markdown",
   "metadata": {},
   "source": [
    "#### Arithmetic operators"
   ]
  },
  {
   "cell_type": "code",
   "execution_count": 6,
   "metadata": {},
   "outputs": [
    {
     "data": {
      "text/plain": [
       "-2"
      ]
     },
     "execution_count": 6,
     "metadata": {},
     "output_type": "execute_result"
    }
   ],
   "source": [
    "1-3"
   ]
  },
  {
   "cell_type": "markdown",
   "metadata": {},
   "source": [
    "#### Concatenation"
   ]
  },
  {
   "cell_type": "code",
   "execution_count": 7,
   "metadata": {},
   "outputs": [
    {
     "data": {
      "text/plain": [
       "'11'"
      ]
     },
     "execution_count": 7,
     "metadata": {},
     "output_type": "execute_result"
    }
   ],
   "source": [
    "\"1\" + \"1\" \n",
    "#joins two strings together, it looks at the two values, if they are strings then they connect them, if they are numbers then it will add them"
   ]
  },
  {
   "cell_type": "markdown",
   "metadata": {},
   "source": [
    "#### Assignment operators\n",
    "I'll just show some examples here, we'll discuss them in more detail in a bit."
   ]
  },
  {
   "cell_type": "code",
   "execution_count": null,
   "metadata": {},
   "outputs": [],
   "source": []
  },
  {
   "cell_type": "markdown",
   "metadata": {},
   "source": [
    "#### Comparison operators\n",
    "\n",
    "These can work with most/any data types. But the result may not always be what you expect!"
   ]
  },
  {
   "cell_type": "code",
   "execution_count": 11,
   "metadata": {},
   "outputs": [
    {
     "data": {
      "text/plain": [
       "True"
      ]
     },
     "execution_count": 11,
     "metadata": {},
     "output_type": "execute_result"
    }
   ],
   "source": [
    "\"A\" != \"a\""
   ]
  },
  {
   "cell_type": "markdown",
   "metadata": {},
   "source": [
    "#### Logical operators\n",
    "These are for logical expressions. You'll find them to be most useful when you work with conditionals"
   ]
  },
  {
   "cell_type": "code",
   "execution_count": 13,
   "metadata": {},
   "outputs": [
    {
     "data": {
      "text/plain": [
       "True"
      ]
     },
     "execution_count": 13,
     "metadata": {},
     "output_type": "execute_result"
    }
   ],
   "source": [
    "a = 5\n",
    "a < 10 or not a % 2 == 0 #or you can use != without the word not"
   ]
  },
  {
   "cell_type": "markdown",
   "metadata": {},
   "source": [
    "### Compound expressions\n",
    "\n",
    "We can build expressions from values that are... the results of expressions.\n",
    "\n",
    "We know we can do this with math."
   ]
  },
  {
   "cell_type": "code",
   "execution_count": 17,
   "metadata": {},
   "outputs": [
    {
     "data": {
      "text/plain": [
       "9"
      ]
     },
     "execution_count": 17,
     "metadata": {},
     "output_type": "execute_result"
    }
   ],
   "source": [
    "# value on the right is the *result* of the expression 1 + 2\n",
    "3 * (1 + 2)"
   ]
  },
  {
   "cell_type": "markdown",
   "metadata": {},
   "source": [
    "And it's also common with logical expressions, which are often built from comparison expressions"
   ]
  },
  {
   "cell_type": "code",
   "execution_count": 14,
   "metadata": {},
   "outputs": [
    {
     "data": {
      "text/plain": [
       "True"
      ]
     },
     "execution_count": 14,
     "metadata": {},
     "output_type": "execute_result"
    }
   ],
   "source": [
    "# is 3 greater than 2 and less than 10? \n",
    "# this will make more sense when we use variables :)\n",
    "3>2 and 3<10"
   ]
  },
  {
   "cell_type": "markdown",
   "metadata": {
    "id": "7ekV1LMozKYr"
   },
   "source": [
    "### Values have *types*\n",
    "\n",
    "To work with expressions and perform operations on them, Python needs to know what **type** of data they are.\n",
    "\n",
    "Here are some basic types of data that Python knows out of the box:\n",
    "1. `str` - strings, expressed with single quotes `'a'` or double quotes `\"a\"` (Python doesn't differentiate)\n",
    "2. `int` - integer numbers (i.e., no decimals), like `3`. For doing math.\n",
    "3. `float` - floating point numbers (i.e., with decimals), like `3.0`. For doing more precise math.\n",
    "4. `boolean` - True or False values. Important for creating logical structures in your programs (like conditionals).\n",
    "\n",
    "There are (many!) more types of values (including more complex data structures, such as lists, dictionaries, and data frames), but these will be sufficient for at least Module 1.\n",
    "\n",
    "When we give these values to Python by themselves (not in a value), we call them **literals**. Let's look at some examples."
   ]
  },
  {
   "cell_type": "code",
   "execution_count": null,
   "metadata": {},
   "outputs": [],
   "source": [
    "1"
   ]
  },
  {
   "cell_type": "code",
   "execution_count": null,
   "metadata": {},
   "outputs": [],
   "source": [
    "1.0"
   ]
  },
  {
   "cell_type": "code",
   "execution_count": null,
   "metadata": {},
   "outputs": [],
   "source": [
    "\"1\""
   ]
  },
  {
   "cell_type": "code",
   "execution_count": null,
   "metadata": {},
   "outputs": [],
   "source": [
    "\"True\""
   ]
  },
  {
   "cell_type": "code",
   "execution_count": null,
   "metadata": {},
   "outputs": [],
   "source": [
    "True"
   ]
  },
  {
   "cell_type": "markdown",
   "metadata": {},
   "source": [
    "Notice how the syntax highlighting helps us recognize the different literals. Generally, `int` and `float` are green, `strings` are red, and `booleans` are bold and green.\n",
    "\n",
    "This is worth memorizing, to help you manage data types, because as we will see next, value types constrain what kinds of operations are valid."
   ]
  },
  {
   "cell_type": "markdown",
   "metadata": {
    "id": "VNIl1rW2zLSF"
   },
   "source": [
    "### Value types constrain operators\n",
    "\n",
    "Often (but not always, expressions are built from a combination of values and some *operators* that do something with the values.\n",
    "\n",
    "Some examples:\n",
    "- You can only do math with numbers; if your numbers are actually `string`, you will run into issues\n",
    "- If you need to run Boolean logic (like test whether something is true or false), you need to have `boolean` values\n",
    "\n",
    "Let's do a couple together. Follow along!"
   ]
  },
  {
   "cell_type": "code",
   "execution_count": 7,
   "metadata": {
    "id": "6tVUEp2OGFS0"
   },
   "outputs": [
    {
     "ename": "TypeError",
     "evalue": "unsupported operand type(s) for +: 'int' and 'str'",
     "output_type": "error",
     "traceback": [
      "\u001b[1;31m---------------------------------------------------------------------------\u001b[0m",
      "\u001b[1;31mTypeError\u001b[0m                                 Traceback (most recent call last)",
      "Input \u001b[1;32mIn [7]\u001b[0m, in \u001b[0;36m<module>\u001b[1;34m\u001b[0m\n\u001b[0;32m      1\u001b[0m a \u001b[38;5;241m=\u001b[39m \u001b[38;5;241m1\u001b[39m\n\u001b[0;32m      2\u001b[0m b \u001b[38;5;241m=\u001b[39m \u001b[38;5;124m\"\u001b[39m\u001b[38;5;124m2\u001b[39m\u001b[38;5;124m\"\u001b[39m\n\u001b[1;32m----> 3\u001b[0m \u001b[43ma\u001b[49m\u001b[43m \u001b[49m\u001b[38;5;241;43m+\u001b[39;49m\u001b[43m \u001b[49m\u001b[43mb\u001b[49m\n",
      "\u001b[1;31mTypeError\u001b[0m: unsupported operand type(s) for +: 'int' and 'str'"
     ]
    }
   ],
   "source": [
    "a = 1\n",
    "b = \"2\"\n",
    "a + b"
   ]
  },
  {
   "cell_type": "markdown",
   "metadata": {},
   "source": [
    "### The TypeError"
   ]
  },
  {
   "cell_type": "markdown",
   "metadata": {},
   "source": [
    "Note how when we try to write an expression that creates an invalid combination of operators and values, we get a `TypeError` error message. This happens when it's a `syntax error` (not a valid expression/statement).\n",
    "\n",
    "But this doesn't always happen! One example of **semantic errors**:"
   ]
  },
  {
   "cell_type": "code",
   "execution_count": 11,
   "metadata": {},
   "outputs": [
    {
     "data": {
      "text/plain": [
       "'12'"
      ]
     },
     "execution_count": 11,
     "metadata": {},
     "output_type": "execute_result"
    }
   ],
   "source": [
    "# I want numbers, but I get concatenation\n",
    "# THIS HAPPENS MORE OFTEN THAN YOU WOULD THINK\n",
    "a = \"1\"\n",
    "b = \"2\"\n",
    "a + b"
   ]
  },
  {
   "cell_type": "code",
   "execution_count": 12,
   "metadata": {},
   "outputs": [
    {
     "data": {
      "text/plain": [
       "0.5"
      ]
     },
     "execution_count": 12,
     "metadata": {},
     "output_type": "execute_result"
    }
   ],
   "source": [
    "# I want decimal points, but I used ints\n",
    "# In Python 2 this used to be a silent error (you get 1 instead of 0.5), but now Python auto-converts\n",
    "a = 1\n",
    "b = 2\n",
    "a / b"
   ]
  },
  {
   "cell_type": "markdown",
   "metadata": {},
   "source": [
    "Notice the silent failure.\n",
    "\n",
    "This where you need to fall back on the other parts of computational thinking, such as problem formulation and good variable naming practices, which we will discuss next.\n",
    "\n",
    "Later in this semester, as you encounter more data value types, you will run into more `TypeErrors`, both with an error message, and without."
   ]
  },
  {
   "cell_type": "markdown",
   "metadata": {},
   "source": [
    "## Aside: anatomy of an error message"
   ]
  },
  {
   "cell_type": "markdown",
   "metadata": {},
   "source": [
    "<img src=\"../resources/anatomy of an error.png\" height=300 width=600></img>"
   ]
  },
  {
   "cell_type": "markdown",
   "metadata": {},
   "source": [
    "It's worth familiarizing yourself with this. You will be seeing a lot of this! There are clues in here that help you debug and ask for help.\n",
    "\n",
    "For example, the traceback helps you find the part in your code that *might* be causing an error. The bottom bit (type of error and description) is helpful for Googling for fixes."
   ]
  },
  {
   "cell_type": "markdown",
   "metadata": {
    "id": "PSlo2q_xxbR1"
   },
   "source": [
    "## Variables\n",
    "\n",
    "Variables are a named place in the computer's memory where a programmer can store data and later retrieve it using the variable name.\n",
    "\n",
    "Think of a variable as a box with a label on it. You can put stuff in the box, take stuff out of the box."
   ]
  },
  {
   "cell_type": "code",
   "execution_count": 15,
   "metadata": {
    "colab": {
     "base_uri": "https://localhost:8080/"
    },
    "executionInfo": {
     "elapsed": 886,
     "status": "ok",
     "timestamp": 1612190088463,
     "user": {
      "displayName": "Joel Chan",
      "photoUrl": "https://lh3.googleusercontent.com/a-/AOh14GiBPPpBf_QqgDL3pMurAsPu9WJJE_x_6UtgW13UFQ=s64",
      "userId": "15153559228409906865"
     },
     "user_tz": 300
    },
    "id": "urkfLx3WxbR2",
    "outputId": "971435f1-0e23-4b65-b944-8e071b45ba2a"
   },
   "outputs": [
    {
     "name": "stdout",
     "output_type": "stream",
     "text": [
      "x has the value  12.2\n",
      "y has the value  14\n"
     ]
    }
   ],
   "source": [
    "# for example\n",
    "x = 12.2\n",
    "y = 14\n",
    "print(\"x has the value \", x)\n",
    "print(\"y has the value \", y)"
   ]
  },
  {
   "cell_type": "code",
   "execution_count": 16,
   "metadata": {
    "colab": {
     "base_uri": "https://localhost:8080/"
    },
    "executionInfo": {
     "elapsed": 484,
     "status": "ok",
     "timestamp": 1612190099224,
     "user": {
      "displayName": "Joel Chan",
      "photoUrl": "https://lh3.googleusercontent.com/a-/AOh14GiBPPpBf_QqgDL3pMurAsPu9WJJE_x_6UtgW13UFQ=s64",
      "userId": "15153559228409906865"
     },
     "user_tz": 300
    },
    "id": "HNghM9ajxbR8",
    "outputId": "17a973da-e0bd-42d7-a36f-f9d5b0845789"
   },
   "outputs": [
    {
     "data": {
      "text/plain": [
       "26.2"
      ]
     },
     "execution_count": 16,
     "metadata": {},
     "output_type": "execute_result"
    }
   ],
   "source": [
    "x + y"
   ]
  },
  {
   "cell_type": "code",
   "execution_count": 17,
   "metadata": {
    "colab": {
     "base_uri": "https://localhost:8080/"
    },
    "executionInfo": {
     "elapsed": 690,
     "status": "ok",
     "timestamp": 1612190103847,
     "user": {
      "displayName": "Joel Chan",
      "photoUrl": "https://lh3.googleusercontent.com/a-/AOh14GiBPPpBf_QqgDL3pMurAsPu9WJJE_x_6UtgW13UFQ=s64",
      "userId": "15153559228409906865"
     },
     "user_tz": 300
    },
    "id": "A_nHTNoiXlyb",
    "outputId": "d97c58b3-3954-4e36-c4a7-367ac1e42f0b"
   },
   "outputs": [
    {
     "data": {
      "text/plain": [
       "False"
      ]
     },
     "execution_count": 17,
     "metadata": {},
     "output_type": "execute_result"
    }
   ],
   "source": [
    "x > y"
   ]
  },
  {
   "cell_type": "markdown",
   "metadata": {
    "id": "4FLSZ1VVxbSC"
   },
   "source": [
    "You can also switch out what is in the box."
   ]
  },
  {
   "cell_type": "code",
   "execution_count": 18,
   "metadata": {
    "colab": {
     "base_uri": "https://localhost:8080/"
    },
    "executionInfo": {
     "elapsed": 309,
     "status": "ok",
     "timestamp": 1612190139758,
     "user": {
      "displayName": "Joel Chan",
      "photoUrl": "https://lh3.googleusercontent.com/a-/AOh14GiBPPpBf_QqgDL3pMurAsPu9WJJE_x_6UtgW13UFQ=s64",
      "userId": "15153559228409906865"
     },
     "user_tz": 300
    },
    "id": "6enyEgoLxbSD",
    "outputId": "da61a2c5-fed9-4102-c087-8ebdb81c3fbe"
   },
   "outputs": [
    {
     "name": "stdout",
     "output_type": "stream",
     "text": [
      "x is  12.2\n",
      "x is  100\n",
      "x is  49\n"
     ]
    }
   ],
   "source": [
    "print(\"x is \", x)\n",
    "x = 100\n",
    "print(\"x is \", x)\n",
    "x = y + 35\n",
    "print(\"x is \", x)"
   ]
  },
  {
   "cell_type": "code",
   "execution_count": 19,
   "metadata": {
    "id": "bLk7nMIrBy4-"
   },
   "outputs": [],
   "source": [
    "z = 25"
   ]
  },
  {
   "cell_type": "code",
   "execution_count": 20,
   "metadata": {
    "colab": {
     "base_uri": "https://localhost:8080/"
    },
    "executionInfo": {
     "elapsed": 892,
     "status": "ok",
     "timestamp": 1612190285672,
     "user": {
      "displayName": "Joel Chan",
      "photoUrl": "https://lh3.googleusercontent.com/a-/AOh14GiBPPpBf_QqgDL3pMurAsPu9WJJE_x_6UtgW13UFQ=s64",
      "userId": "15153559228409906865"
     },
     "user_tz": 300
    },
    "id": "sSEXbs0IX_jN",
    "outputId": "09b31ceb-3347-42c3-f7cd-e79aed0dea56"
   },
   "outputs": [
    {
     "data": {
      "text/plain": [
       "39"
      ]
     },
     "execution_count": 20,
     "metadata": {},
     "output_type": "execute_result"
    }
   ],
   "source": [
    "z + y"
   ]
  },
  {
   "cell_type": "markdown",
   "metadata": {
    "id": "d_Y4nXePxbSK"
   },
   "source": [
    "### Variables are a kind of abstraction: crucial element of computational thinking\n",
    "\n",
    "Key q: what's the underlying repeating structure that I can or want to *generalize* and compose with other things?"
   ]
  },
  {
   "cell_type": "code",
   "execution_count": 21,
   "metadata": {
    "colab": {
     "base_uri": "https://localhost:8080/"
    },
    "executionInfo": {
     "elapsed": 290,
     "status": "ok",
     "timestamp": 1612190521221,
     "user": {
      "displayName": "Joel Chan",
      "photoUrl": "https://lh3.googleusercontent.com/a-/AOh14GiBPPpBf_QqgDL3pMurAsPu9WJJE_x_6UtgW13UFQ=s64",
      "userId": "15153559228409906865"
     },
     "user_tz": 300
    },
    "id": "9aaFU-ROMrIq",
    "outputId": "a8e6ef82-c412-4b20-9761-9735ea1ffa6e"
   },
   "outputs": [
    {
     "name": "stdout",
     "output_type": "stream",
     "text": [
      "6\n",
      "20\n",
      "30\n",
      "41.0\n",
      "25\n"
     ]
    }
   ],
   "source": [
    "# a machine that multiplies 2 and 3\n",
    "print(2 * 3)\n",
    "\n",
    "# a machine that multiplies 4 and 5\n",
    "print(4 * 5)\n",
    "\n",
    "# a machine that multiplies 3 and 10\n",
    "print(3 * 10)\n",
    "\n",
    "# a machine that multiplies two numbers\n",
    "x = 2\n",
    "y = 20.5\n",
    "print(x * y)\n",
    "\n",
    "# a machine that raises a number to the 2nd power\n",
    "x = 5\n",
    "print(x ** 2)"
   ]
  },
  {
   "cell_type": "code",
   "execution_count": null,
   "metadata": {
    "colab": {
     "base_uri": "https://localhost:8080/",
     "height": 87
    },
    "id": "SmpFier5M9hA",
    "outputId": "7a42f1b3-6306-48f9-ca2a-d6721a35c2ea"
   },
   "outputs": [],
   "source": [
    "# a machine that adds \"FA\" to \"hello\"\n",
    "print(\"hello\" + \"FA\")\n",
    "\n",
    "# a machine that adds \"FA\" to \"yes\"\n",
    "print(\"yes\" + \"FA\")\n",
    "\n",
    "# a machine that adds \"FA\" to \"guess\"\n",
    "print(\"guess\" + \"FA\")\n",
    "\n",
    "# a machine that adds \"FA\" to a string\n",
    "s = \"anything\"\n",
    "print(s + \"FA\")"
   ]
  },
  {
   "cell_type": "code",
   "execution_count": null,
   "metadata": {
    "colab": {
     "base_uri": "https://localhost:8080/",
     "height": 69
    },
    "id": "Ezq4dKStY_cN",
    "outputId": "1ba7ed07-8f16-461e-84d7-b0e00cac8f58"
   },
   "outputs": [],
   "source": [
    "# add \"jc\" to the end of the hello world filename\n",
    "print(\"hello-world\" + \"-jc\")\n",
    "\n",
    "# add \"jc\" to the end of each filename\n",
    "filename = \"lecture01\"\n",
    "print(filename + \"-jc\")\n",
    "\n",
    "# add \"any initial\" to the end of any filename\n",
    "filename = \"lecture01\"\n",
    "initial = \"-sp\"\n",
    "print(filename + initial)"
   ]
  },
  {
   "cell_type": "markdown",
   "metadata": {
    "id": "pD45t9R2xbSL"
   },
   "source": [
    "## Creating and updating variables\n",
    "\n",
    "We assign a value to a variable using an **assignment statement**, which consists of:\n",
    "1. An *expression* on the right-hand side that tells you what value should go in the variable,\n",
    "2. An *assignment operator* (`=`), and\n",
    "3. The *name* you want for the variable\n",
    "\n",
    "\n",
    "**NOTE THE DIFFERENCE BETWEEN `=` and `==`!!!**"
   ]
  },
  {
   "cell_type": "code",
   "execution_count": 22,
   "metadata": {
    "colab": {
     "base_uri": "https://localhost:8080/"
    },
    "executionInfo": {
     "elapsed": 332,
     "status": "ok",
     "timestamp": 1612190589748,
     "user": {
      "displayName": "Joel Chan",
      "photoUrl": "https://lh3.googleusercontent.com/a-/AOh14GiBPPpBf_QqgDL3pMurAsPu9WJJE_x_6UtgW13UFQ=s64",
      "userId": "15153559228409906865"
     },
     "user_tz": 300
    },
    "id": "vd4yM5l4xbSN",
    "outputId": "f92e1c2a-53c4-4a43-93e9-a51b769a2c2e"
   },
   "outputs": [
    {
     "data": {
      "text/plain": [
       "15"
      ]
     },
     "execution_count": 22,
     "metadata": {},
     "output_type": "execute_result"
    }
   ],
   "source": [
    "# multiply 3 by 5 and put the resulting value in the variable box labeled \"x\"\n",
    "x = 3 * 5\n",
    "x"
   ]
  },
  {
   "cell_type": "code",
   "execution_count": 25,
   "metadata": {},
   "outputs": [
    {
     "data": {
      "text/plain": [
       "'joelchan'"
      ]
     },
     "execution_count": 25,
     "metadata": {},
     "output_type": "execute_result"
    }
   ],
   "source": [
    "y = \"joel\" + \"chan\"\n",
    "y"
   ]
  },
  {
   "cell_type": "markdown",
   "metadata": {
    "id": "Q9Np6r_KxbSW"
   },
   "source": [
    "Updating a variable also happens with an assignment statement"
   ]
  },
  {
   "cell_type": "code",
   "execution_count": 23,
   "metadata": {
    "colab": {
     "base_uri": "https://localhost:8080/"
    },
    "executionInfo": {
     "elapsed": 289,
     "status": "ok",
     "timestamp": 1612190597316,
     "user": {
      "displayName": "Joel Chan",
      "photoUrl": "https://lh3.googleusercontent.com/a-/AOh14GiBPPpBf_QqgDL3pMurAsPu9WJJE_x_6UtgW13UFQ=s64",
      "userId": "15153559228409906865"
     },
     "user_tz": 300
    },
    "id": "GPGDkYswxbSY",
    "outputId": "6edf20cb-4eb3-4bdf-ea83-eb127e45c75d"
   },
   "outputs": [
    {
     "name": "stdout",
     "output_type": "stream",
     "text": [
      "x has the value 15\n",
      "x now has the value 22\n"
     ]
    }
   ],
   "source": [
    "x = 3 * 5 # create the variable x and assign its initial value\n",
    "print(\"x has the value\", x)\n",
    "x = 22 # update the value of the variable x with the value 22\n",
    "print(\"x now has the value\", x)"
   ]
  },
  {
   "cell_type": "markdown",
   "metadata": {
    "id": "55eZqziuxbSe"
   },
   "source": [
    "In some statically typed languages you can declare a variable just by writing its name and its type. But in Python you need to define it with an assignment statement."
   ]
  },
  {
   "cell_type": "code",
   "execution_count": 24,
   "metadata": {
    "colab": {
     "base_uri": "https://localhost:8080/",
     "height": 34
    },
    "id": "k49zz7k-xbSf",
    "outputId": "15a8ae8d-529a-4e8f-a923-e14e9c719008"
   },
   "outputs": [
    {
     "name": "stdout",
     "output_type": "stream",
     "text": [
      "x is hello\n"
     ]
    }
   ],
   "source": [
    "z = \"hello\"\n",
    "z\n",
    "x = z\n",
    "print(\"x is\", x)"
   ]
  },
  {
   "cell_type": "markdown",
   "metadata": {
    "id": "r1bYLzGKH3z5"
   },
   "source": [
    "## Managing \"types\" with variables"
   ]
  },
  {
   "cell_type": "markdown",
   "metadata": {
    "id": "UTTqsCe5xbSJ"
   },
   "source": [
    "Remember how we said that data types matter? Because some operators only work with certain data types?\n",
    "\n",
    "This means you need to make sure you keep track of / control what data types are going in your expressions. If you never use variables, it's a bit easier, bc you can clearly see what type the values are. \n",
    "\n",
    "But with variables, keeping track of data types can be tricky in Python. This is because Python is a **dynamically typed** language. This means that when the computer runs a Python program, it dynamically guesses the \"type\" of a variable box. It also means that the type of data that can go in a variable box is \"dynamic\" (i.e., can be changed). This removes some of the overhead to writing code, but you do need to be careful, since Python's guesses may not always match your intentions! And we know that mixing data types in statements leads to bugs.\n",
    "\n",
    "*Side note: if you've learned another programming language before, you might find this unfamiliar. For example, in Java, which is a statically typed language, you have to declare what type a variable is when you create it, and the type won't change.*"
   ]
  },
  {
   "cell_type": "markdown",
   "metadata": {},
   "source": [
    "### Find out what type a variable is with `type()`\n",
    "\n",
    "You can use the built-in function `type()` to figure out what is inside a variable."
   ]
  },
  {
   "cell_type": "code",
   "execution_count": 4,
   "metadata": {},
   "outputs": [
    {
     "name": "stdout",
     "output_type": "stream",
     "text": [
      "1 <class 'str'>\n",
      "1 <class 'int'>\n",
      "1.0 <class 'float'>\n"
     ]
    }
   ],
   "source": [
    "a = \"1\"\n",
    "b = 1\n",
    "c = 1.0\n",
    "print(a, type(a))\n",
    "print(b, type(b))\n",
    "print(c, type(c))"
   ]
  },
  {
   "cell_type": "markdown",
   "metadata": {},
   "source": [
    "And write an expression that can test this"
   ]
  },
  {
   "cell_type": "code",
   "execution_count": 6,
   "metadata": {},
   "outputs": [
    {
     "data": {
      "text/plain": [
       "True"
      ]
     },
     "execution_count": 6,
     "metadata": {},
     "output_type": "execute_result"
    }
   ],
   "source": [
    "type(a) == str"
   ]
  },
  {
   "cell_type": "markdown",
   "metadata": {
    "id": "mmFbpO79MBEZ"
   },
   "source": [
    "### \"Casting\" variables to change their type\n",
    "\n",
    "So what to do? If we really want to make sure that data types are what we expect them to be, we often use \"cast\" functions. These are the same name as data types, and they basically \"force\" a value to become a certain data type. You can pass in raw values or variables. Let's look at some common examples."
   ]
  },
  {
   "cell_type": "markdown",
   "metadata": {
    "id": "-mneEo1CJO0N"
   },
   "source": [
    "Let's go back to a common use case for this. Making sure that the data that will go in a math expression are all number types (otherwise we run into issues!)"
   ]
  },
  {
   "cell_type": "code",
   "execution_count": 26,
   "metadata": {
    "colab": {
     "base_uri": "https://localhost:8080/",
     "height": 203
    },
    "id": "Rhi0SGGUJXgC",
    "outputId": "29794555-ae17-4b42-ff4b-c46b46571466"
   },
   "outputs": [
    {
     "ename": "TypeError",
     "evalue": "unsupported operand type(s) for +: 'int' and 'str'",
     "output_type": "error",
     "traceback": [
      "\u001b[0;31m---------------------------------------------------------------------------\u001b[0m",
      "\u001b[0;31mTypeError\u001b[0m                                 Traceback (most recent call last)",
      "\u001b[0;32m/var/folders/dn/bbrktyl55qlbxbnhvk_qjb000000gn/T/ipykernel_11563/4060987595.py\u001b[0m in \u001b[0;36m<module>\u001b[0;34m\u001b[0m\n\u001b[1;32m      1\u001b[0m \u001b[0mx\u001b[0m \u001b[0;34m=\u001b[0m \u001b[0;36m3\u001b[0m\u001b[0;34m\u001b[0m\u001b[0;34m\u001b[0m\u001b[0m\n\u001b[1;32m      2\u001b[0m \u001b[0my\u001b[0m \u001b[0;34m=\u001b[0m \u001b[0;34m\"2\"\u001b[0m\u001b[0;34m\u001b[0m\u001b[0;34m\u001b[0m\u001b[0m\n\u001b[0;32m----> 3\u001b[0;31m \u001b[0mx\u001b[0m \u001b[0;34m+\u001b[0m \u001b[0my\u001b[0m\u001b[0;34m\u001b[0m\u001b[0;34m\u001b[0m\u001b[0m\n\u001b[0m",
      "\u001b[0;31mTypeError\u001b[0m: unsupported operand type(s) for +: 'int' and 'str'"
     ]
    }
   ],
   "source": [
    "x = 3\n",
    "y = \"2\"\n",
    "x + y"
   ]
  },
  {
   "cell_type": "code",
   "execution_count": 1,
   "metadata": {
    "colab": {
     "base_uri": "https://localhost:8080/",
     "height": 34
    },
    "id": "xF1VsHQ7bWSu",
    "outputId": "999b9926-62ef-4c4b-ea4a-7f4bc8d191f0"
   },
   "outputs": [
    {
     "data": {
      "text/plain": [
       "5"
      ]
     },
     "execution_count": 1,
     "metadata": {},
     "output_type": "execute_result"
    }
   ],
   "source": [
    "# if we want to do math, need to convert y to a number\n",
    "x = 3\n",
    "y = \"2\"\n",
    "if type(x) != int or type (y) !=int:\n",
    "    result =int(x) +int(y)\n",
    "else: \n",
    "    result = x + y\n",
    "result"
   ]
  },
  {
   "cell_type": "code",
   "execution_count": null,
   "metadata": {
    "colab": {
     "base_uri": "https://localhost:8080/",
     "height": 203
    },
    "id": "SMOV5fFDahAh",
    "outputId": "c6fbfcd1-d12b-47ab-ee34-48f8242ac5ab"
   },
   "outputs": [],
   "source": [
    "x = \"4\"\n",
    "y = \"50\"\n",
    "x / y"
   ]
  },
  {
   "cell_type": "code",
   "execution_count": null,
   "metadata": {
    "colab": {
     "base_uri": "https://localhost:8080/"
    },
    "executionInfo": {
     "elapsed": 580,
     "status": "ok",
     "timestamp": 1612189592247,
     "user": {
      "displayName": "Joel Chan",
      "photoUrl": "https://lh3.googleusercontent.com/a-/AOh14GiBPPpBf_QqgDL3pMurAsPu9WJJE_x_6UtgW13UFQ=s64",
      "userId": "15153559228409906865"
     },
     "user_tz": 300
    },
    "id": "jezPgHN1Un6v",
    "outputId": "7f2abe14-d14e-4d68-f8ea-3b7ea2fd1f92"
   },
   "outputs": [],
   "source": [
    "7 + 2"
   ]
  },
  {
   "cell_type": "code",
   "execution_count": null,
   "metadata": {
    "colab": {
     "base_uri": "https://localhost:8080/"
    },
    "executionInfo": {
     "elapsed": 670,
     "status": "ok",
     "timestamp": 1612190806465,
     "user": {
      "displayName": "Joel Chan",
      "photoUrl": "https://lh3.googleusercontent.com/a-/AOh14GiBPPpBf_QqgDL3pMurAsPu9WJJE_x_6UtgW13UFQ=s64",
      "userId": "15153559228409906865"
     },
     "user_tz": 300
    },
    "id": "_KXYS_L6I65R",
    "outputId": "3ae294fb-c08b-412b-c921-34e4b35bbf81"
   },
   "outputs": [],
   "source": [
    "# an int\n",
    "x = 2\n",
    "print(\"x is \", x)\n",
    "print(\"x is a \", type(x))\n",
    "# change to a str\n",
    "x = str(x)\n",
    "print(\"x is \", x)\n",
    "print(\"x is a \", type(x))\n",
    "# change to a float\n",
    "x = float(x)\n",
    "print(\"x is \", x)\n",
    "print(\"x is a \", type(x))\n",
    "x = int(x)\n",
    "print(\"x is \", x)\n",
    "print(\"x is a \", type(x))"
   ]
  },
  {
   "cell_type": "code",
   "execution_count": null,
   "metadata": {
    "colab": {
     "base_uri": "https://localhost:8080/"
    },
    "executionInfo": {
     "elapsed": 20259,
     "status": "ok",
     "timestamp": 1612190870257,
     "user": {
      "displayName": "Joel Chan",
      "photoUrl": "https://lh3.googleusercontent.com/a-/AOh14GiBPPpBf_QqgDL3pMurAsPu9WJJE_x_6UtgW13UFQ=s64",
      "userId": "15153559228409906865"
     },
     "user_tz": 300
    },
    "id": "rhhalH-XD5Fn",
    "outputId": "a09634f6-e199-45be-c2a7-35463650984f"
   },
   "outputs": [],
   "source": [
    "x = input(\"Give me a number, and I'll multiply it by 3\")\n",
    "result = x * 3\n",
    "print(result)"
   ]
  },
  {
   "cell_type": "code",
   "execution_count": null,
   "metadata": {
    "colab": {
     "base_uri": "https://localhost:8080/"
    },
    "executionInfo": {
     "elapsed": 4488,
     "status": "ok",
     "timestamp": 1612190924613,
     "user": {
      "displayName": "Joel Chan",
      "photoUrl": "https://lh3.googleusercontent.com/a-/AOh14GiBPPpBf_QqgDL3pMurAsPu9WJJE_x_6UtgW13UFQ=s64",
      "userId": "15153559228409906865"
     },
     "user_tz": 300
    },
    "id": "LWvCDgY4EOG6",
    "outputId": "6dbaff2b-f204-4ae0-8890-7e04fda8cb0f"
   },
   "outputs": [],
   "source": [
    "x = input(\"Give me a number, and I'll multiply it by 3\")\n",
    "x = int(x) # make sure it's an int\n",
    "result = x * 3\n",
    "print(result)"
   ]
  },
  {
   "cell_type": "code",
   "execution_count": null,
   "metadata": {
    "colab": {
     "base_uri": "https://localhost:8080/",
     "height": 186
    },
    "id": "hyGA3aaja9DU",
    "outputId": "52897d2b-6fb2-4652-de50-f28bc42d554b"
   },
   "outputs": [],
   "source": [
    "x = \"hello\"\n",
    "x = int(x)"
   ]
  },
  {
   "cell_type": "markdown",
   "metadata": {
    "id": "AthHxnHKzwl7"
   },
   "source": [
    "### Choosing names for your variables 2/3/22"
   ]
  },
  {
   "cell_type": "markdown",
   "metadata": {
    "id": "TnA95kuoz5hf"
   },
   "source": [
    "In terms of **syntax** (remember our division between computational thinking and coding? this is coding), there aren't a ton of restrictions for naming variables:\n",
    "- Must contain at least one letter\n",
    "- Must start with a letter or an underscore (`_`)\n",
    "- Must not be a \"reserved word\"\n",
    "  - Non-exhaustive list: `False`, `None`, `class`, `if`, `and`, `as`, `else`\n",
    "  - Full list [here](https://www.w3schools.com/python/python_ref_keywords.asp) (can also Google \"python reserved words\". Don't need to memorize (you'll naturally remember this over time), but definitely keep handy"
   ]
  },
  {
   "cell_type": "code",
   "execution_count": null,
   "metadata": {
    "id": "7ZPkauZbFCx0"
   },
   "outputs": [],
   "source": [
    "ten2 = 5"
   ]
  },
  {
   "cell_type": "code",
   "execution_count": null,
   "metadata": {
    "colab": {
     "base_uri": "https://localhost:8080/"
    },
    "executionInfo": {
     "elapsed": 277,
     "status": "ok",
     "timestamp": 1612191146085,
     "user": {
      "displayName": "Joel Chan",
      "photoUrl": "https://lh3.googleusercontent.com/a-/AOh14GiBPPpBf_QqgDL3pMurAsPu9WJJE_x_6UtgW13UFQ=s64",
      "userId": "15153559228409906865"
     },
     "user_tz": 300
    },
    "id": "xtI7oLm4FJOd",
    "outputId": "28c49056-b567-45b4-d94f-38c959a5c5a2"
   },
   "outputs": [],
   "source": [
    "ten2"
   ]
  },
  {
   "cell_type": "code",
   "execution_count": null,
   "metadata": {
    "colab": {
     "base_uri": "https://localhost:8080/",
     "height": 135
    },
    "executionInfo": {
     "elapsed": 374,
     "status": "error",
     "timestamp": 1612191107104,
     "user": {
      "displayName": "Joel Chan",
      "photoUrl": "https://lh3.googleusercontent.com/a-/AOh14GiBPPpBf_QqgDL3pMurAsPu9WJJE_x_6UtgW13UFQ=s64",
      "userId": "15153559228409906865"
     },
     "user_tz": 300
    },
    "id": "MCLhX2Q9cEBW",
    "outputId": "a2e85487-3bfb-45e9-a12c-1f108ebff8f4"
   },
   "outputs": [],
   "source": [
    "None = 6"
   ]
  },
  {
   "cell_type": "markdown",
   "metadata": {
    "id": "za3bHjsa0zCu"
   },
   "source": [
    "The more important piece is the computational thinking piece. How do you choose variable names that assist with your ability to formulate problems, model data, and debug your programs?\n",
    "\n",
    "Our **fundamental principle** here is: *choose names that make the logic of the program legible*."
   ]
  },
  {
   "cell_type": "markdown",
   "metadata": {
    "id": "WYagbMRI2R1Q"
   },
   "source": [
    "Let's look at some examples of how this plays out.\n",
    "\n",
    "Which is clearer?"
   ]
  },
  {
   "cell_type": "code",
   "execution_count": null,
   "metadata": {
    "id": "Z3-H7DPa1jf4"
   },
   "outputs": [],
   "source": [
    "a = 35.0\n",
    "b = 12.50\n",
    "c = a * b\n",
    "print(c)"
   ]
  },
  {
   "cell_type": "code",
   "execution_count": null,
   "metadata": {
    "colab": {
     "base_uri": "https://localhost:8080/"
    },
    "executionInfo": {
     "elapsed": 295,
     "status": "ok",
     "timestamp": 1612191324839,
     "user": {
      "displayName": "Joel Chan",
      "photoUrl": "https://lh3.googleusercontent.com/a-/AOh14GiBPPpBf_QqgDL3pMurAsPu9WJJE_x_6UtgW13UFQ=s64",
      "userId": "15153559228409906865"
     },
     "user_tz": 300
    },
    "id": "c25hZwjc1jUx",
    "outputId": "12442e9a-5378-45fe-b423-8997c6c7652d"
   },
   "outputs": [],
   "source": [
    "hours = 35.0\n",
    "rate = 12\n",
    "pay = hours * rate\n",
    "print(pay)"
   ]
  },
  {
   "cell_type": "markdown",
   "metadata": {
    "id": "_oNGbV9N2U8J"
   },
   "source": [
    "Which is clearer?"
   ]
  },
  {
   "cell_type": "code",
   "execution_count": null,
   "metadata": {
    "id": "Y1WJPU1mz2me"
   },
   "outputs": [],
   "source": [
    "x = \"Hello world, my name is Joel, and I am learning Python\"\n",
    "y = \"name\"\n",
    "\n",
    "for a in x.split():\n",
    "    if a == y:\n",
    "        print(\"Found!\")"
   ]
  },
  {
   "cell_type": "code",
   "execution_count": null,
   "metadata": {
    "colab": {
     "base_uri": "https://localhost:8080/"
    },
    "executionInfo": {
     "elapsed": 367,
     "status": "ok",
     "timestamp": 1612191628598,
     "user": {
      "displayName": "Joel Chan",
      "photoUrl": "https://lh3.googleusercontent.com/a-/AOh14GiBPPpBf_QqgDL3pMurAsPu9WJJE_x_6UtgW13UFQ=s64",
      "userId": "15153559228409906865"
     },
     "user_tz": 300
    },
    "id": "pkJXou6l0-xa",
    "outputId": "741d2a82-da25-4bdd-bb5a-f206991ebbda"
   },
   "outputs": [],
   "source": [
    "sentence = \"Hello world, my name is Joel, and I am learning Python\"\n",
    "keyword = \"name\"\n",
    "\n",
    "words = sentence.split()\n",
    "print(words)\n",
    "for word in words:\n",
    "    if word == keyword:\n",
    "        print(\"Found!\")"
   ]
  },
  {
   "cell_type": "markdown",
   "metadata": {
    "id": "zV8phUnb2XY7"
   },
   "source": [
    "By convention, you might see people use certain names for certain kinds of things. For example, `i` is often used to refer to a counter value\n",
    "`s` (or some variant of it) is often used to refer to a string.\n",
    "\n",
    "You should feel free to name variables whatever makes sense to you, as long as you feel they accurately signal the logic of the program they're in. Your future self (and current/future collaborators) will thank you for following this fundamental principle. You'll be surprised how often you can get unstuck simply by clarifying the names of the variables (which makes the structure of the program clearer, and the source of the problem obvious)."
   ]
  },
  {
   "cell_type": "code",
   "execution_count": 2,
   "metadata": {
    "id": "Lylb9MwAdrgJ"
   },
   "outputs": [
    {
     "data": {
      "text/plain": [
       "16.26"
      ]
     },
     "execution_count": 2,
     "metadata": {},
     "output_type": "execute_result"
    }
   ],
   "source": [
    "# example: debug a program that computes a total check with 20% tip after accounting for 7% tax\n",
    "\n",
    "a = 15.00\n",
    "b = 0.2\n",
    "c = 0.07\n",
    "\n",
    "d = c * (a + a*b)\n",
    "e = a + d\n",
    "e"
   ]
  },
  {
   "cell_type": "markdown",
   "metadata": {},
   "source": [
    "### The `NameError`"
   ]
  },
  {
   "cell_type": "markdown",
   "metadata": {},
   "source": [
    "Remember: computers (and Python) are *very literal*. Mispellings matter a lot."
   ]
  },
  {
   "cell_type": "code",
   "execution_count": 14,
   "metadata": {},
   "outputs": [
    {
     "ename": "NameError",
     "evalue": "name 'mynumber' is not defined",
     "output_type": "error",
     "traceback": [
      "\u001b[1;31m---------------------------------------------------------------------------\u001b[0m",
      "\u001b[1;31mNameError\u001b[0m                                 Traceback (most recent call last)",
      "Input \u001b[1;32mIn [14]\u001b[0m, in \u001b[0;36m<module>\u001b[1;34m\u001b[0m\n\u001b[0;32m      1\u001b[0m myNumber \u001b[38;5;241m=\u001b[39m \u001b[38;5;241m125\u001b[39m\n\u001b[0;32m      2\u001b[0m anotherNumber \u001b[38;5;241m=\u001b[39m \u001b[38;5;241m65\u001b[39m\n\u001b[1;32m----> 3\u001b[0m \u001b[43mmynumber\u001b[49m \u001b[38;5;241m+\u001b[39m anotherNumber\n",
      "\u001b[1;31mNameError\u001b[0m: name 'mynumber' is not defined"
     ]
    }
   ],
   "source": [
    "myNumber = 125\n",
    "anotherNumber = 65\n",
    "mynumber + anotherNumber"
   ]
  },
  {
   "cell_type": "markdown",
   "metadata": {},
   "source": [
    "This will happen a lot to you. It's basically this:"
   ]
  },
  {
   "cell_type": "markdown",
   "metadata": {},
   "source": [
    "<img src=\"../resources/what-huh.gif\" width=400 height=200></img>"
   ]
  },
  {
   "cell_type": "markdown",
   "metadata": {},
   "source": [
    "\"not defined\" = \"I can't find the box you're asking me to find\"\n",
    "\n",
    "Reasons this can happen:\n",
    "- You misspelled the variable\n",
    "- You forgot to run an expression that created the variable before you asked Python to do something with it\n",
    "\n",
    "For the first one, a fun tip in programming environments like this is to use the `tab` autocomplete feature."
   ]
  },
  {
   "cell_type": "code",
   "execution_count": 15,
   "metadata": {},
   "outputs": [],
   "source": [
    "number_1 = 125\n",
    "number_2 = 35"
   ]
  },
  {
   "cell_type": "code",
   "execution_count": null,
   "metadata": {},
   "outputs": [],
   "source": [
    "num"
   ]
  }
 ],
 "metadata": {
  "colab": {
   "name": "INST126_SP21_Week2_Variables_post-class.ipynb",
   "provenance": []
  },
  "kernelspec": {
   "display_name": "Python 3 (ipykernel)",
   "language": "python",
   "name": "python3"
  },
  "language_info": {
   "codemirror_mode": {
    "name": "ipython",
    "version": 3
   },
   "file_extension": ".py",
   "mimetype": "text/x-python",
   "name": "python",
   "nbconvert_exporter": "python",
   "pygments_lexer": "ipython3",
   "version": "3.9.7"
  },
  "toc": {
   "base_numbering": 1,
   "nav_menu": {},
   "number_sections": true,
   "sideBar": true,
   "skip_h1_title": false,
   "title_cell": "Table of Contents",
   "title_sidebar": "Contents",
   "toc_cell": false,
   "toc_position": {},
   "toc_section_display": true,
   "toc_window_display": false
  }
 },
 "nbformat": 4,
 "nbformat_minor": 2
}
